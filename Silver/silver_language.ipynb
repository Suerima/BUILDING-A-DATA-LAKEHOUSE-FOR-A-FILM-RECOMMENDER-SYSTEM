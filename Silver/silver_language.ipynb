{
 "cells": [
  {
   "cell_type": "code",
   "execution_count": 0,
   "metadata": {
    "application/vnd.databricks.v1+cell": {
     "cellMetadata": {},
     "inputWidgets": {},
     "nuid": "547ca61b-b792-41cc-bb53-74235cb1be8b",
     "showTitle": false,
     "title": ""
    }
   },
   "outputs": [],
   "source": [
    "# configs = {\"fs.azure.account.key.storage001de.blob.core.windows.net\": \"MA38y0ZA2Ij1L3QXl/F/Y8EGXR1VjTGb896PNbUmPT99uhVLoi0qCEiBEBagBQ4yscqwq9Zxb0vX+AStlr0Z3Q==\"}\n",
    "\n",
    "# # create mount to silver\n",
    "# dbutils.fs.mount(\n",
    "# \tsource = \"wasbs://silver@storage001de.blob.core.windows.net/\",\n",
    "# \tmount_point = \"/mnt/datalake/silver\",\n",
    "# \textra_configs = configs\n",
    "# )"
   ]
  },
  {
   "cell_type": "code",
   "execution_count": 0,
   "metadata": {
    "application/vnd.databricks.v1+cell": {
     "cellMetadata": {
      "byteLimit": 2048000,
      "rowLimit": 10000
     },
     "inputWidgets": {},
     "nuid": "4494209f-e08b-4042-9ea2-4a8e18299c4f",
     "showTitle": false,
     "title": ""
    }
   },
   "outputs": [
    {
     "output_type": "stream",
     "name": "stdout",
     "output_type": "stream",
     "text": [
      "+---+---------+----------------+\n| id|lang_code|       lang_name|\n+---+---------+----------------+\n|  1|       en|         English|\n|  2|       vi|      Vietnamese|\n|  3|       nb|Norwegian Bokmal|\n|  4|       sl|       Slovenian|\n|  5|       ro|        Romanian|\n|  6|       ka|        Georgian|\n|  7|       ur|            Urdu|\n|  8|       lv|         Latvian|\n|  9|       pl|          Polish|\n| 10|       cn|         Chinese|\n| 11|       sk|          Slovak|\n| 12|       ay|          Aymara|\n| 13|       kk|          Kazakh|\n| 14|       pt|      Portuguese|\n| 15|       tl|         Tagalog|\n| 16|       sh|  Serbo Croatian|\n| 17|       ko|          Korean|\n| 18|       ms|           Malay|\n| 19|       uk|       Ukrainian|\n| 20|       jv|        Javanese|\n+---+---------+----------------+\nonly showing top 20 rows\n\n"
     ]
    }
   ],
   "source": [
    "df_language = spark.read.csv(\"/mnt/datalake/model/language.csv\", header=True, mode=\"overwrite\")\n",
    "df_language.show()"
   ]
  },
  {
   "cell_type": "code",
   "execution_count": 0,
   "metadata": {
    "application/vnd.databricks.v1+cell": {
     "cellMetadata": {
      "byteLimit": 2048000,
      "rowLimit": 10000
     },
     "inputWidgets": {},
     "nuid": "be404574-bd8c-4f52-acfd-fe397f3defb0",
     "showTitle": false,
     "title": ""
    }
   },
   "outputs": [],
   "source": [
    "from delta.tables import *\n",
    "from pyspark.sql.functions import col, substring\n",
    "\n",
    "# #check if the silver location contain the delta table\n",
    "# if (DeltaTable.isDeltaTable(spark, movie_silverLocation)):\n",
    "#     DeltaTable.forPath(spark, movie_silverLocation).alias(\"target\").merge(\n",
    "#         source = cleaned_movie.alias(\"src\"),\n",
    "#         condition = \"target.id = src.id\"\n",
    "#     ).WhenNoMatchedInsertAll().execute()\n",
    "# else:\n",
    "\n",
    "# Define the silver location\n",
    "\n",
    "# Define the silver location\n",
    "language_silverLocation = \"/mnt/datalake/silver/cleaned_language\"\n",
    "\n",
    "# Table name\n",
    "language_silverTable = \"silver.language\"\n",
    "\n",
    "df_language.write.mode(\"overwrite\").format(\"delta\").option(\"overwriteSchema\", \"true\").save(language_silverLocation)\n"
   ]
  },
  {
   "cell_type": "code",
   "execution_count": 0,
   "metadata": {
    "application/vnd.databricks.v1+cell": {
     "cellMetadata": {
      "byteLimit": 2048000,
      "rowLimit": 10000
     },
     "inputWidgets": {},
     "nuid": "cbd32804-b56b-4ea5-a0e9-9c34dbd8b019",
     "showTitle": false,
     "title": ""
    }
   },
   "outputs": [
    {
     "output_type": "execute_result",
     "data": {
      "text/plain": [
       "DataFrame[]"
      ]
     },
     "execution_count": 61,
     "metadata": {},
     "output_type": "execute_result"
    }
   ],
   "source": [
    "# create the schema and table, if required\n",
    "# spark.databricks.delta.formatCheck.enabled false\n",
    "\n",
    "spark.sql(f\"CREATE EXTERNAL TABLE IF NOT EXISTS {language_silverTable} USING delta LOCATION '{language_silverLocation}'\")\n"
   ]
  },
  {
   "cell_type": "code",
   "execution_count": 0,
   "metadata": {
    "application/vnd.databricks.v1+cell": {
     "cellMetadata": {
      "byteLimit": 2048000,
      "rowLimit": 10000
     },
     "inputWidgets": {},
     "nuid": "62fab412-2cda-406f-8b96-8208ece83e47",
     "showTitle": false,
     "title": ""
    }
   },
   "outputs": [],
   "source": [
    "# Maintenance for Delta table\n",
    "language_DataDelta = DeltaTable.forName(spark, language_silverTable)\n",
    "\n",
    "if language_DataDelta.history(30).filter(\"operation = 'VACUUM START'\").count() == 0:\n",
    "\tlanguage_DataDelta.optimize()\n",
    "\tlanguage_DataDelta.vacuum()\n"
   ]
  },
  {
   "cell_type": "code",
   "execution_count": 0,
   "metadata": {
    "application/vnd.databricks.v1+cell": {
     "cellMetadata": {
      "byteLimit": 2048000,
      "implicitDf": true,
      "rowLimit": 10000
     },
     "inputWidgets": {},
     "nuid": "4fc1b1a7-7e46-4530-a925-2b37e1983747",
     "showTitle": false,
     "title": ""
    }
   },
   "outputs": [
    {
     "output_type": "display_data",
     "data": {
      "text/html": [
       "<style scoped>\n",
       "  .table-result-container {\n",
       "    max-height: 300px;\n",
       "    overflow: auto;\n",
       "  }\n",
       "  table, th, td {\n",
       "    border: 1px solid black;\n",
       "    border-collapse: collapse;\n",
       "  }\n",
       "  th, td {\n",
       "    padding: 5px;\n",
       "  }\n",
       "  th {\n",
       "    text-align: left;\n",
       "  }\n",
       "</style><div class='table-result-container'><table class='table-result'><thead style='background-color: white'><tr><th>version</th><th>timestamp</th><th>userId</th><th>userName</th><th>operation</th><th>operationParameters</th><th>job</th><th>notebook</th><th>clusterId</th><th>readVersion</th><th>isolationLevel</th><th>isBlindAppend</th><th>operationMetrics</th><th>userMetadata</th><th>engineInfo</th></tr></thead><tbody><tr><td>2</td><td>2023-12-17T09:00:54Z</td><td>1311347395691033</td><td>totnvt02@gmail.com</td><td>VACUUM END</td><td>Map(status -> COMPLETED)</td><td>null</td><td>List(3918195481499330)</td><td>1122-230829-ksqo7xkx</td><td>1</td><td>SnapshotIsolation</td><td>true</td><td>Map(numDeletedFiles -> 0, numVacuumedDirectories -> 1)</td><td>null</td><td>Databricks-Runtime/13.3.x-scala2.12</td></tr><tr><td>1</td><td>2023-12-17T09:00:47Z</td><td>1311347395691033</td><td>totnvt02@gmail.com</td><td>VACUUM START</td><td>Map(retentionCheckEnabled -> true, defaultRetentionMillis -> 604800000)</td><td>null</td><td>List(3918195481499330)</td><td>1122-230829-ksqo7xkx</td><td>0</td><td>SnapshotIsolation</td><td>true</td><td>Map(numFilesToDelete -> 0, sizeOfDataToDelete -> 0)</td><td>null</td><td>Databricks-Runtime/13.3.x-scala2.12</td></tr><tr><td>0</td><td>2023-12-17T08:53:52Z</td><td>1311347395691033</td><td>totnvt02@gmail.com</td><td>WRITE</td><td>Map(mode -> Overwrite, statsOnLoad -> false, partitionBy -> [])</td><td>null</td><td>List(3918195481499330)</td><td>1122-230829-ksqo7xkx</td><td>null</td><td>WriteSerializable</td><td>false</td><td>Map(numFiles -> 1, numOutputRows -> 22027, numOutputBytes -> 393476)</td><td>null</td><td>Databricks-Runtime/13.3.x-scala2.12</td></tr></tbody></table></div>"
      ]
     },
     "metadata": {
      "application/vnd.databricks.v1+output": {
       "addedWidgets": {},
       "aggData": [],
       "aggError": "",
       "aggOverflow": false,
       "aggSchema": [],
       "aggSeriesLimitReached": false,
       "aggType": "",
       "arguments": {},
       "columnCustomDisplayInfos": {},
       "data": [
        [
         2,
         "2023-12-17T09:00:54Z",
         "1311347395691033",
         "totnvt02@gmail.com",
         "VACUUM END",
         {
          "status": "COMPLETED"
         },
         null,
         [
          "3918195481499330"
         ],
         "1122-230829-ksqo7xkx",
         1,
         "SnapshotIsolation",
         true,
         {
          "numDeletedFiles": "0",
          "numVacuumedDirectories": "1"
         },
         null,
         "Databricks-Runtime/13.3.x-scala2.12"
        ],
        [
         1,
         "2023-12-17T09:00:47Z",
         "1311347395691033",
         "totnvt02@gmail.com",
         "VACUUM START",
         {
          "defaultRetentionMillis": "604800000",
          "retentionCheckEnabled": "true"
         },
         null,
         [
          "3918195481499330"
         ],
         "1122-230829-ksqo7xkx",
         0,
         "SnapshotIsolation",
         true,
         {
          "numFilesToDelete": "0",
          "sizeOfDataToDelete": "0"
         },
         null,
         "Databricks-Runtime/13.3.x-scala2.12"
        ],
        [
         0,
         "2023-12-17T08:53:52Z",
         "1311347395691033",
         "totnvt02@gmail.com",
         "WRITE",
         {
          "mode": "Overwrite",
          "partitionBy": "[]",
          "statsOnLoad": "false"
         },
         null,
         [
          "3918195481499330"
         ],
         "1122-230829-ksqo7xkx",
         null,
         "WriteSerializable",
         false,
         {
          "numFiles": "1",
          "numOutputBytes": "393476",
          "numOutputRows": "22027"
         },
         null,
         "Databricks-Runtime/13.3.x-scala2.12"
        ]
       ],
       "datasetInfos": [],
       "dbfsResultPath": null,
       "isJsonSchema": true,
       "metadata": {
        "dataframeName": "_sqldf",
        "executionCount": 63
       },
       "overflow": false,
       "plotOptions": {
        "customPlotOptions": {},
        "displayType": "table",
        "pivotAggregation": null,
        "pivotColumns": null,
        "xColumns": null,
        "yColumns": null
       },
       "removedWidgets": [],
       "schema": [
        {
         "metadata": "{}",
         "name": "version",
         "type": "\"long\""
        },
        {
         "metadata": "{}",
         "name": "timestamp",
         "type": "\"timestamp\""
        },
        {
         "metadata": "{}",
         "name": "userId",
         "type": "\"string\""
        },
        {
         "metadata": "{}",
         "name": "userName",
         "type": "\"string\""
        },
        {
         "metadata": "{}",
         "name": "operation",
         "type": "\"string\""
        },
        {
         "metadata": "{}",
         "name": "operationParameters",
         "type": "{\"type\":\"map\",\"keyType\":\"string\",\"valueType\":\"string\",\"valueContainsNull\":true}"
        },
        {
         "metadata": "{}",
         "name": "job",
         "type": "{\"type\":\"struct\",\"fields\":[{\"name\":\"jobId\",\"type\":\"string\",\"nullable\":true,\"metadata\":{}},{\"name\":\"jobName\",\"type\":\"string\",\"nullable\":true,\"metadata\":{}},{\"name\":\"jobRunId\",\"type\":\"string\",\"nullable\":true,\"metadata\":{}},{\"name\":\"runId\",\"type\":\"string\",\"nullable\":true,\"metadata\":{}},{\"name\":\"jobOwnerId\",\"type\":\"string\",\"nullable\":true,\"metadata\":{}},{\"name\":\"triggerType\",\"type\":\"string\",\"nullable\":true,\"metadata\":{}}]}"
        },
        {
         "metadata": "{}",
         "name": "notebook",
         "type": "{\"type\":\"struct\",\"fields\":[{\"name\":\"notebookId\",\"type\":\"string\",\"nullable\":true,\"metadata\":{}}]}"
        },
        {
         "metadata": "{}",
         "name": "clusterId",
         "type": "\"string\""
        },
        {
         "metadata": "{}",
         "name": "readVersion",
         "type": "\"long\""
        },
        {
         "metadata": "{}",
         "name": "isolationLevel",
         "type": "\"string\""
        },
        {
         "metadata": "{}",
         "name": "isBlindAppend",
         "type": "\"boolean\""
        },
        {
         "metadata": "{}",
         "name": "operationMetrics",
         "type": "{\"type\":\"map\",\"keyType\":\"string\",\"valueType\":\"string\",\"valueContainsNull\":true}"
        },
        {
         "metadata": "{}",
         "name": "userMetadata",
         "type": "\"string\""
        },
        {
         "metadata": "{}",
         "name": "engineInfo",
         "type": "\"string\""
        }
       ],
       "type": "table"
      }
     },
     "output_type": "display_data"
    }
   ],
   "source": [
    "%sql\n",
    "DESCRIBE HISTORY silver.company;"
   ]
  },
  {
   "cell_type": "code",
   "execution_count": 0,
   "metadata": {
    "application/vnd.databricks.v1+cell": {
     "cellMetadata": {
      "byteLimit": 2048000,
      "implicitDf": true,
      "rowLimit": 10000
     },
     "inputWidgets": {},
     "nuid": "cc338464-9454-441d-ab37-f7ac24c0c55d",
     "showTitle": false,
     "title": ""
    }
   },
   "outputs": [
    {
     "output_type": "display_data",
     "data": {
      "text/html": [
       "<style scoped>\n",
       "  .table-result-container {\n",
       "    max-height: 300px;\n",
       "    overflow: auto;\n",
       "  }\n",
       "  table, th, td {\n",
       "    border: 1px solid black;\n",
       "    border-collapse: collapse;\n",
       "  }\n",
       "  th, td {\n",
       "    padding: 5px;\n",
       "  }\n",
       "  th {\n",
       "    text-align: left;\n",
       "  }\n",
       "</style><div class='table-result-container'><table class='table-result'><thead style='background-color: white'><tr><th>id</th><th>lang_code</th><th>lang_name</th></tr></thead><tbody><tr><td>1</td><td>en</td><td>English</td></tr><tr><td>2</td><td>vi</td><td>Vietnamese</td></tr><tr><td>3</td><td>nb</td><td>Norwegian Bokmal</td></tr><tr><td>4</td><td>sl</td><td>Slovenian</td></tr><tr><td>5</td><td>ro</td><td>Romanian</td></tr><tr><td>6</td><td>ka</td><td>Georgian</td></tr><tr><td>7</td><td>ur</td><td>Urdu</td></tr><tr><td>8</td><td>lv</td><td>Latvian</td></tr><tr><td>9</td><td>pl</td><td>Polish</td></tr><tr><td>10</td><td>cn</td><td>Chinese</td></tr><tr><td>11</td><td>sk</td><td>Slovak</td></tr><tr><td>12</td><td>ay</td><td>Aymara</td></tr><tr><td>13</td><td>kk</td><td>Kazakh</td></tr><tr><td>14</td><td>pt</td><td>Portuguese</td></tr><tr><td>15</td><td>tl</td><td>Tagalog</td></tr><tr><td>16</td><td>sh</td><td>Serbo Croatian</td></tr><tr><td>17</td><td>ko</td><td>Korean</td></tr><tr><td>18</td><td>ms</td><td>Malay</td></tr><tr><td>19</td><td>uk</td><td>Ukrainian</td></tr><tr><td>20</td><td>jv</td><td>Javanese</td></tr><tr><td>21</td><td>cs</td><td>Czech</td></tr><tr><td>22</td><td>mr</td><td>Marathi</td></tr><tr><td>23</td><td>sr</td><td>Serbian</td></tr><tr><td>24</td><td>tr</td><td>Turkish</td></tr><tr><td>25</td><td>de</td><td>German</td></tr><tr><td>26</td><td>is</td><td>Icelandic</td></tr><tr><td>27</td><td>ab</td><td>Abkhazian</td></tr><tr><td>28</td><td>es</td><td>Spanish</td></tr><tr><td>29</td><td>hr</td><td>Croatian</td></tr><tr><td>30</td><td>el</td><td>Greek</td></tr><tr><td>31</td><td>it</td><td>Italian</td></tr><tr><td>32</td><td>ku</td><td>Kurdish</td></tr><tr><td>33</td><td>te</td><td>Telugu</td></tr><tr><td>34</td><td>ar</td><td>Arabic</td></tr><tr><td>35</td><td>sv</td><td>Swedish</td></tr><tr><td>36</td><td>nl</td><td>Dutch</td></tr><tr><td>37</td><td>bo</td><td>Tibetan</td></tr><tr><td>38</td><td>rw</td><td>Kinyarwanda</td></tr><tr><td>39</td><td>bn</td><td>Bengali</td></tr><tr><td>40</td><td>hu</td><td>Hungarian</td></tr><tr><td>41</td><td>mn</td><td>Mongolian</td></tr><tr><td>42</td><td>xx</td><td>Unspecified</td></tr><tr><td>43</td><td>ru</td><td>Russian</td></tr><tr><td>44</td><td>mt</td><td>Maltese</td></tr><tr><td>45</td><td>ml</td><td>Malayalam</td></tr><tr><td>46</td><td>th</td><td>Thai</td></tr><tr><td>47</td><td>mk</td><td>Macedonian</td></tr><tr><td>48</td><td>fa</td><td>Persian</td></tr><tr><td>49</td><td>no</td><td>Norwegian</td></tr><tr><td>50</td><td>bg</td><td>Bulgarian</td></tr><tr><td>51</td><td>wo</td><td>Wolof</td></tr><tr><td>52</td><td>hi</td><td>Hindi</td></tr><tr><td>53</td><td>bs</td><td>Bosnian</td></tr><tr><td>54</td><td>ta</td><td>Tamil</td></tr><tr><td>55</td><td>et</td><td>Estonian</td></tr><tr><td>56</td><td>zh</td><td>Chinese</td></tr><tr><td>57</td><td>ky</td><td>Kyrgyz</td></tr><tr><td>58</td><td>fr</td><td>French</td></tr><tr><td>59</td><td>am</td><td>Amharic</td></tr><tr><td>60</td><td>ja</td><td>Japanese</td></tr><tr><td>61</td><td>id</td><td>Indonesian</td></tr><tr><td>62</td><td>la</td><td>Latin</td></tr><tr><td>63</td><td>da</td><td>Danish</td></tr><tr><td>64</td><td>sq</td><td>Albanian</td></tr><tr><td>65</td><td>fi</td><td>Finnish</td></tr><tr><td>66</td><td>he</td><td>Hebrew</td></tr><tr><td>67</td><td>gl</td><td>Galician</td></tr><tr><td>68</td><td>eu</td><td>Basque</td></tr><tr><td>69</td><td>af</td><td>Afrikaans</td></tr><tr><td>70</td><td>kn</td><td>Kannada</td></tr><tr><td>71</td><td>ca</td><td>Catalan</td></tr><tr><td>72</td><td>tg</td><td>Tajik</td></tr><tr><td>73</td><td>lt</td><td>Lithuanian</td></tr><tr><td>74</td><td>pa</td><td>Punjabi</td></tr><tr><td>75</td><td>eo</td><td>Esperanto</td></tr><tr><td>76</td><td>sm</td><td>Samoan</td></tr><tr><td>77</td><td>lo</td><td>Lao</td></tr><tr><td>78</td><td>fy</td><td>Western Frisian</td></tr><tr><td>79</td><td>ne</td><td>Nepali</td></tr><tr><td>80</td><td>ps</td><td>Pashto</td></tr><tr><td>81</td><td>uz</td><td>Uzbek</td></tr><tr><td>82</td><td>hy</td><td>Armenian</td></tr><tr><td>83</td><td>qu</td><td>Quechua</td></tr><tr><td>84</td><td>iu</td><td>Inuktitut</td></tr><tr><td>85</td><td>zu</td><td>Zulu</td></tr><tr><td>86</td><td>bm</td><td>Bambara</td></tr></tbody></table></div>"
      ]
     },
     "metadata": {
      "application/vnd.databricks.v1+output": {
       "addedWidgets": {},
       "aggData": [],
       "aggError": "",
       "aggOverflow": false,
       "aggSchema": [],
       "aggSeriesLimitReached": false,
       "aggType": "",
       "arguments": {},
       "columnCustomDisplayInfos": {},
       "data": [
        [
         "1",
         "en",
         "English"
        ],
        [
         "2",
         "vi",
         "Vietnamese"
        ],
        [
         "3",
         "nb",
         "Norwegian Bokmal"
        ],
        [
         "4",
         "sl",
         "Slovenian"
        ],
        [
         "5",
         "ro",
         "Romanian"
        ],
        [
         "6",
         "ka",
         "Georgian"
        ],
        [
         "7",
         "ur",
         "Urdu"
        ],
        [
         "8",
         "lv",
         "Latvian"
        ],
        [
         "9",
         "pl",
         "Polish"
        ],
        [
         "10",
         "cn",
         "Chinese"
        ],
        [
         "11",
         "sk",
         "Slovak"
        ],
        [
         "12",
         "ay",
         "Aymara"
        ],
        [
         "13",
         "kk",
         "Kazakh"
        ],
        [
         "14",
         "pt",
         "Portuguese"
        ],
        [
         "15",
         "tl",
         "Tagalog"
        ],
        [
         "16",
         "sh",
         "Serbo Croatian"
        ],
        [
         "17",
         "ko",
         "Korean"
        ],
        [
         "18",
         "ms",
         "Malay"
        ],
        [
         "19",
         "uk",
         "Ukrainian"
        ],
        [
         "20",
         "jv",
         "Javanese"
        ],
        [
         "21",
         "cs",
         "Czech"
        ],
        [
         "22",
         "mr",
         "Marathi"
        ],
        [
         "23",
         "sr",
         "Serbian"
        ],
        [
         "24",
         "tr",
         "Turkish"
        ],
        [
         "25",
         "de",
         "German"
        ],
        [
         "26",
         "is",
         "Icelandic"
        ],
        [
         "27",
         "ab",
         "Abkhazian"
        ],
        [
         "28",
         "es",
         "Spanish"
        ],
        [
         "29",
         "hr",
         "Croatian"
        ],
        [
         "30",
         "el",
         "Greek"
        ],
        [
         "31",
         "it",
         "Italian"
        ],
        [
         "32",
         "ku",
         "Kurdish"
        ],
        [
         "33",
         "te",
         "Telugu"
        ],
        [
         "34",
         "ar",
         "Arabic"
        ],
        [
         "35",
         "sv",
         "Swedish"
        ],
        [
         "36",
         "nl",
         "Dutch"
        ],
        [
         "37",
         "bo",
         "Tibetan"
        ],
        [
         "38",
         "rw",
         "Kinyarwanda"
        ],
        [
         "39",
         "bn",
         "Bengali"
        ],
        [
         "40",
         "hu",
         "Hungarian"
        ],
        [
         "41",
         "mn",
         "Mongolian"
        ],
        [
         "42",
         "xx",
         "Unspecified"
        ],
        [
         "43",
         "ru",
         "Russian"
        ],
        [
         "44",
         "mt",
         "Maltese"
        ],
        [
         "45",
         "ml",
         "Malayalam"
        ],
        [
         "46",
         "th",
         "Thai"
        ],
        [
         "47",
         "mk",
         "Macedonian"
        ],
        [
         "48",
         "fa",
         "Persian"
        ],
        [
         "49",
         "no",
         "Norwegian"
        ],
        [
         "50",
         "bg",
         "Bulgarian"
        ],
        [
         "51",
         "wo",
         "Wolof"
        ],
        [
         "52",
         "hi",
         "Hindi"
        ],
        [
         "53",
         "bs",
         "Bosnian"
        ],
        [
         "54",
         "ta",
         "Tamil"
        ],
        [
         "55",
         "et",
         "Estonian"
        ],
        [
         "56",
         "zh",
         "Chinese"
        ],
        [
         "57",
         "ky",
         "Kyrgyz"
        ],
        [
         "58",
         "fr",
         "French"
        ],
        [
         "59",
         "am",
         "Amharic"
        ],
        [
         "60",
         "ja",
         "Japanese"
        ],
        [
         "61",
         "id",
         "Indonesian"
        ],
        [
         "62",
         "la",
         "Latin"
        ],
        [
         "63",
         "da",
         "Danish"
        ],
        [
         "64",
         "sq",
         "Albanian"
        ],
        [
         "65",
         "fi",
         "Finnish"
        ],
        [
         "66",
         "he",
         "Hebrew"
        ],
        [
         "67",
         "gl",
         "Galician"
        ],
        [
         "68",
         "eu",
         "Basque"
        ],
        [
         "69",
         "af",
         "Afrikaans"
        ],
        [
         "70",
         "kn",
         "Kannada"
        ],
        [
         "71",
         "ca",
         "Catalan"
        ],
        [
         "72",
         "tg",
         "Tajik"
        ],
        [
         "73",
         "lt",
         "Lithuanian"
        ],
        [
         "74",
         "pa",
         "Punjabi"
        ],
        [
         "75",
         "eo",
         "Esperanto"
        ],
        [
         "76",
         "sm",
         "Samoan"
        ],
        [
         "77",
         "lo",
         "Lao"
        ],
        [
         "78",
         "fy",
         "Western Frisian"
        ],
        [
         "79",
         "ne",
         "Nepali"
        ],
        [
         "80",
         "ps",
         "Pashto"
        ],
        [
         "81",
         "uz",
         "Uzbek"
        ],
        [
         "82",
         "hy",
         "Armenian"
        ],
        [
         "83",
         "qu",
         "Quechua"
        ],
        [
         "84",
         "iu",
         "Inuktitut"
        ],
        [
         "85",
         "zu",
         "Zulu"
        ],
        [
         "86",
         "bm",
         "Bambara"
        ]
       ],
       "datasetInfos": [],
       "dbfsResultPath": null,
       "isJsonSchema": true,
       "metadata": {
        "dataframeName": "_sqldf",
        "executionCount": 64
       },
       "overflow": false,
       "plotOptions": {
        "customPlotOptions": {},
        "displayType": "table",
        "pivotAggregation": null,
        "pivotColumns": null,
        "xColumns": null,
        "yColumns": null
       },
       "removedWidgets": [],
       "schema": [
        {
         "metadata": "{}",
         "name": "id",
         "type": "\"string\""
        },
        {
         "metadata": "{}",
         "name": "lang_code",
         "type": "\"string\""
        },
        {
         "metadata": "{}",
         "name": "lang_name",
         "type": "\"string\""
        }
       ],
       "type": "table"
      }
     },
     "output_type": "display_data"
    }
   ],
   "source": [
    "%sql\n",
    "select * from silver.language"
   ]
  }
 ],
 "metadata": {
  "application/vnd.databricks.v1+notebook": {
   "dashboards": [],
   "language": "python",
   "notebookMetadata": {
    "mostRecentlyExecutedCommandWithImplicitDF": {
     "commandId": 3988474065910638,
     "dataframes": [
      "_sqldf"
     ]
    },
    "pythonIndentUnit": 4
   },
   "notebookName": "silver_language",
   "widgets": {}
  }
 },
 "nbformat": 4,
 "nbformat_minor": 0
}
