{
 "cells": [
  {
   "cell_type": "code",
   "execution_count": 0,
   "metadata": {
    "application/vnd.databricks.v1+cell": {
     "cellMetadata": {},
     "inputWidgets": {},
     "nuid": "985a393e-52f2-4002-92bc-4efd075f201a",
     "showTitle": false,
     "title": ""
    }
   },
   "outputs": [],
   "source": [
    "# configs = {\"fs.azure.account.key.storage001de.blob.core.windows.net\": \"MA38y0ZA2Ij1L3QXl/F/Y8EGXR1VjTGb896PNbUmPT99uhVLoi0qCEiBEBagBQ4yscqwq9Zxb0vX+AStlr0Z3Q==\"}\n",
    "\n",
    "# # create mount to silver\n",
    "# dbutils.fs.mount(\n",
    "# \tsource = \"wasbs://silver@storage001de.blob.core.windows.net/\",\n",
    "# \tmount_point = \"/mnt/datalake/silver\",\n",
    "# \textra_configs = configs\n",
    "# )"
   ]
  },
  {
   "cell_type": "code",
   "execution_count": 0,
   "metadata": {
    "application/vnd.databricks.v1+cell": {
     "cellMetadata": {
      "byteLimit": 2048000,
      "rowLimit": 10000
     },
     "inputWidgets": {},
     "nuid": "50d44193-bfc4-4076-9ed9-d1afecff21fd",
     "showTitle": false,
     "title": ""
    }
   },
   "outputs": [],
   "source": [
    "# Table name\n",
    "genre_bronzeTable = \"bronze.genre\"\n",
    "movie_genre_bronzeTable = \"bronze.movie_to_genre\"\n",
    "\n",
    "genre_silverTable = \"silver.genre_dw\""
   ]
  },
  {
   "cell_type": "code",
   "execution_count": 0,
   "metadata": {
    "application/vnd.databricks.v1+cell": {
     "cellMetadata": {
      "byteLimit": 2048000,
      "rowLimit": 10000
     },
     "inputWidgets": {},
     "nuid": "7b934ca5-627e-46cf-b976-7477b52bfde6",
     "showTitle": false,
     "title": ""
    }
   },
   "outputs": [
    {
     "output_type": "stream",
     "name": "stdout",
     "output_type": "stream",
     "text": [
      "+---+-----------+\n| id|       name|\n+---+-----------+\n|  1|     Action|\n|  2|      Adult|\n|  3|  Adventure|\n|  4|  Animation|\n|  5|  Biography|\n|  6|     Comedy|\n|  7|      Crime|\n|  8|Documentary|\n|  9|      Drama|\n| 10|     Family|\n| 11|    Fantasy|\n| 12|  Film-Noir|\n| 13|  Game-Show|\n| 14|    History|\n| 15|     Horror|\n| 16|      Music|\n| 17|    Musical|\n| 18|    Mystery|\n| 19|       News|\n| 20| Reality-TV|\n+---+-----------+\nonly showing top 20 rows\n\n+-------+-------+\n|movieId|genreId|\n+-------+-------+\n|      1|      6|\n|      1|     11|\n|      1|     21|\n|      2|      7|\n|      2|      9|\n|      3|      9|\n|      3|     15|\n|      4|      7|\n|      4|      9|\n|      5|     15|\n|      5|     18|\n|      6|      3|\n|      6|      9|\n|      6|     14|\n|      6|     27|\n|      6|     28|\n|      7|      6|\n|      7|      9|\n|      7|     21|\n|      8|      9|\n+-------+-------+\nonly showing top 20 rows\n\n"
     ]
    }
   ],
   "source": [
    "df_genre = spark.read.table(genre_bronzeTable).select('id', 'name')\n",
    "df_movie_genre = spark.read.table(movie_genre_bronzeTable)\n",
    "df_genre.show()\n",
    "df_movie_genre.show()"
   ]
  },
  {
   "cell_type": "code",
   "execution_count": 0,
   "metadata": {
    "application/vnd.databricks.v1+cell": {
     "cellMetadata": {},
     "inputWidgets": {},
     "nuid": "89de5b0a-940e-47a1-815f-8a3ac34e952b",
     "showTitle": false,
     "title": ""
    }
   },
   "outputs": [],
   "source": [
    "df_genre = df_genre.dropDuplicates(['id'])\n",
    "df_movie_genre = df_movie_genre.dropDuplicates()\n"
   ]
  },
  {
   "cell_type": "code",
   "execution_count": 0,
   "metadata": {
    "application/vnd.databricks.v1+cell": {
     "cellMetadata": {
      "byteLimit": 2048000,
      "rowLimit": 10000
     },
     "inputWidgets": {},
     "nuid": "17466fe7-606b-4a82-9b6b-620a60d05745",
     "showTitle": false,
     "title": ""
    }
   },
   "outputs": [],
   "source": [
    "from delta.tables import *\n",
    "from pyspark.sql.functions import col, substring\n",
    "\n",
    "# #check if the silver location contain the delta table\n",
    "# if (DeltaTable.isDeltaTable(spark, movie_silverLocation)):\n",
    "#     DeltaTable.forPath(spark, movie_silverLocation).alias(\"target\").merge(\n",
    "#         source = cleaned_movie.alias(\"src\"),\n",
    "#         condition = \"target.id = src.id\"\n",
    "#     ).WhenNoMatchedInsertAll().execute()\n",
    "# else:\n",
    "\n",
    "# Define the silver location\n",
    "\n",
    "# Define the silver location\n",
    "genre_silverLocation = \"/mnt/datalake/silver/cleaned_genre_dw\"\n",
    "movie_genre_silverLocation = \"/mnt/datalake/silver/cleaned_movie_genre\"\n",
    "\n",
    "# Table name\n",
    "genre_silverTable = \"silver.genre_dw\"\n",
    "movie_genre_silverTable = \"silver.movie_genre\"\n",
    "\n",
    "\n",
    "df_genre.write.mode(\"overwrite\").format(\"delta\").option(\"overwriteSchema\", \"true\").save(genre_silverLocation)\n",
    "df_movie_genre.write.mode(\"overwrite\").format(\"delta\").option(\"overwriteSchema\", \"true\").save(movie_genre_silverLocation)"
   ]
  },
  {
   "cell_type": "code",
   "execution_count": 0,
   "metadata": {
    "application/vnd.databricks.v1+cell": {
     "cellMetadata": {
      "byteLimit": 2048000,
      "rowLimit": 10000
     },
     "inputWidgets": {},
     "nuid": "8af7b7ed-727b-4b0e-b496-4bdce8428ab0",
     "showTitle": false,
     "title": ""
    }
   },
   "outputs": [
    {
     "output_type": "execute_result",
     "data": {
      "text/plain": [
       "DataFrame[]"
      ]
     },
     "execution_count": 16,
     "metadata": {},
     "output_type": "execute_result"
    }
   ],
   "source": [
    "# create the schema and table, if required\n",
    "# spark.databricks.delta.formatCheck.enabled false\n",
    "\n",
    "spark.sql(f\"CREATE EXTERNAL TABLE IF NOT EXISTS {genre_silverTable} USING delta LOCATION '{genre_silverLocation}'\")\n",
    "spark.sql(f\"CREATE EXTERNAL TABLE IF NOT EXISTS {movie_genre_silverTable} USING delta LOCATION '{movie_genre_silverLocation}'\")\n"
   ]
  },
  {
   "cell_type": "code",
   "execution_count": 0,
   "metadata": {
    "application/vnd.databricks.v1+cell": {
     "cellMetadata": {
      "byteLimit": 2048000,
      "rowLimit": 10000
     },
     "inputWidgets": {},
     "nuid": "acd62cdf-22e5-4c86-8846-4919826d3192",
     "showTitle": false,
     "title": ""
    }
   },
   "outputs": [],
   "source": [
    "# Maintenance for Delta table\n",
    "genre_DataDelta = DeltaTable.forName(spark, genre_silverTable)\n",
    "\n",
    "if genre_DataDelta.history(30).filter(\"operation = 'VACUUM START'\").count() == 0:\n",
    "\tgenre_DataDelta.optimize()\n",
    "\tgenre_DataDelta.vacuum()\n"
   ]
  },
  {
   "cell_type": "code",
   "execution_count": 0,
   "metadata": {
    "application/vnd.databricks.v1+cell": {
     "cellMetadata": {
      "byteLimit": 2048000,
      "rowLimit": 10000
     },
     "inputWidgets": {},
     "nuid": "7f919759-eeed-4a74-b629-45c7ed9dfdaf",
     "showTitle": false,
     "title": ""
    }
   },
   "outputs": [],
   "source": [
    "# Maintenance for Delta table\n",
    "movie_genre_DataDelta = DeltaTable.forName(spark, movie_genre_silverTable)\n",
    "\n",
    "if movie_genre_DataDelta.history(30).filter(\"operation = 'VACUUM START'\").count() == 0:\n",
    "\tmovie_genre_DataDelta.optimize()\n",
    "\tmovie_genre_DataDelta.vacuum()\n"
   ]
  },
  {
   "cell_type": "code",
   "execution_count": 0,
   "metadata": {
    "application/vnd.databricks.v1+cell": {
     "cellMetadata": {
      "byteLimit": 2048000,
      "implicitDf": true,
      "rowLimit": 10000
     },
     "inputWidgets": {},
     "nuid": "c444221c-e251-4652-9508-fdcc85e992d3",
     "showTitle": false,
     "title": ""
    }
   },
   "outputs": [
    {
     "output_type": "display_data",
     "data": {
      "text/html": [
       "<style scoped>\n",
       "  .table-result-container {\n",
       "    max-height: 300px;\n",
       "    overflow: auto;\n",
       "  }\n",
       "  table, th, td {\n",
       "    border: 1px solid black;\n",
       "    border-collapse: collapse;\n",
       "  }\n",
       "  th, td {\n",
       "    padding: 5px;\n",
       "  }\n",
       "  th {\n",
       "    text-align: left;\n",
       "  }\n",
       "</style><div class='table-result-container'><table class='table-result'><thead style='background-color: white'><tr><th>version</th><th>timestamp</th><th>userId</th><th>userName</th><th>operation</th><th>operationParameters</th><th>job</th><th>notebook</th><th>clusterId</th><th>readVersion</th><th>isolationLevel</th><th>isBlindAppend</th><th>operationMetrics</th><th>userMetadata</th><th>engineInfo</th></tr></thead><tbody><tr><td>2</td><td>2023-12-17T14:05:52Z</td><td>1311347395691033</td><td>totnvt02@gmail.com</td><td>VACUUM END</td><td>Map(status -> COMPLETED)</td><td>null</td><td>List(4283155382243377)</td><td>1122-230829-ksqo7xkx</td><td>1</td><td>SnapshotIsolation</td><td>true</td><td>Map(numDeletedFiles -> 0, numVacuumedDirectories -> 1)</td><td>null</td><td>Databricks-Runtime/13.3.x-scala2.12</td></tr><tr><td>1</td><td>2023-12-17T14:05:48Z</td><td>1311347395691033</td><td>totnvt02@gmail.com</td><td>VACUUM START</td><td>Map(retentionCheckEnabled -> true, defaultRetentionMillis -> 604800000)</td><td>null</td><td>List(4283155382243377)</td><td>1122-230829-ksqo7xkx</td><td>0</td><td>SnapshotIsolation</td><td>true</td><td>Map(numFilesToDelete -> 0, sizeOfDataToDelete -> 0)</td><td>null</td><td>Databricks-Runtime/13.3.x-scala2.12</td></tr><tr><td>0</td><td>2023-12-17T14:05:30Z</td><td>1311347395691033</td><td>totnvt02@gmail.com</td><td>WRITE</td><td>Map(mode -> Overwrite, statsOnLoad -> false, partitionBy -> [])</td><td>null</td><td>List(4283155382243377)</td><td>1122-230829-ksqo7xkx</td><td>null</td><td>WriteSerializable</td><td>false</td><td>Map(numFiles -> 1, numOutputRows -> 28, numOutputBytes -> 1254)</td><td>null</td><td>Databricks-Runtime/13.3.x-scala2.12</td></tr></tbody></table></div>"
      ]
     },
     "metadata": {
      "application/vnd.databricks.v1+output": {
       "addedWidgets": {},
       "aggData": [],
       "aggError": "",
       "aggOverflow": false,
       "aggSchema": [],
       "aggSeriesLimitReached": false,
       "aggType": "",
       "arguments": {},
       "columnCustomDisplayInfos": {},
       "data": [
        [
         2,
         "2023-12-17T14:05:52Z",
         "1311347395691033",
         "totnvt02@gmail.com",
         "VACUUM END",
         {
          "status": "COMPLETED"
         },
         null,
         [
          "4283155382243377"
         ],
         "1122-230829-ksqo7xkx",
         1,
         "SnapshotIsolation",
         true,
         {
          "numDeletedFiles": "0",
          "numVacuumedDirectories": "1"
         },
         null,
         "Databricks-Runtime/13.3.x-scala2.12"
        ],
        [
         1,
         "2023-12-17T14:05:48Z",
         "1311347395691033",
         "totnvt02@gmail.com",
         "VACUUM START",
         {
          "defaultRetentionMillis": "604800000",
          "retentionCheckEnabled": "true"
         },
         null,
         [
          "4283155382243377"
         ],
         "1122-230829-ksqo7xkx",
         0,
         "SnapshotIsolation",
         true,
         {
          "numFilesToDelete": "0",
          "sizeOfDataToDelete": "0"
         },
         null,
         "Databricks-Runtime/13.3.x-scala2.12"
        ],
        [
         0,
         "2023-12-17T14:05:30Z",
         "1311347395691033",
         "totnvt02@gmail.com",
         "WRITE",
         {
          "mode": "Overwrite",
          "partitionBy": "[]",
          "statsOnLoad": "false"
         },
         null,
         [
          "4283155382243377"
         ],
         "1122-230829-ksqo7xkx",
         null,
         "WriteSerializable",
         false,
         {
          "numFiles": "1",
          "numOutputBytes": "1254",
          "numOutputRows": "28"
         },
         null,
         "Databricks-Runtime/13.3.x-scala2.12"
        ]
       ],
       "datasetInfos": [],
       "dbfsResultPath": null,
       "isJsonSchema": true,
       "metadata": {
        "dataframeName": "_sqldf",
        "executionCount": 19
       },
       "overflow": false,
       "plotOptions": {
        "customPlotOptions": {},
        "displayType": "table",
        "pivotAggregation": null,
        "pivotColumns": null,
        "xColumns": null,
        "yColumns": null
       },
       "removedWidgets": [],
       "schema": [
        {
         "metadata": "{}",
         "name": "version",
         "type": "\"long\""
        },
        {
         "metadata": "{}",
         "name": "timestamp",
         "type": "\"timestamp\""
        },
        {
         "metadata": "{}",
         "name": "userId",
         "type": "\"string\""
        },
        {
         "metadata": "{}",
         "name": "userName",
         "type": "\"string\""
        },
        {
         "metadata": "{}",
         "name": "operation",
         "type": "\"string\""
        },
        {
         "metadata": "{}",
         "name": "operationParameters",
         "type": "{\"type\":\"map\",\"keyType\":\"string\",\"valueType\":\"string\",\"valueContainsNull\":true}"
        },
        {
         "metadata": "{}",
         "name": "job",
         "type": "{\"type\":\"struct\",\"fields\":[{\"name\":\"jobId\",\"type\":\"string\",\"nullable\":true,\"metadata\":{}},{\"name\":\"jobName\",\"type\":\"string\",\"nullable\":true,\"metadata\":{}},{\"name\":\"jobRunId\",\"type\":\"string\",\"nullable\":true,\"metadata\":{}},{\"name\":\"runId\",\"type\":\"string\",\"nullable\":true,\"metadata\":{}},{\"name\":\"jobOwnerId\",\"type\":\"string\",\"nullable\":true,\"metadata\":{}},{\"name\":\"triggerType\",\"type\":\"string\",\"nullable\":true,\"metadata\":{}}]}"
        },
        {
         "metadata": "{}",
         "name": "notebook",
         "type": "{\"type\":\"struct\",\"fields\":[{\"name\":\"notebookId\",\"type\":\"string\",\"nullable\":true,\"metadata\":{}}]}"
        },
        {
         "metadata": "{}",
         "name": "clusterId",
         "type": "\"string\""
        },
        {
         "metadata": "{}",
         "name": "readVersion",
         "type": "\"long\""
        },
        {
         "metadata": "{}",
         "name": "isolationLevel",
         "type": "\"string\""
        },
        {
         "metadata": "{}",
         "name": "isBlindAppend",
         "type": "\"boolean\""
        },
        {
         "metadata": "{}",
         "name": "operationMetrics",
         "type": "{\"type\":\"map\",\"keyType\":\"string\",\"valueType\":\"string\",\"valueContainsNull\":true}"
        },
        {
         "metadata": "{}",
         "name": "userMetadata",
         "type": "\"string\""
        },
        {
         "metadata": "{}",
         "name": "engineInfo",
         "type": "\"string\""
        }
       ],
       "type": "table"
      }
     },
     "output_type": "display_data"
    }
   ],
   "source": [
    "%sql\n",
    "DESCRIBE HISTORY silver.genre_dw;"
   ]
  }
 ],
 "metadata": {
  "application/vnd.databricks.v1+notebook": {
   "dashboards": [],
   "language": "python",
   "notebookMetadata": {
    "mostRecentlyExecutedCommandWithImplicitDF": {
     "commandId": 4283155382243386,
     "dataframes": [
      "_sqldf"
     ]
    },
    "pythonIndentUnit": 4
   },
   "notebookName": "silver_genre",
   "widgets": {}
  }
 },
 "nbformat": 4,
 "nbformat_minor": 0
}
