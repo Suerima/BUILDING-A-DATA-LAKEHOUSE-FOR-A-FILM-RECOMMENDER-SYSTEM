{
 "cells": [
  {
   "cell_type": "code",
   "execution_count": 0,
   "metadata": {
    "application/vnd.databricks.v1+cell": {
     "cellMetadata": {
      "byteLimit": 2048000,
      "rowLimit": 10000
     },
     "inputWidgets": {},
     "nuid": "aa89eabc-73f7-46e4-968a-9807cb74a204",
     "showTitle": false,
     "title": ""
    }
   },
   "outputs": [
    {
     "output_type": "stream",
     "name": "stdout",
     "output_type": "stream",
     "text": [
      "\u001B[43mNote: you may need to restart the kernel using dbutils.library.restartPython() to use updated packages.\u001B[0m\nRequirement already satisfied: nltk in /local_disk0/.ephemeral_nfs/envs/pythonEnv-ccdaa7cd-206f-4cd9-b2c3-3b57c958f807/lib/python3.10/site-packages (3.8.1)\nRequirement already satisfied: click in /databricks/python3/lib/python3.10/site-packages (from nltk) (8.0.4)\nRequirement already satisfied: regex>=2021.8.3 in /local_disk0/.ephemeral_nfs/envs/pythonEnv-ccdaa7cd-206f-4cd9-b2c3-3b57c958f807/lib/python3.10/site-packages (from nltk) (2023.10.3)\nRequirement already satisfied: tqdm in /local_disk0/.ephemeral_nfs/envs/pythonEnv-ccdaa7cd-206f-4cd9-b2c3-3b57c958f807/lib/python3.10/site-packages (from nltk) (4.66.1)\nRequirement already satisfied: joblib in /databricks/python3/lib/python3.10/site-packages (from nltk) (1.2.0)\n\u001B[43mNote: you may need to restart the kernel using dbutils.library.restartPython() to use updated packages.\u001B[0m\n"
     ]
    }
   ],
   "source": [
    "%pip install nltk"
   ]
  },
  {
   "cell_type": "code",
   "execution_count": 0,
   "metadata": {
    "application/vnd.databricks.v1+cell": {
     "cellMetadata": {
      "byteLimit": 2048000,
      "rowLimit": 10000
     },
     "inputWidgets": {},
     "nuid": "917cbf0b-30c7-4ba1-9a75-e7e4b82b4f3b",
     "showTitle": false,
     "title": ""
    }
   },
   "outputs": [],
   "source": [
    "# configs = {\"fs.azure.account.key.storage001de.blob.core.windows.net\": \"MA38y0ZA2Ij1L3QXl/F/Y8EGXR1VjTGb896PNbUmPT99uhVLoi0qCEiBEBagBQ4yscqwq9Zxb0vX+AStlr0Z3Q==\"}\n",
    "\n",
    "# # create mount to model\n",
    "# dbutils.fs.mount(\n",
    "# \tsource = \"wasbs://model@storage001de.blob.core.windows.net/\",\n",
    "# \tmount_point = \"/mnt/datalake/model\",\n",
    "# \textra_configs = configs\n",
    "# )"
   ]
  },
  {
   "cell_type": "code",
   "execution_count": 0,
   "metadata": {
    "application/vnd.databricks.v1+cell": {
     "cellMetadata": {
      "byteLimit": 2048000,
      "rowLimit": 10000
     },
     "inputWidgets": {},
     "nuid": "00f57937-4b64-4bb4-a6f5-9240f1c25fa3",
     "showTitle": false,
     "title": ""
    }
   },
   "outputs": [],
   "source": [
    "dbutils.library.restartPython()\n",
    "# df_movie = df_movie.dropDuplicates([\"id\"])\n",
    "# df_movie = df_movie.sort(\"id\")"
   ]
  },
  {
   "cell_type": "code",
   "execution_count": 0,
   "metadata": {
    "application/vnd.databricks.v1+cell": {
     "cellMetadata": {
      "byteLimit": 2048000,
      "rowLimit": 10000
     },
     "inputWidgets": {},
     "nuid": "02b15262-a466-451c-8093-c30902b2cd4a",
     "showTitle": false,
     "title": ""
    }
   },
   "outputs": [
    {
     "output_type": "stream",
     "name": "stdout",
     "output_type": "stream",
     "text": [
      "+---+---------+-----------------+----------+--------------------+------+---------+--------------------+--------+--------------------+--------------------+----------+--------+--------+\n| id|   imdbId|            title|   release|                plot|rating|voteCount|             tagline|language|           companies|           countries|popularity|  budget| revenue|\n+---+---------+-----------------+----------+--------------------+------+---------+--------------------+--------+--------------------+--------------------+----------+--------+--------+\n|  1|tt0035423|   Kate & Leopold|2002-02-14|An English Duke f...|   6.4|    87814|If they lived in ...|      en|[{'name': 'Mirama...|[{'iso_3166_1': '...|  7.196356|48000000|76019048|\n|  6|tt0053580|        The Alamo|1961-07-14|In 1836, a small ...|   6.8|    17070|The Mission That ...|      en|[{'name': 'United...|[{'iso_3166_1': '...|   4.73816|12000000| 7900000|\n| 12|tt0053779|    La Dolce Vita|1960-06-10|A series of stori...|   8.0|    76682|The world’s most ...|      it|[{'name': 'Pathé ...|[{'iso_3166_1': '...| 11.063822|       0|  198220|\n| 13|tt0053793|     Elmer Gantry|1961-06-01|A fast-talking tr...|   7.7|    12434|If there was a do...|      en|[{'name': 'United...|[{'iso_3166_1': '...|  6.409512| 3000000|10400000|\n| 16|tt0053976|The Virgin Spring|1960-02-08|In 14th-century S...|   8.0|    30953|Ravished innocenc...|      sv|[{'name': 'Svensk...|[{'iso_3166_1': '...| 10.353794|       0|    1528|\n+---+---------+-----------------+----------+--------------------+------+---------+--------------------+--------+--------------------+--------------------+----------+--------+--------+\nonly showing top 5 rows\n\n"
     ]
    }
   ],
   "source": [
    "df_movie = spark.read.table('silver.movie')\n",
    "df_movie.show(5)"
   ]
  },
  {
   "cell_type": "code",
   "execution_count": 0,
   "metadata": {
    "application/vnd.databricks.v1+cell": {
     "cellMetadata": {
      "byteLimit": 2048000,
      "rowLimit": 10000
     },
     "inputWidgets": {},
     "nuid": "e3c263f7-02cb-4258-8352-c403cf5e44d5",
     "showTitle": false,
     "title": ""
    }
   },
   "outputs": [],
   "source": [
    "df_movie = spark.read.table('silver.movie')\n",
    "df_keyword = spark.read.table('silver.keyword')\n",
    "df_cast = spark.read.table('silver.cast')\n",
    "df_director = spark.read.table('silver.director')\n",
    "df_genre = spark.read.table('silver.genre')"
   ]
  },
  {
   "cell_type": "code",
   "execution_count": 0,
   "metadata": {
    "application/vnd.databricks.v1+cell": {
     "cellMetadata": {
      "byteLimit": 2048000,
      "rowLimit": 10000
     },
     "inputWidgets": {},
     "nuid": "70622f07-ea1e-4749-8bf6-5b44681295dd",
     "showTitle": false,
     "title": ""
    }
   },
   "outputs": [
    {
     "output_type": "stream",
     "name": "stdout",
     "output_type": "stream",
     "text": [
      "+---+---------+-----------------+--------------------+--------------------+\n| id|   imdbId|            title|                plot|             tagline|\n+---+---------+-----------------+--------------------+--------------------+\n|  1|tt0035423|   Kate & Leopold|An English Duke f...|If they lived in ...|\n|  6|tt0053580|        The Alamo|In 1836, a small ...|The Mission That ...|\n| 12|tt0053779|    La Dolce Vita|A series of stori...|The world’s most ...|\n| 13|tt0053793|     Elmer Gantry|A fast-talking tr...|If there was a do...|\n| 16|tt0053976|The Virgin Spring|In 14th-century S...|Ravished innocenc...|\n+---+---------+-----------------+--------------------+--------------------+\nonly showing top 5 rows\n\n"
     ]
    }
   ],
   "source": [
    "df_movie = df_movie.select('id', 'imdbId', 'title', 'plot', 'tagline')\n",
    "df_movie.show(5)"
   ]
  },
  {
   "cell_type": "code",
   "execution_count": 0,
   "metadata": {
    "application/vnd.databricks.v1+cell": {
     "cellMetadata": {
      "byteLimit": 2048000,
      "rowLimit": 10000
     },
     "inputWidgets": {},
     "nuid": "a7442239-08cb-4798-a755-3c65ab5135a3",
     "showTitle": false,
     "title": ""
    }
   },
   "outputs": [],
   "source": [
    "df_keyword = df_keyword.withColumnRenamed(\"movieId\",\"id\")\n",
    "df_cast = df_cast.withColumnRenamed(\"movieId\",\"id\")\n",
    "df_director = df_director.withColumnRenamed(\"movieId\",\"id\")\n",
    "df_genre = df_genre.withColumnRenamed(\"movieId\",\"id\")"
   ]
  },
  {
   "cell_type": "code",
   "execution_count": 0,
   "metadata": {
    "application/vnd.databricks.v1+cell": {
     "cellMetadata": {
      "byteLimit": 2048000,
      "rowLimit": 10000
     },
     "inputWidgets": {},
     "nuid": "e20ade41-b3a6-40f5-8e6a-d51cc49268b8",
     "showTitle": false,
     "title": ""
    }
   },
   "outputs": [
    {
     "output_type": "stream",
     "name": "stdout",
     "output_type": "stream",
     "text": [
      "+---+---------+-----------------+--------------------+--------------------+--------------------+--------------------+----------------+--------------------+\n| id|   imdbId|            title|                plot|             tagline|            keywords|                cast|        director|              genres|\n+---+---------+-----------------+--------------------+--------------------+--------------------+--------------------+----------------+--------------------+\n|  1|tt0035423|   Kate & Leopold|An English Duke f...|If they lived in ...|[marriage for mon...|[Andrew Jack, Art...|   James Mangold|[Comedy, Fantasy,...|\n|  6|tt0053580|        The Alamo|In 1836, a small ...|The Mission That ...|[texas, assault, ...|[Aissa Wayne, Bil...|      John Wayne|[War, Western, Hi...|\n| 12|tt0053779|    La Dolce Vita|A series of stori...|The world’s most ...|[night life, love...|[Alain Cuny, Alai...|Federico Fellini|     [Drama, Comedy]|\n| 13|tt0053793|     Elmer Gantry|A fast-talking tr...|If there was a do...|[con man, fraud, ...|[Barry Kelley, Cl...|  Richard Brooks|             [Drama]|\n| 16|tt0053976|The Virgin Spring|In 14th-century S...|Ravished innocenc...|[medieval, pregna...|[Allan Edwall, Ax...|  Ingmar Bergman|             [Drama]|\n+---+---------+-----------------+--------------------+--------------------+--------------------+--------------------+----------------+--------------------+\nonly showing top 5 rows\n\n"
     ]
    }
   ],
   "source": [
    "df_movie = df_movie.join(df_keyword , on=['id'] , how = 'left')\n",
    "df_movie = df_movie.join(df_cast , on=['id'] , how = 'left')\n",
    "df_movie = df_movie.join(df_director , on=['id'] , how = 'left')\n",
    "df_movie = df_movie.join(df_genre , on=['id'] , how = 'left')\n",
    "\n",
    "df_movie.show(5)"
   ]
  },
  {
   "cell_type": "code",
   "execution_count": 0,
   "metadata": {
    "application/vnd.databricks.v1+cell": {
     "cellMetadata": {
      "byteLimit": 2048000,
      "rowLimit": 10000
     },
     "inputWidgets": {},
     "nuid": "8f6705c8-dd9b-4d5b-bec0-f569ce1fe3ce",
     "showTitle": false,
     "title": ""
    }
   },
   "outputs": [
    {
     "output_type": "execute_result",
     "data": {
      "text/plain": [
       "109544"
      ]
     },
     "execution_count": 6,
     "metadata": {},
     "output_type": "execute_result"
    }
   ],
   "source": [
    "df_movie = df_movie.dropDuplicates(subset=['id', 'imdbId'])\n",
    "df_movie = df_movie.sort('id')\n",
    "df_movie.count()"
   ]
  },
  {
   "cell_type": "markdown",
   "metadata": {
    "application/vnd.databricks.v1+cell": {
     "cellMetadata": {
      "byteLimit": 2048000,
      "rowLimit": 10000
     },
     "inputWidgets": {},
     "nuid": "62c4c840-e83b-4524-a227-863fc324e563",
     "showTitle": false,
     "title": ""
    }
   },
   "source": [
    "##### Convert into pandas"
   ]
  },
  {
   "cell_type": "code",
   "execution_count": 0,
   "metadata": {
    "application/vnd.databricks.v1+cell": {
     "cellMetadata": {
      "byteLimit": 2048000,
      "rowLimit": 10000
     },
     "inputWidgets": {},
     "nuid": "7ad5d271-42e7-4f82-a222-550c88c9f990",
     "showTitle": false,
     "title": ""
    }
   },
   "outputs": [
    {
     "output_type": "execute_result",
     "data": {
      "text/html": [
       "<div>\n",
       "<style scoped>\n",
       "    .dataframe tbody tr th:only-of-type {\n",
       "        vertical-align: middle;\n",
       "    }\n",
       "\n",
       "    .dataframe tbody tr th {\n",
       "        vertical-align: top;\n",
       "    }\n",
       "\n",
       "    .dataframe thead th {\n",
       "        text-align: right;\n",
       "    }\n",
       "</style>\n",
       "<table border=\"1\" class=\"dataframe\">\n",
       "  <thead>\n",
       "    <tr style=\"text-align: right;\">\n",
       "      <th></th>\n",
       "      <th>id</th>\n",
       "      <th>imdbId</th>\n",
       "      <th>title</th>\n",
       "      <th>plot</th>\n",
       "      <th>tagline</th>\n",
       "      <th>keywords</th>\n",
       "      <th>cast</th>\n",
       "      <th>director</th>\n",
       "      <th>genres</th>\n",
       "    </tr>\n",
       "  </thead>\n",
       "  <tbody>\n",
       "    <tr>\n",
       "      <th>0</th>\n",
       "      <td>1</td>\n",
       "      <td>tt0035423</td>\n",
       "      <td>Kate &amp; Leopold</td>\n",
       "      <td>An English Duke from 1876 is inadvertedly drag...</td>\n",
       "      <td>If they lived in the same century, they'd be p...</td>\n",
       "      <td>[marriage for money, love of one's life, duke,...</td>\n",
       "      <td>[Andrew Jack, Arthur J. Nascarella, Bradley Wh...</td>\n",
       "      <td>James Mangold</td>\n",
       "      <td>[Comedy, Fantasy, Romance]</td>\n",
       "    </tr>\n",
       "    <tr>\n",
       "      <th>1</th>\n",
       "      <td>2</td>\n",
       "      <td>tt0053273</td>\n",
       "      <td>The Shakedown</td>\n",
       "      <td>After being released from prison, Augie Corton...</td>\n",
       "      <td>Models were the bait for BLACKMAIL!</td>\n",
       "      <td>[person in a sack, female police officer, tied...</td>\n",
       "      <td>[Charles Lamb, Dorinda Stevens, Douglas Bradle...</td>\n",
       "      <td>John Lemont</td>\n",
       "      <td>[Drama, Crime]</td>\n",
       "    </tr>\n",
       "    <tr>\n",
       "      <th>2</th>\n",
       "      <td>3</td>\n",
       "      <td>tt0053459</td>\n",
       "      <td>Eyes Without a Face</td>\n",
       "      <td>A surgeon causes an accident which leaves his ...</td>\n",
       "      <td>Beautiful women were the victims of his fiendi...</td>\n",
       "      <td>[ulcer, film noir, surgeon, experiment, dove, ...</td>\n",
       "      <td>[Brigitte Juslin, Béatrice Altariba, Charles B...</td>\n",
       "      <td>Georges Franju</td>\n",
       "      <td>[Horror, Drama]</td>\n",
       "    </tr>\n",
       "    <tr>\n",
       "      <th>3</th>\n",
       "      <td>4</td>\n",
       "      <td>tt0053472</td>\n",
       "      <td>Breathless</td>\n",
       "      <td>A small-time thief steals a car and impulsivel...</td>\n",
       "      <td>None</td>\n",
       "      <td>[car thief, loss of loved one, hotel room, jou...</td>\n",
       "      <td>[André S. Labarthe, Claude Mansard, François M...</td>\n",
       "      <td>Jean-Luc Godard</td>\n",
       "      <td>[Drama, Crime]</td>\n",
       "    </tr>\n",
       "    <tr>\n",
       "      <th>4</th>\n",
       "      <td>5</td>\n",
       "      <td>tt0053559</td>\n",
       "      <td>13 Ghosts</td>\n",
       "      <td>A family inherits what proves to be a haunted ...</td>\n",
       "      <td>IT'S FUN TO BE SCARED BY 13 GHOSTS</td>\n",
       "      <td>[mask, mansion, museum, ghost, revenge, séance...</td>\n",
       "      <td>[Darryl Scott McFadden, David Hoffman, Donald ...</td>\n",
       "      <td>William Castle</td>\n",
       "      <td>[Mystery, Horror]</td>\n",
       "    </tr>\n",
       "  </tbody>\n",
       "</table>\n",
       "</div>"
      ],
      "text/plain": [
       "   id     imdbId  ...         director                      genres\n",
       "0   1  tt0035423  ...    James Mangold  [Comedy, Fantasy, Romance]\n",
       "1   2  tt0053273  ...      John Lemont              [Drama, Crime]\n",
       "2   3  tt0053459  ...   Georges Franju             [Horror, Drama]\n",
       "3   4  tt0053472  ...  Jean-Luc Godard              [Drama, Crime]\n",
       "4   5  tt0053559  ...   William Castle           [Mystery, Horror]\n",
       "\n",
       "[5 rows x 9 columns]"
      ]
     },
     "execution_count": 7,
     "metadata": {},
     "output_type": "execute_result"
    }
   ],
   "source": [
    "smd = df_movie.toPandas()\n",
    "smd.head()"
   ]
  },
  {
   "cell_type": "code",
   "execution_count": 0,
   "metadata": {
    "application/vnd.databricks.v1+cell": {
     "cellMetadata": {
      "byteLimit": 2048000,
      "rowLimit": 10000
     },
     "inputWidgets": {},
     "nuid": "4406dfd2-9c94-45ca-80ee-8e118938ff03",
     "showTitle": false,
     "title": ""
    }
   },
   "outputs": [],
   "source": [
    "smd = smd.dropna(subset=['title','plot','tagline','keywords', 'cast', 'director', 'genres'])"
   ]
  },
  {
   "cell_type": "markdown",
   "metadata": {
    "application/vnd.databricks.v1+cell": {
     "cellMetadata": {
      "byteLimit": 2048000,
      "rowLimit": 10000
     },
     "inputWidgets": {},
     "nuid": "6f7282cd-94ff-49e1-bad6-f635aa9648ac",
     "showTitle": false,
     "title": ""
    }
   },
   "source": [
    "##### Array -> to List"
   ]
  },
  {
   "cell_type": "code",
   "execution_count": 0,
   "metadata": {
    "application/vnd.databricks.v1+cell": {
     "cellMetadata": {
      "byteLimit": 2048000,
      "rowLimit": 10000
     },
     "inputWidgets": {},
     "nuid": "6f186434-eb98-479c-81a3-13cf17f10162",
     "showTitle": false,
     "title": ""
    }
   },
   "outputs": [],
   "source": [
    "import numpy as np\n",
    "for feature in ['cast', 'genres', 'keywords']:\n",
    "    smd[feature] = smd[feature].apply(lambda x: list(x) if isinstance(x, np.ndarray) else [x])\n"
   ]
  },
  {
   "cell_type": "markdown",
   "metadata": {
    "application/vnd.databricks.v1+cell": {
     "cellMetadata": {
      "byteLimit": 2048000,
      "rowLimit": 10000
     },
     "inputWidgets": {},
     "nuid": "3caa660f-efff-4e22-b2ec-13286ef8ae85",
     "showTitle": false,
     "title": ""
    }
   },
   "source": [
    "#### Tagline & plot"
   ]
  },
  {
   "cell_type": "code",
   "execution_count": 0,
   "metadata": {
    "application/vnd.databricks.v1+cell": {
     "cellMetadata": {
      "byteLimit": 2048000,
      "rowLimit": 10000
     },
     "inputWidgets": {},
     "nuid": "f0737fde-1d99-47f7-b625-aadac9923fb5",
     "showTitle": false,
     "title": ""
    }
   },
   "outputs": [],
   "source": [
    "smd['tagline'] = smd['tagline'].fillna('')\n",
    "smd['description'] = smd['plot'] + smd['tagline']\n",
    "smd['description'] = smd['description'].fillna('')"
   ]
  },
  {
   "cell_type": "markdown",
   "metadata": {
    "application/vnd.databricks.v1+cell": {
     "cellMetadata": {
      "byteLimit": 2048000,
      "rowLimit": 10000
     },
     "inputWidgets": {},
     "nuid": "35cf3ec1-7f75-48db-be86-b239bfe0d63f",
     "showTitle": false,
     "title": ""
    }
   },
   "source": [
    "#### Cast"
   ]
  },
  {
   "cell_type": "code",
   "execution_count": 0,
   "metadata": {
    "application/vnd.databricks.v1+cell": {
     "cellMetadata": {
      "byteLimit": 2048000,
      "rowLimit": 10000
     },
     "inputWidgets": {},
     "nuid": "ac5184d1-5c3d-4d5f-a406-40910a0dbedc",
     "showTitle": false,
     "title": ""
    }
   },
   "outputs": [],
   "source": [
    "smd['cast'] = smd['cast'].apply(lambda x: x[:3] if len(x) >=3 else x)"
   ]
  },
  {
   "cell_type": "code",
   "execution_count": 0,
   "metadata": {
    "application/vnd.databricks.v1+cell": {
     "cellMetadata": {
      "byteLimit": 2048000,
      "rowLimit": 10000
     },
     "inputWidgets": {},
     "nuid": "d464f072-8675-487c-bd6d-9d0c4b277013",
     "showTitle": false,
     "title": ""
    }
   },
   "outputs": [
    {
     "output_type": "execute_result",
     "data": {
      "text/html": [
       "<div>\n",
       "<style scoped>\n",
       "    .dataframe tbody tr th:only-of-type {\n",
       "        vertical-align: middle;\n",
       "    }\n",
       "\n",
       "    .dataframe tbody tr th {\n",
       "        vertical-align: top;\n",
       "    }\n",
       "\n",
       "    .dataframe thead th {\n",
       "        text-align: right;\n",
       "    }\n",
       "</style>\n",
       "<table border=\"1\" class=\"dataframe\">\n",
       "  <thead>\n",
       "    <tr style=\"text-align: right;\">\n",
       "      <th></th>\n",
       "      <th>id</th>\n",
       "      <th>imdbId</th>\n",
       "      <th>title</th>\n",
       "      <th>plot</th>\n",
       "      <th>tagline</th>\n",
       "      <th>keywords</th>\n",
       "      <th>cast</th>\n",
       "      <th>director</th>\n",
       "      <th>genres</th>\n",
       "      <th>description</th>\n",
       "    </tr>\n",
       "  </thead>\n",
       "  <tbody>\n",
       "    <tr>\n",
       "      <th>0</th>\n",
       "      <td>1</td>\n",
       "      <td>tt0035423</td>\n",
       "      <td>Kate &amp; Leopold</td>\n",
       "      <td>An English Duke from 1876 is inadvertedly drag...</td>\n",
       "      <td>If they lived in the same century, they'd be p...</td>\n",
       "      <td>[marriage for money, love of one's life, duke,...</td>\n",
       "      <td>[Andrew Jack, Arthur J. Nascarella, Bradley Wh...</td>\n",
       "      <td>James Mangold</td>\n",
       "      <td>[Comedy, Fantasy, Romance]</td>\n",
       "      <td>An English Duke from 1876 is inadvertedly drag...</td>\n",
       "    </tr>\n",
       "    <tr>\n",
       "      <th>1</th>\n",
       "      <td>2</td>\n",
       "      <td>tt0053273</td>\n",
       "      <td>The Shakedown</td>\n",
       "      <td>After being released from prison, Augie Corton...</td>\n",
       "      <td>Models were the bait for BLACKMAIL!</td>\n",
       "      <td>[person in a sack, female police officer, tied...</td>\n",
       "      <td>[Charles Lamb, Dorinda Stevens, Douglas Bradle...</td>\n",
       "      <td>John Lemont</td>\n",
       "      <td>[Drama, Crime]</td>\n",
       "      <td>After being released from prison, Augie Corton...</td>\n",
       "    </tr>\n",
       "    <tr>\n",
       "      <th>2</th>\n",
       "      <td>3</td>\n",
       "      <td>tt0053459</td>\n",
       "      <td>Eyes Without a Face</td>\n",
       "      <td>A surgeon causes an accident which leaves his ...</td>\n",
       "      <td>Beautiful women were the victims of his fiendi...</td>\n",
       "      <td>[ulcer, film noir, surgeon, experiment, dove, ...</td>\n",
       "      <td>[Brigitte Juslin, Béatrice Altariba, Charles B...</td>\n",
       "      <td>Georges Franju</td>\n",
       "      <td>[Horror, Drama]</td>\n",
       "      <td>A surgeon causes an accident which leaves his ...</td>\n",
       "    </tr>\n",
       "    <tr>\n",
       "      <th>4</th>\n",
       "      <td>5</td>\n",
       "      <td>tt0053559</td>\n",
       "      <td>13 Ghosts</td>\n",
       "      <td>A family inherits what proves to be a haunted ...</td>\n",
       "      <td>IT'S FUN TO BE SCARED BY 13 GHOSTS</td>\n",
       "      <td>[mask, mansion, museum, ghost, revenge, séance...</td>\n",
       "      <td>[Darryl Scott McFadden, David Hoffman, Donald ...</td>\n",
       "      <td>William Castle</td>\n",
       "      <td>[Mystery, Horror]</td>\n",
       "      <td>A family inherits what proves to be a haunted ...</td>\n",
       "    </tr>\n",
       "    <tr>\n",
       "      <th>5</th>\n",
       "      <td>6</td>\n",
       "      <td>tt0053580</td>\n",
       "      <td>The Alamo</td>\n",
       "      <td>In 1836, a small band of soldiers sacrifice th...</td>\n",
       "      <td>The Mission That Became a Fortress! The Fortre...</td>\n",
       "      <td>[texas, assault, mexican army, alamo]</td>\n",
       "      <td>[Aissa Wayne, Bill Daniel, Carlos Arruza]</td>\n",
       "      <td>John Wayne</td>\n",
       "      <td>[War, Western, History, Drama, Adventure]</td>\n",
       "      <td>In 1836, a small band of soldiers sacrifice th...</td>\n",
       "    </tr>\n",
       "    <tr>\n",
       "      <th>...</th>\n",
       "      <td>...</td>\n",
       "      <td>...</td>\n",
       "      <td>...</td>\n",
       "      <td>...</td>\n",
       "      <td>...</td>\n",
       "      <td>...</td>\n",
       "      <td>...</td>\n",
       "      <td>...</td>\n",
       "      <td>...</td>\n",
       "      <td>...</td>\n",
       "    </tr>\n",
       "    <tr>\n",
       "      <th>108386</th>\n",
       "      <td>108389</td>\n",
       "      <td>tt2140411</td>\n",
       "      <td>Solace</td>\n",
       "      <td>Six people from different walks of life search...</td>\n",
       "      <td>Alone is sometimes best</td>\n",
       "      <td>[one word title]</td>\n",
       "      <td>[Anthony R. McClara, Dixie Light, Ric Reitz]</td>\n",
       "      <td>Vandon Gibbs</td>\n",
       "      <td>[Thriller]</td>\n",
       "      <td>Six people from different walks of life search...</td>\n",
       "    </tr>\n",
       "    <tr>\n",
       "      <th>108392</th>\n",
       "      <td>108395</td>\n",
       "      <td>tt2072277</td>\n",
       "      <td>The Wisdom Tree</td>\n",
       "      <td>In a meditative sci-fi journey, eastern spirit...</td>\n",
       "      <td>Science meets Art meets Mysticism</td>\n",
       "      <td>[fine art, classical music, neuroscientist, qu...</td>\n",
       "      <td>[Aditi Kisara, Andrea Kulkarni, Cristina DelVa...</td>\n",
       "      <td>Sunil Shah</td>\n",
       "      <td>[Mystery, Sci-Fi, Drama]</td>\n",
       "      <td>In a meditative sci-fi journey, eastern spirit...</td>\n",
       "    </tr>\n",
       "    <tr>\n",
       "      <th>108399</th>\n",
       "      <td>108402</td>\n",
       "      <td>tt2085752</td>\n",
       "      <td>Autumn Blood</td>\n",
       "      <td>High in the mountains, two orphaned children k...</td>\n",
       "      <td>Season of vengeance.</td>\n",
       "      <td>[nude swimming, rifle, alpine village, social ...</td>\n",
       "      <td>[Annica McCrudden, Elias Doblander, George Lenz]</td>\n",
       "      <td>Markus Blunder</td>\n",
       "      <td>[Thriller, Drama]</td>\n",
       "      <td>High in the mountains, two orphaned children k...</td>\n",
       "    </tr>\n",
       "    <tr>\n",
       "      <th>108404</th>\n",
       "      <td>108407</td>\n",
       "      <td>tt2191605</td>\n",
       "      <td>Addict</td>\n",
       "      <td>Disillusioned sales manager David Pettigrew is...</td>\n",
       "      <td>Some addictions can't be broken</td>\n",
       "      <td>[psychological thriller, addict, prostitute]</td>\n",
       "      <td>[Brandon Cooke, Carl Austin, E Tegan O'Brien]</td>\n",
       "      <td>Geoff Harmer</td>\n",
       "      <td>[Drama]</td>\n",
       "      <td>Disillusioned sales manager David Pettigrew is...</td>\n",
       "    </tr>\n",
       "    <tr>\n",
       "      <th>108416</th>\n",
       "      <td>108419</td>\n",
       "      <td>tt2186766</td>\n",
       "      <td>All Stars</td>\n",
       "      <td>Two kids look to throw an ambitious dance show...</td>\n",
       "      <td>6 misfits. One show...No way!</td>\n",
       "      <td>[musical]</td>\n",
       "      <td>[Amelia Clarkson, Ashley Walters, Dominic Herm...</td>\n",
       "      <td>Ben Gregor</td>\n",
       "      <td>[Family, Comedy]</td>\n",
       "      <td>Two kids look to throw an ambitious dance show...</td>\n",
       "    </tr>\n",
       "  </tbody>\n",
       "</table>\n",
       "<p>36726 rows × 10 columns</p>\n",
       "</div>"
      ],
      "text/plain": [
       "            id  ...                                        description\n",
       "0            1  ...  An English Duke from 1876 is inadvertedly drag...\n",
       "1            2  ...  After being released from prison, Augie Corton...\n",
       "2            3  ...  A surgeon causes an accident which leaves his ...\n",
       "4            5  ...  A family inherits what proves to be a haunted ...\n",
       "5            6  ...  In 1836, a small band of soldiers sacrifice th...\n",
       "...        ...  ...                                                ...\n",
       "108386  108389  ...  Six people from different walks of life search...\n",
       "108392  108395  ...  In a meditative sci-fi journey, eastern spirit...\n",
       "108399  108402  ...  High in the mountains, two orphaned children k...\n",
       "108404  108407  ...  Disillusioned sales manager David Pettigrew is...\n",
       "108416  108419  ...  Two kids look to throw an ambitious dance show...\n",
       "\n",
       "[36726 rows x 10 columns]"
      ]
     },
     "execution_count": 12,
     "metadata": {},
     "output_type": "execute_result"
    }
   ],
   "source": [
    "smd"
   ]
  },
  {
   "cell_type": "markdown",
   "metadata": {
    "application/vnd.databricks.v1+cell": {
     "cellMetadata": {
      "byteLimit": 2048000,
      "rowLimit": 10000
     },
     "inputWidgets": {},
     "nuid": "6200deae-8f70-4d63-8c9a-a7c9fea9c4db",
     "showTitle": false,
     "title": ""
    }
   },
   "source": [
    "#### Director"
   ]
  },
  {
   "cell_type": "code",
   "execution_count": 0,
   "metadata": {
    "application/vnd.databricks.v1+cell": {
     "cellMetadata": {
      "byteLimit": 2048000,
      "rowLimit": 10000
     },
     "inputWidgets": {},
     "nuid": "7118a4bc-cae7-4e28-8706-7693cb8acecf",
     "showTitle": false,
     "title": ""
    }
   },
   "outputs": [
    {
     "output_type": "execute_result",
     "data": {
      "text/html": [
       "<div>\n",
       "<style scoped>\n",
       "    .dataframe tbody tr th:only-of-type {\n",
       "        vertical-align: middle;\n",
       "    }\n",
       "\n",
       "    .dataframe tbody tr th {\n",
       "        vertical-align: top;\n",
       "    }\n",
       "\n",
       "    .dataframe thead th {\n",
       "        text-align: right;\n",
       "    }\n",
       "</style>\n",
       "<table border=\"1\" class=\"dataframe\">\n",
       "  <thead>\n",
       "    <tr style=\"text-align: right;\">\n",
       "      <th></th>\n",
       "      <th>id</th>\n",
       "      <th>imdbId</th>\n",
       "      <th>title</th>\n",
       "      <th>plot</th>\n",
       "      <th>tagline</th>\n",
       "      <th>keywords</th>\n",
       "      <th>cast</th>\n",
       "      <th>director</th>\n",
       "      <th>genres</th>\n",
       "      <th>description</th>\n",
       "    </tr>\n",
       "  </thead>\n",
       "  <tbody>\n",
       "    <tr>\n",
       "      <th>0</th>\n",
       "      <td>1</td>\n",
       "      <td>tt0035423</td>\n",
       "      <td>Kate &amp; Leopold</td>\n",
       "      <td>An English Duke from 1876 is inadvertedly drag...</td>\n",
       "      <td>If they lived in the same century, they'd be p...</td>\n",
       "      <td>[marriage for money, love of one's life, duke,...</td>\n",
       "      <td>[Andrew Jack, Arthur J. Nascarella, Bradley Wh...</td>\n",
       "      <td>[James Mangold, James Mangold, James Mangold]</td>\n",
       "      <td>[Comedy, Fantasy, Romance]</td>\n",
       "      <td>An English Duke from 1876 is inadvertedly drag...</td>\n",
       "    </tr>\n",
       "    <tr>\n",
       "      <th>1</th>\n",
       "      <td>2</td>\n",
       "      <td>tt0053273</td>\n",
       "      <td>The Shakedown</td>\n",
       "      <td>After being released from prison, Augie Corton...</td>\n",
       "      <td>Models were the bait for BLACKMAIL!</td>\n",
       "      <td>[person in a sack, female police officer, tied...</td>\n",
       "      <td>[Charles Lamb, Dorinda Stevens, Douglas Bradle...</td>\n",
       "      <td>[John Lemont, John Lemont, John Lemont]</td>\n",
       "      <td>[Drama, Crime]</td>\n",
       "      <td>After being released from prison, Augie Corton...</td>\n",
       "    </tr>\n",
       "    <tr>\n",
       "      <th>2</th>\n",
       "      <td>3</td>\n",
       "      <td>tt0053459</td>\n",
       "      <td>Eyes Without a Face</td>\n",
       "      <td>A surgeon causes an accident which leaves his ...</td>\n",
       "      <td>Beautiful women were the victims of his fiendi...</td>\n",
       "      <td>[ulcer, film noir, surgeon, experiment, dove, ...</td>\n",
       "      <td>[Brigitte Juslin, Béatrice Altariba, Charles B...</td>\n",
       "      <td>[Georges Franju, Georges Franju, Georges Franju]</td>\n",
       "      <td>[Horror, Drama]</td>\n",
       "      <td>A surgeon causes an accident which leaves his ...</td>\n",
       "    </tr>\n",
       "    <tr>\n",
       "      <th>4</th>\n",
       "      <td>5</td>\n",
       "      <td>tt0053559</td>\n",
       "      <td>13 Ghosts</td>\n",
       "      <td>A family inherits what proves to be a haunted ...</td>\n",
       "      <td>IT'S FUN TO BE SCARED BY 13 GHOSTS</td>\n",
       "      <td>[mask, mansion, museum, ghost, revenge, séance...</td>\n",
       "      <td>[Darryl Scott McFadden, David Hoffman, Donald ...</td>\n",
       "      <td>[William Castle, William Castle, William Castle]</td>\n",
       "      <td>[Mystery, Horror]</td>\n",
       "      <td>A family inherits what proves to be a haunted ...</td>\n",
       "    </tr>\n",
       "    <tr>\n",
       "      <th>5</th>\n",
       "      <td>6</td>\n",
       "      <td>tt0053580</td>\n",
       "      <td>The Alamo</td>\n",
       "      <td>In 1836, a small band of soldiers sacrifice th...</td>\n",
       "      <td>The Mission That Became a Fortress! The Fortre...</td>\n",
       "      <td>[texas, assault, mexican army, alamo]</td>\n",
       "      <td>[Aissa Wayne, Bill Daniel, Carlos Arruza]</td>\n",
       "      <td>[John Wayne, John Wayne, John Wayne]</td>\n",
       "      <td>[War, Western, History, Drama, Adventure]</td>\n",
       "      <td>In 1836, a small band of soldiers sacrifice th...</td>\n",
       "    </tr>\n",
       "    <tr>\n",
       "      <th>...</th>\n",
       "      <td>...</td>\n",
       "      <td>...</td>\n",
       "      <td>...</td>\n",
       "      <td>...</td>\n",
       "      <td>...</td>\n",
       "      <td>...</td>\n",
       "      <td>...</td>\n",
       "      <td>...</td>\n",
       "      <td>...</td>\n",
       "      <td>...</td>\n",
       "    </tr>\n",
       "    <tr>\n",
       "      <th>108386</th>\n",
       "      <td>108389</td>\n",
       "      <td>tt2140411</td>\n",
       "      <td>Solace</td>\n",
       "      <td>Six people from different walks of life search...</td>\n",
       "      <td>Alone is sometimes best</td>\n",
       "      <td>[one word title]</td>\n",
       "      <td>[Anthony R. McClara, Dixie Light, Ric Reitz]</td>\n",
       "      <td>[Vandon Gibbs, Vandon Gibbs, Vandon Gibbs]</td>\n",
       "      <td>[Thriller]</td>\n",
       "      <td>Six people from different walks of life search...</td>\n",
       "    </tr>\n",
       "    <tr>\n",
       "      <th>108392</th>\n",
       "      <td>108395</td>\n",
       "      <td>tt2072277</td>\n",
       "      <td>The Wisdom Tree</td>\n",
       "      <td>In a meditative sci-fi journey, eastern spirit...</td>\n",
       "      <td>Science meets Art meets Mysticism</td>\n",
       "      <td>[fine art, classical music, neuroscientist, qu...</td>\n",
       "      <td>[Aditi Kisara, Andrea Kulkarni, Cristina DelVa...</td>\n",
       "      <td>[Sunil Shah, Sunil Shah, Sunil Shah]</td>\n",
       "      <td>[Mystery, Sci-Fi, Drama]</td>\n",
       "      <td>In a meditative sci-fi journey, eastern spirit...</td>\n",
       "    </tr>\n",
       "    <tr>\n",
       "      <th>108399</th>\n",
       "      <td>108402</td>\n",
       "      <td>tt2085752</td>\n",
       "      <td>Autumn Blood</td>\n",
       "      <td>High in the mountains, two orphaned children k...</td>\n",
       "      <td>Season of vengeance.</td>\n",
       "      <td>[nude swimming, rifle, alpine village, social ...</td>\n",
       "      <td>[Annica McCrudden, Elias Doblander, George Lenz]</td>\n",
       "      <td>[Markus Blunder, Markus Blunder, Markus Blunder]</td>\n",
       "      <td>[Thriller, Drama]</td>\n",
       "      <td>High in the mountains, two orphaned children k...</td>\n",
       "    </tr>\n",
       "    <tr>\n",
       "      <th>108404</th>\n",
       "      <td>108407</td>\n",
       "      <td>tt2191605</td>\n",
       "      <td>Addict</td>\n",
       "      <td>Disillusioned sales manager David Pettigrew is...</td>\n",
       "      <td>Some addictions can't be broken</td>\n",
       "      <td>[psychological thriller, addict, prostitute]</td>\n",
       "      <td>[Brandon Cooke, Carl Austin, E Tegan O'Brien]</td>\n",
       "      <td>[Geoff Harmer, Geoff Harmer, Geoff Harmer]</td>\n",
       "      <td>[Drama]</td>\n",
       "      <td>Disillusioned sales manager David Pettigrew is...</td>\n",
       "    </tr>\n",
       "    <tr>\n",
       "      <th>108416</th>\n",
       "      <td>108419</td>\n",
       "      <td>tt2186766</td>\n",
       "      <td>All Stars</td>\n",
       "      <td>Two kids look to throw an ambitious dance show...</td>\n",
       "      <td>6 misfits. One show...No way!</td>\n",
       "      <td>[musical]</td>\n",
       "      <td>[Amelia Clarkson, Ashley Walters, Dominic Herm...</td>\n",
       "      <td>[Ben Gregor, Ben Gregor, Ben Gregor]</td>\n",
       "      <td>[Family, Comedy]</td>\n",
       "      <td>Two kids look to throw an ambitious dance show...</td>\n",
       "    </tr>\n",
       "  </tbody>\n",
       "</table>\n",
       "<p>36726 rows × 10 columns</p>\n",
       "</div>"
      ],
      "text/plain": [
       "            id  ...                                        description\n",
       "0            1  ...  An English Duke from 1876 is inadvertedly drag...\n",
       "1            2  ...  After being released from prison, Augie Corton...\n",
       "2            3  ...  A surgeon causes an accident which leaves his ...\n",
       "4            5  ...  A family inherits what proves to be a haunted ...\n",
       "5            6  ...  In 1836, a small band of soldiers sacrifice th...\n",
       "...        ...  ...                                                ...\n",
       "108386  108389  ...  Six people from different walks of life search...\n",
       "108392  108395  ...  In a meditative sci-fi journey, eastern spirit...\n",
       "108399  108402  ...  High in the mountains, two orphaned children k...\n",
       "108404  108407  ...  Disillusioned sales manager David Pettigrew is...\n",
       "108416  108419  ...  Two kids look to throw an ambitious dance show...\n",
       "\n",
       "[36726 rows x 10 columns]"
      ]
     },
     "execution_count": 13,
     "metadata": {},
     "output_type": "execute_result"
    }
   ],
   "source": [
    "smd['director'] = smd['director'].apply(lambda x: [x,x,x])\n",
    "smd"
   ]
  },
  {
   "cell_type": "markdown",
   "metadata": {
    "application/vnd.databricks.v1+cell": {
     "cellMetadata": {
      "byteLimit": 2048000,
      "rowLimit": 10000
     },
     "inputWidgets": {},
     "nuid": "60994d20-d0f5-4e91-b0d1-649509515c9c",
     "showTitle": false,
     "title": ""
    }
   },
   "source": [
    "#### Keyword"
   ]
  },
  {
   "cell_type": "code",
   "execution_count": 0,
   "metadata": {
    "application/vnd.databricks.v1+cell": {
     "cellMetadata": {
      "byteLimit": 2048000,
      "rowLimit": 10000
     },
     "inputWidgets": {},
     "nuid": "dc203f41-fcaa-44f2-9bc3-4e840909a67b",
     "showTitle": false,
     "title": ""
    }
   },
   "outputs": [],
   "source": [
    "import pandas as pd\n",
    "s = smd.apply(lambda x: pd.Series(x['keywords']),axis=1).stack().reset_index(level=1, drop=True) #1 row\n",
    "s.name = 'keyword'"
   ]
  },
  {
   "cell_type": "code",
   "execution_count": 0,
   "metadata": {
    "application/vnd.databricks.v1+cell": {
     "cellMetadata": {
      "byteLimit": 2048000,
      "rowLimit": 10000
     },
     "inputWidgets": {},
     "nuid": "db50de91-ad27-4668-857c-2f4af0a5c522",
     "showTitle": false,
     "title": ""
    }
   },
   "outputs": [],
   "source": [
    "# Đếm số lần xuất hiện của từng từ khóa\n",
    "s = s.value_counts()\n",
    "\n",
    "# Chỉ giữ lại các từ khóa xuất hiện nhiều hơn 1 lần\n",
    "s = s[s > 1]"
   ]
  },
  {
   "cell_type": "code",
   "execution_count": 0,
   "metadata": {
    "application/vnd.databricks.v1+cell": {
     "cellMetadata": {
      "byteLimit": 2048000,
      "rowLimit": 10000
     },
     "inputWidgets": {},
     "nuid": "97add5f0-f2ff-432c-be71-603546918f70",
     "showTitle": false,
     "title": ""
    }
   },
   "outputs": [],
   "source": [
    "def filter_keywords(x):\n",
    "    words = []\n",
    "    for i in x:\n",
    "        if i in s:\n",
    "            words.append(i)\n",
    "    return words"
   ]
  },
  {
   "cell_type": "code",
   "execution_count": 0,
   "metadata": {
    "application/vnd.databricks.v1+cell": {
     "cellMetadata": {
      "byteLimit": 2048000,
      "rowLimit": 10000
     },
     "inputWidgets": {},
     "nuid": "1dd6227a-b80f-4ad8-a520-11b5cf51db85",
     "showTitle": false,
     "title": ""
    }
   },
   "outputs": [],
   "source": [
    "from nltk.stem.snowball import SnowballStemmer\n",
    "stemmer = SnowballStemmer('english')"
   ]
  },
  {
   "cell_type": "code",
   "execution_count": 0,
   "metadata": {
    "application/vnd.databricks.v1+cell": {
     "cellMetadata": {
      "byteLimit": 2048000,
      "rowLimit": 10000
     },
     "inputWidgets": {},
     "nuid": "b5543a8c-80fd-4437-a37e-88dea4307d76",
     "showTitle": false,
     "title": ""
    }
   },
   "outputs": [],
   "source": [
    "smd['keywords'] = smd['keywords'].apply(filter_keywords)\n",
    "smd['keywords'] = smd['keywords'].apply(lambda x: [stemmer.stem(i) for i in x])\n",
    "# smd.head(5)"
   ]
  },
  {
   "cell_type": "code",
   "execution_count": 0,
   "metadata": {
    "application/vnd.databricks.v1+cell": {
     "cellMetadata": {
      "byteLimit": 2048000,
      "rowLimit": 10000
     },
     "inputWidgets": {},
     "nuid": "5965fa1e-681d-4cf8-be11-9fb89b6f6882",
     "showTitle": false,
     "title": ""
    }
   },
   "outputs": [],
   "source": [
    "# smd.loc[0, 'keywords']"
   ]
  },
  {
   "cell_type": "markdown",
   "metadata": {
    "application/vnd.databricks.v1+cell": {
     "cellMetadata": {
      "byteLimit": 2048000,
      "rowLimit": 10000
     },
     "inputWidgets": {},
     "nuid": "e362b7a3-f723-4a2c-8546-fbb3a661ce70",
     "showTitle": false,
     "title": ""
    }
   },
   "source": [
    "#### Sanitize data\n"
   ]
  },
  {
   "cell_type": "code",
   "execution_count": 0,
   "metadata": {
    "application/vnd.databricks.v1+cell": {
     "cellMetadata": {
      "byteLimit": 2048000,
      "rowLimit": 10000
     },
     "inputWidgets": {},
     "nuid": "ce518ab5-493e-454f-b91a-eafa4efcbdde",
     "showTitle": false,
     "title": ""
    }
   },
   "outputs": [],
   "source": [
    "def sanitize(x):\n",
    "    if isinstance(x, list):\n",
    "        #Strip spaces and convert to lowercase\n",
    "        return [str.lower(i.replace(\" \", \"\")) for i in x]\n",
    "    else:\n",
    "        #Check if director exists. If not, return empty string\n",
    "        if isinstance(x, str):\n",
    "            return str.lower(x.replace(\" \", \"\"))\n",
    "        else:\n",
    "            return ''"
   ]
  },
  {
   "cell_type": "code",
   "execution_count": 0,
   "metadata": {
    "application/vnd.databricks.v1+cell": {
     "cellMetadata": {
      "byteLimit": 2048000,
      "rowLimit": 10000
     },
     "inputWidgets": {},
     "nuid": "46e401f9-c79e-4a46-86ae-49841ef8c5cb",
     "showTitle": false,
     "title": ""
    }
   },
   "outputs": [],
   "source": [
    "for feature in ['cast', 'director', 'genres', 'keywords']:\n",
    "    smd[feature] = smd[feature].apply(sanitize)"
   ]
  },
  {
   "cell_type": "code",
   "execution_count": 0,
   "metadata": {
    "application/vnd.databricks.v1+cell": {
     "cellMetadata": {
      "byteLimit": 2048000,
      "rowLimit": 10000
     },
     "inputWidgets": {},
     "nuid": "39658f7d-f6bf-417d-9eb4-0e8a8c45e15c",
     "showTitle": false,
     "title": ""
    }
   },
   "outputs": [],
   "source": [
    "def ensure_list(x):\n",
    "    if isinstance(x, list):\n",
    "        return x\n",
    "    else:\n",
    "        return [x]\n",
    "        "
   ]
  },
  {
   "cell_type": "code",
   "execution_count": 0,
   "metadata": {
    "application/vnd.databricks.v1+cell": {
     "cellMetadata": {
      "byteLimit": 2048000,
      "rowLimit": 10000
     },
     "inputWidgets": {},
     "nuid": "fc519ed8-99a2-4b37-8cd4-ef8dc86469eb",
     "showTitle": false,
     "title": ""
    }
   },
   "outputs": [],
   "source": [
    "for feature in ['cast', 'director', 'genres', 'keywords', 'description']:\n",
    "    smd[feature] = smd[feature].apply(ensure_list)\n"
   ]
  },
  {
   "cell_type": "code",
   "execution_count": 0,
   "metadata": {
    "application/vnd.databricks.v1+cell": {
     "cellMetadata": {
      "byteLimit": 2048000,
      "rowLimit": 10000
     },
     "inputWidgets": {},
     "nuid": "76427682-641d-4e3e-a0f3-6cb7a98a1a09",
     "showTitle": false,
     "title": ""
    }
   },
   "outputs": [],
   "source": [
    "smd['soup'] = smd['genres'] + smd['keywords'] +  smd['director'] + smd['cast'] + smd['description']\n",
    "smd['soup'] = smd['soup'].apply(lambda x: ' '.join(x))\n"
   ]
  },
  {
   "cell_type": "code",
   "execution_count": 0,
   "metadata": {
    "application/vnd.databricks.v1+cell": {
     "cellMetadata": {
      "byteLimit": 2048000,
      "rowLimit": 10000
     },
     "inputWidgets": {},
     "nuid": "3b5b15e3-4f04-4e42-b8eb-2b9660091e50",
     "showTitle": false,
     "title": ""
    }
   },
   "outputs": [],
   "source": [
    "# smd['soup'].head(5)"
   ]
  },
  {
   "cell_type": "code",
   "execution_count": 0,
   "metadata": {
    "application/vnd.databricks.v1+cell": {
     "cellMetadata": {
      "byteLimit": 2048000,
      "rowLimit": 10000
     },
     "inputWidgets": {},
     "nuid": "97999710-98e3-4cf0-ac40-32c62aac3841",
     "showTitle": false,
     "title": ""
    }
   },
   "outputs": [],
   "source": [
    "smd = smd.head(10000)\n",
    "# smd.head(2500)"
   ]
  },
  {
   "cell_type": "code",
   "execution_count": 0,
   "metadata": {
    "application/vnd.databricks.v1+cell": {
     "cellMetadata": {
      "byteLimit": 2048000,
      "rowLimit": 10000
     },
     "inputWidgets": {},
     "nuid": "a30b3d87-ba60-4e3b-8f45-3829bf0f13b8",
     "showTitle": false,
     "title": ""
    }
   },
   "outputs": [],
   "source": [
    "from sklearn.feature_extraction.text import TfidfVectorizer, CountVectorizer\n",
    "\n",
    "# count = CountVectorizer(analyzer='word', stop_words='english')\n",
    "# count_matrix = count.fit_transform(smd['soup'])\n",
    "\n",
    "tf = TfidfVectorizer(analyzer='word', stop_words='english')\n",
    "tfidf_matrix = tf.fit_transform(smd['soup'])"
   ]
  },
  {
   "cell_type": "code",
   "execution_count": 0,
   "metadata": {
    "application/vnd.databricks.v1+cell": {
     "cellMetadata": {
      "byteLimit": 2048000,
      "rowLimit": 10000
     },
     "inputWidgets": {},
     "nuid": "8b830604-9aa0-46bf-81fb-7ca0dd272970",
     "showTitle": false,
     "title": ""
    }
   },
   "outputs": [],
   "source": [
    "from sklearn.metrics.pairwise import cosine_similarity\n",
    "# import pickle\n",
    "# cosine_sim = pickle.load(open('/dbfs/mnt/datalake/model/cosine_sim1.pkl','rb'))\n",
    "# indices = pickle.load(open('/dbfs/mnt/datalake/model/indices.pkl','rb'))\n",
    "# titles = pickle.load(open('/dbfs/mnt/datalake/model/titles.pkl','rb'))\n",
    "\n",
    "# cosine_sim_count = cosine_similarity(count_matrix, count_matrix)\n",
    "cosine_sim_tfidf = cosine_similarity(tfidf_matrix, tfidf_matrix)"
   ]
  },
  {
   "cell_type": "code",
   "execution_count": 0,
   "metadata": {
    "application/vnd.databricks.v1+cell": {
     "cellMetadata": {
      "byteLimit": 2048000,
      "rowLimit": 10000
     },
     "inputWidgets": {},
     "nuid": "132b8c78-f996-49a8-a6dd-2934ca80142e",
     "showTitle": false,
     "title": ""
    }
   },
   "outputs": [],
   "source": [
    "df = smd.reset_index()\n",
    "titles = df['title']\n",
    "# tạo một Series với index của Series mới sẽ là cột 'id' của DataFrame df và giá trị index là index của DataFrame df,\n",
    "indices = pd.Series(df.index, index=df['title'])"
   ]
  },
  {
   "cell_type": "code",
   "execution_count": 0,
   "metadata": {
    "application/vnd.databricks.v1+cell": {
     "cellMetadata": {
      "byteLimit": 2048000,
      "rowLimit": 10000
     },
     "inputWidgets": {},
     "nuid": "4a4c87c7-6cff-49f5-a160-3e3ddce3096c",
     "showTitle": false,
     "title": ""
    }
   },
   "outputs": [
    {
     "output_type": "execute_result",
     "data": {
      "text/plain": [
       "title\n",
       "Kate & Leopold            0\n",
       "The Shakedown             1\n",
       "Eyes Without a Face       2\n",
       "13 Ghosts                 3\n",
       "The Alamo                 4\n",
       "                       ... \n",
       "Sweetie                9995\n",
       "The Tall Guy           9996\n",
       "Tango & Cash           9997\n",
       "Tap                    9998\n",
       "Three Fugitives        9999\n",
       "Length: 10000, dtype: int64"
      ]
     },
     "execution_count": 43,
     "metadata": {},
     "output_type": "execute_result"
    }
   ],
   "source": [
    "indices"
   ]
  },
  {
   "cell_type": "code",
   "execution_count": 0,
   "metadata": {
    "application/vnd.databricks.v1+cell": {
     "cellMetadata": {
      "byteLimit": 2048000,
      "rowLimit": 10000
     },
     "inputWidgets": {},
     "nuid": "1df58770-1076-4048-a65e-6fc5f2a627aa",
     "showTitle": false,
     "title": ""
    }
   },
   "outputs": [],
   "source": [
    "# import pickle\n",
    "# with open(\"/dbfs/mnt/datalake/model/cosine_sim1.pkl\", \"wb\") as file:\n",
    "#     pickle.dump(cosine_sim, file)"
   ]
  },
  {
   "cell_type": "code",
   "execution_count": 0,
   "metadata": {
    "application/vnd.databricks.v1+cell": {
     "cellMetadata": {
      "byteLimit": 2048000,
      "rowLimit": 10000
     },
     "inputWidgets": {},
     "nuid": "722092fb-3d77-42d9-884d-516b464b8c8b",
     "showTitle": false,
     "title": ""
    }
   },
   "outputs": [],
   "source": [
    "# with open(\"/dbfs/mnt/datalake/model/indices.pkl\", \"wb\") as file:\n",
    "#     pickle.dump(indices, file)"
   ]
  },
  {
   "cell_type": "code",
   "execution_count": 0,
   "metadata": {
    "application/vnd.databricks.v1+cell": {
     "cellMetadata": {
      "byteLimit": 2048000,
      "rowLimit": 10000
     },
     "inputWidgets": {},
     "nuid": "2ffaf677-a620-498b-a32d-04bab12afab7",
     "showTitle": false,
     "title": ""
    }
   },
   "outputs": [],
   "source": [
    "# with open(\"/dbfs/mnt/datalake/model/titles.pkl\", \"wb\") as file:\n",
    "#     pickle.dump(titles, file)"
   ]
  },
  {
   "cell_type": "code",
   "execution_count": 0,
   "metadata": {
    "application/vnd.databricks.v1+cell": {
     "cellMetadata": {
      "byteLimit": 2048000,
      "rowLimit": 10000
     },
     "inputWidgets": {},
     "nuid": "ba643e61-a5f4-4b79-824a-90a93aca3a60",
     "showTitle": false,
     "title": ""
    }
   },
   "outputs": [],
   "source": [
    "def get_recommendations(title, cosine_sim):\n",
    "    idx = indices[title] # nhập id trả về index\n",
    "    sim_scores = list(enumerate(cosine_sim[idx]))\n",
    "    sim_scores = sorted(sim_scores, key=lambda x: x[1], reverse=True)\n",
    "    sim_scores = sim_scores[1:11]\n",
    "    movie_indices = [i[0] for i in sim_scores]\n",
    "    return titles.iloc[movie_indices]"
   ]
  },
  {
   "cell_type": "code",
   "execution_count": 0,
   "metadata": {
    "application/vnd.databricks.v1+cell": {
     "cellMetadata": {
      "byteLimit": 2048000,
      "rowLimit": 10000
     },
     "inputWidgets": {},
     "nuid": "f712744d-94b4-4902-900c-1ce444996187",
     "showTitle": false,
     "title": ""
    }
   },
   "outputs": [
    {
     "output_type": "execute_result",
     "data": {
      "text/plain": [
       "3856                 Spider-Man 3\n",
       "3392                 Spider-Man 2\n",
       "5641    Oz the Great and Powerful\n",
       "1646                      Darkman\n",
       "4899              Drag Me to Hell\n",
       "2282       The Quick and the Dead\n",
       "9050                A Simple Plan\n",
       "4526       The Amazing Spider-Man\n",
       "913                 The Evil Dead\n",
       "3029                     The Gift\n",
       "Name: title, dtype: object"
      ]
     },
     "execution_count": 55,
     "metadata": {},
     "output_type": "execute_result"
    }
   ],
   "source": [
    "get_recommendations('Spider-Man', cosine_sim_tfidf).head(10)"
   ]
  },
  {
   "cell_type": "code",
   "execution_count": 0,
   "metadata": {
    "application/vnd.databricks.v1+cell": {
     "cellMetadata": {
      "byteLimit": 2048000,
      "rowLimit": 10000
     },
     "inputWidgets": {},
     "nuid": "aa5cc9cd-7a19-4a18-9f22-fae46002a63c",
     "showTitle": false,
     "title": ""
    }
   },
   "outputs": [],
   "source": [
    "# def get_recommendations_1(id):\n",
    "#     idx = indices[id] # nhập id trả về index\n",
    "#     sim_scores = list(enumerate(cosine_sim_1[idx]))\n",
    "#     sim_scores = sorted(sim_scores, key=lambda x: x[1], reverse=True)\n",
    "#     sim_scores = sim_scores[1:10]\n",
    "#     movie_indices = [i[0] for i in sim_scores]\n",
    "#     return titles.iloc[movie_indices]"
   ]
  },
  {
   "cell_type": "code",
   "execution_count": 0,
   "metadata": {
    "application/vnd.databricks.v1+cell": {
     "cellMetadata": {
      "byteLimit": 2048000,
      "rowLimit": 10000
     },
     "inputWidgets": {},
     "nuid": "d81a525f-4868-4bbc-9abb-771e8d0c7593",
     "showTitle": false,
     "title": ""
    }
   },
   "outputs": [
    {
     "output_type": "execute_result",
     "data": {
      "text/plain": [
       "3856                         Spider-Man 3\n",
       "3392                         Spider-Man 2\n",
       "4526               The Amazing Spider-Man\n",
       "5641            Oz the Great and Powerful\n",
       "7014    Spider-Man: Into the Spider-Verse\n",
       "6179               Spider-Man: Homecoming\n",
       "4899                      Drag Me to Hell\n",
       "1646                              Darkman\n",
       "4815              Spider-Man: No Way Home\n",
       "913                         The Evil Dead\n",
       "Name: title, dtype: object"
      ]
     },
     "execution_count": 51,
     "metadata": {},
     "output_type": "execute_result"
    }
   ],
   "source": [
    "get_recommendations('Spider-Man', cosine_sim_count).head(10)"
   ]
  },
  {
   "cell_type": "code",
   "execution_count": 0,
   "metadata": {
    "application/vnd.databricks.v1+cell": {
     "cellMetadata": {
      "byteLimit": 2048000,
      "rowLimit": 10000
     },
     "inputWidgets": {},
     "nuid": "ae53d9da-f5f5-45de-8252-b1d69c139cb6",
     "showTitle": false,
     "title": ""
    }
   },
   "outputs": [],
   "source": []
  }
 ],
 "metadata": {
  "application/vnd.databricks.v1+notebook": {
   "dashboards": [],
   "language": "python",
   "notebookMetadata": {
    "mostRecentlyExecutedCommandWithImplicitDF": {
     "commandId": 3543251477452445,
     "dataframes": [
      "_sqldf"
     ]
    },
    "pythonIndentUnit": 4
   },
   "notebookName": "Metadata-Recommend",
   "widgets": {}
  }
 },
 "nbformat": 4,
 "nbformat_minor": 0
}
