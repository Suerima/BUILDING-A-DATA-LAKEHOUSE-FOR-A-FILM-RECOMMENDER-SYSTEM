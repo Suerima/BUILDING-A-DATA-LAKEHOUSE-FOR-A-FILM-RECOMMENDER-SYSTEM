{
 "cells": [
  {
   "cell_type": "code",
   "execution_count": 0,
   "metadata": {
    "application/vnd.databricks.v1+cell": {
     "cellMetadata": {
      "byteLimit": 2048000,
      "rowLimit": 10000
     },
     "inputWidgets": {},
     "nuid": "c0365e92-d4cd-447c-acae-fd41a912022f",
     "showTitle": false,
     "title": ""
    }
   },
   "outputs": [],
   "source": [
    "df = spark.read.table('silver.movie')"
   ]
  },
  {
   "cell_type": "code",
   "execution_count": 0,
   "metadata": {
    "application/vnd.databricks.v1+cell": {
     "cellMetadata": {
      "byteLimit": 2048000,
      "rowLimit": 10000
     },
     "inputWidgets": {},
     "nuid": "fe0e0161-088f-405b-9bd2-f8efea02af7f",
     "showTitle": false,
     "title": ""
    }
   },
   "outputs": [
    {
     "output_type": "stream",
     "name": "stdout",
     "output_type": "stream",
     "text": [
      "+---+---------+--------------------+----------+--------------------+------+---------+--------------------+--------+--------------------+--------------------+----------+--------+---------+\n| id|   imdbId|               title|   release|                plot|rating|voteCount|             tagline|language|           companies|           countries|popularity|  budget|  revenue|\n+---+---------+--------------------+----------+--------------------+------+---------+--------------------+--------+--------------------+--------------------+----------+--------+---------+\n|  1|tt0035423|      Kate & Leopold|2002-02-14|An English Duke f...|   6.4|    87814|If they lived in ...|      en|[{'name': 'Mirama...|[{'iso_3166_1': '...|  7.196356|48000000| 76019048|\n|  6|tt0053580|           The Alamo|1961-07-14|In 1836, a small ...|   6.8|    17070|The Mission That ...|      en|[{'name': 'United...|[{'iso_3166_1': '...|   4.73816|12000000|  7900000|\n| 12|tt0053779|       La Dolce Vita|1960-06-10|A series of stori...|   8.0|    76682|The world’s most ...|      it|[{'name': 'Pathé ...|[{'iso_3166_1': '...| 11.063822|       0|   198220|\n| 13|tt0053793|        Elmer Gantry|1961-06-01|A fast-talking tr...|   7.7|    12434|If there was a do...|      en|[{'name': 'United...|[{'iso_3166_1': '...|  6.409512| 3000000| 10400000|\n| 16|tt0053976|   The Virgin Spring|1960-02-08|In 14th-century S...|   8.0|    30953|Ravished innocenc...|      sv|[{'name': 'Svensk...|[{'iso_3166_1': '...| 10.353794|       0|     1528|\n| 22|tt0054167|         Peeping Tom|1961-06-03|A young man murde...|   7.6|    37960|What made this th...|      en|[{'name': 'Nation...|[{'iso_3166_1': '...|  7.229587|  135000|    24640|\n| 26|tt0054248|Rocco and His Bro...|1961-03-10|Having recently b...|   8.2|    20615|DARING in its rea...|      it|[{'name': 'Titanu...|[{'iso_3166_1': '...|   4.21602|       0|    11328|\n| 27|tt0054331|           Spartacus|1961-03-24|The slave Spartac...|   7.9|   140546|They trained him ...|      en|[{'name': 'Bryna ...|[{'iso_3166_1': '...| 11.110376|12000000|  1844917|\n| 28|tt0054357|Swiss Family Robi...|1963-07-25|A Swiss family mu...|   7.1|    17647|THE ADVENTURE OF ...|      en|[{'name': 'Walt D...|[{'iso_3166_1': '...|  4.623089| 5000000| 40356000|\n| 31|tt0054698|Breakfast at Tiff...|1961-12-21|A young New York ...|   7.6|   188357|Audrey Hepburn pl...|      en|[{'name': 'Paramo...|[{'iso_3166_1': '...| 10.879289| 2500000|   508012|\n| 34|tt0054790|The Day the Earth...|1961-11-23|When the U.S. and...|   7.2|     5895|The INCREDIBLE be...|      en|[{'name': 'Pax Fi...|[{'iso_3166_1': '...|  3.150237|  200000|        0|\n| 44|tt0055254|One Hundred and O...|1961-01-25|When a litter of ...|   7.3|   177792|The Canine Caper ...|      en|[{'name': 'Walt D...|[{'iso_3166_1': '...| 15.727519| 4000000|215880014|\n| 47|tt0055471|Splendor in the G...|1961-10-20|A fragile Kansas ...|   7.7|    22274|There is a miracl...|      en|[{'name': 'Warner...|[{'iso_3166_1': '...|  9.739448|       0|        0|\n| 52|tt0055830|   Carnival of Souls|1962-11-02|After a traumatic...|   7.0|    26899|She Escaped Death...|      en|[{'name': 'Harcou...|[{'iso_3166_1': '...|  9.505439|   30000|        0|\n| 53|tt0055852|    Cléo from 5 to 7|1962-12-13|Cleo, a singer an...|   7.9|    25814|The whole world.....|      fr|[{'name': 'Rome P...|[{'iso_3166_1': '...|  4.480811|       0|     1886|\n| 65|tt0056218|The Manchurian Ca...|1964-02-13|An American POW i...|   7.9|    78372|When you've seen ...|      en|[{'name': 'United...|[{'iso_3166_1': '...|  7.991677| 2200000|  2757256|\n| 76|tt0056801|                  8½|1963-02-16|A harried movie d...|   8.0|   123009|A picture that go...|      it|[{'name': 'Cineri...|[{'iso_3166_1': '...|  6.747516|       0|   196375|\n| 78|tt0056891|      Bye Bye Birdie|1963-05-27|A rock singer tra...|   6.6|     9051|The Most WONDERFU...|      en|[{'name': 'Columb...|[{'iso_3166_1': '...| 12.535244| 5000000| 13100000|\n| 81|tt0057012|Dr. Strangelove o...|1964-01-29|An insane America...|   8.4|   508330|The hot-line susp...|      xx|                NULL|                NULL|         0| 1800000|  9523464|\n| 85|tt0057129|        The Haunting|1964-01-09|Hill House has st...|   7.4|    41603|You may not belie...|      en|[{'name': 'Argyle...|[{'iso_3166_1': '...| 10.461285| 1400000|      742|\n+---+---------+--------------------+----------+--------------------+------+---------+--------------------+--------+--------------------+--------------------+----------+--------+---------+\nonly showing top 20 rows\n\n"
     ]
    }
   ],
   "source": [
    "df.show()"
   ]
  },
  {
   "cell_type": "code",
   "execution_count": 0,
   "metadata": {
    "application/vnd.databricks.v1+cell": {
     "cellMetadata": {
      "byteLimit": 2048000,
      "rowLimit": 10000
     },
     "inputWidgets": {},
     "nuid": "c8f3ffc1-f1d0-4aa2-aa8e-840ff998a10f",
     "showTitle": false,
     "title": ""
    }
   },
   "outputs": [],
   "source": [
    "from pyspark.sql import functions as F\n",
    "from pyspark.sql.functions import col, when\n",
    "from pyspark.sql.window import Window\n",
    "\n",
    "def build_chart(percentile=0.85):\n",
    "    # Tính trung bình cộng của `vote_average`.\n",
    "    C = df.agg({'rating': 'mean'}).collect()[0][0]\n",
    "\n",
    "    # Tính lượng bình chọn tối thiểu mà một bộ phim cần có để được xem xét (ở phần trăm thứ `percentile`).\n",
    "    m = df.approxQuantile('voteCount', [percentile], 0)[0]\n",
    "    qualified = df.filter(df['voteCount'] >= m).select(['title', 'voteCount', 'rating'])\n",
    "    \n",
    "    # Tính điểm xếp hạng trọng số (`wr`) cho mỗi bộ phim đủ điều kiện.\n",
    "    qualified = qualified.withColumn('weighted rating', (col('voteCount')/(col('voteCount')+m) * col('rating')) + (m/(m+col('voteCount')) * C))\n",
    "\n",
    "    # Xếp hạng các bộ phim dựa trên `wr` và chỉ giữ lại 10 bộ phim hàng đầu.\n",
    "    window = Window.orderBy(col('weighted rating').desc())\n",
    "    qualified = qualified.withColumn('rank', F.rank().over(window)).filter(col('rank') <= 10)\n",
    "    \n",
    "    return qualified"
   ]
  },
  {
   "cell_type": "code",
   "execution_count": 0,
   "metadata": {
    "application/vnd.databricks.v1+cell": {
     "cellMetadata": {
      "byteLimit": 2048000,
      "rowLimit": 10000
     },
     "inputWidgets": {},
     "nuid": "cca218a5-6f48-4634-a308-768fd1c2ccbe",
     "showTitle": false,
     "title": ""
    }
   },
   "outputs": [
    {
     "output_type": "stream",
     "name": "stdout",
     "output_type": "stream",
     "text": [
      "+--------------------+---------+------+-----------------+----+\n|               title|voteCount|rating|  weighted rating|rank|\n+--------------------+---------+------+-----------------+----+\n|    Band of Brothers|   502155|   9.4|9.335279685195923|   1|\n|     Planet Earth II|   153861|   9.5|9.291528478702752|   2|\n|The Shawshank Red...|  2812263|   9.3|9.288604444207381|   3|\n|        Planet Earth|   216693|   9.4|9.253669719365293|   4|\n|       The Godfather|  1959950|   9.2| 9.18416532035472|   5|\n|            Sherlock|   971143|   9.1|9.069189960532354|   6|\n|     The Dark Knight|  2793959|   9.0| 8.98956701647809|   7|\n|The Lord of the R...|  1925558|   9.0|  8.9848854414852|   8|\n|    Schindler's List|  1413745|   9.0|8.979450825852933|   9|\n|The Godfather Par...|  1330803|   9.0|8.978179362047717|  10|\n+--------------------+---------+------+-----------------+----+\n\n"
     ]
    }
   ],
   "source": [
    "build_chart(0.9).show()"
   ]
  }
 ],
 "metadata": {
  "application/vnd.databricks.v1+notebook": {
   "dashboards": [],
   "language": "python",
   "notebookMetadata": {
    "pythonIndentUnit": 4
   },
   "notebookName": "Simple-Recommend",
   "widgets": {}
  }
 },
 "nbformat": 4,
 "nbformat_minor": 0
}
