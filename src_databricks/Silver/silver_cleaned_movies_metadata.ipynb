{
 "cells": [
  {
   "cell_type": "markdown",
   "metadata": {
    "application/vnd.databricks.v1+cell": {
     "cellMetadata": {
      "byteLimit": 2048000,
      "rowLimit": 10000
     },
     "inputWidgets": {},
     "nuid": "e5c98914-3500-4f88-9060-0bd5f27c812b",
     "showTitle": false,
     "title": ""
    }
   },
   "source": [
    "# Silver"
   ]
  },
  {
   "cell_type": "code",
   "execution_count": 0,
   "metadata": {
    "application/vnd.databricks.v1+cell": {
     "cellMetadata": {},
     "inputWidgets": {},
     "nuid": "87e752f1-85e7-463b-b31e-cbaccf37165d",
     "showTitle": false,
     "title": ""
    }
   },
   "outputs": [],
   "source": [
    "# configs = {\"fs.azure.account.key.storage001de.blob.core.windows.net\": \"MA38y0ZA2Ij1L3QXl/F/Y8EGXR1VjTGb896PNbUmPT99uhVLoi0qCEiBEBagBQ4yscqwq9Zxb0vX+AStlr0Z3Q==\"}\n",
    "\n",
    "# # create mount to silver\n",
    "# dbutils.fs.mount(\n",
    "# \tsource = \"wasbs://silver@storage001de.blob.core.windows.net/\",\n",
    "# \tmount_point = \"/mnt/datalake/silver\",\n",
    "# \textra_configs = configs\n",
    "# )"
   ]
  },
  {
   "cell_type": "code",
   "execution_count": 0,
   "metadata": {
    "application/vnd.databricks.v1+cell": {
     "cellMetadata": {
      "byteLimit": 2048000,
      "rowLimit": 10000
     },
     "inputWidgets": {},
     "nuid": "2e406ed3-eaa1-48c3-98af-4f7b4fcb8500",
     "showTitle": false,
     "title": ""
    }
   },
   "outputs": [],
   "source": [
    "# Define the silver location\n",
    "movies_metadata_silverLocation = \"/mnt/datalake/silver/cleaned_movies_metadata\"\n",
    "\n",
    "# Table name\n",
    "movies_metadata_bronzeTable = \"bronze.movies_metadata_cs\"\n",
    "movies_metadata_silverTable = \"silver.movies_metadata\""
   ]
  },
  {
   "cell_type": "code",
   "execution_count": 0,
   "metadata": {
    "application/vnd.databricks.v1+cell": {
     "cellMetadata": {
      "byteLimit": 2048000,
      "rowLimit": 10000
     },
     "inputWidgets": {},
     "nuid": "b86ff03d-6e42-456d-af2d-cf028d89e2dc",
     "showTitle": false,
     "title": ""
    }
   },
   "outputs": [],
   "source": [
    "# retrieve the bronze data\n",
    "movies_metadata_bronze = spark.read.table(movies_metadata_bronzeTable)"
   ]
  },
  {
   "cell_type": "code",
   "execution_count": 0,
   "metadata": {
    "application/vnd.databricks.v1+cell": {
     "cellMetadata": {
      "byteLimit": 2048000,
      "rowLimit": 10000
     },
     "inputWidgets": {},
     "nuid": "29348ae9-8d97-44c0-a457-6f23051c0aed",
     "showTitle": false,
     "title": ""
    }
   },
   "outputs": [],
   "source": [
    "movies_metadata_bronze.count()"
   ]
  },
  {
   "cell_type": "markdown",
   "metadata": {
    "application/vnd.databricks.v1+cell": {
     "cellMetadata": {
      "byteLimit": 2048000,
      "rowLimit": 10000
     },
     "inputWidgets": {},
     "nuid": "6eb282de-162a-42f8-afd9-25a48bed96cc",
     "showTitle": false,
     "title": ""
    }
   },
   "source": [
    "# Cleaning"
   ]
  },
  {
   "cell_type": "markdown",
   "metadata": {
    "application/vnd.databricks.v1+cell": {
     "cellMetadata": {
      "byteLimit": 2048000,
      "rowLimit": 10000
     },
     "inputWidgets": {},
     "nuid": "6497db6e-f1ef-4571-8e7b-b1d60e78559d",
     "showTitle": false,
     "title": ""
    }
   },
   "source": [
    "#### Drop rows have IMDB ID null"
   ]
  },
  {
   "cell_type": "code",
   "execution_count": 0,
   "metadata": {
    "application/vnd.databricks.v1+cell": {
     "cellMetadata": {
      "byteLimit": 2048000,
      "rowLimit": 10000
     },
     "inputWidgets": {},
     "nuid": "a9cb49d1-c936-4336-80fd-b997cdf682ac",
     "showTitle": false,
     "title": ""
    }
   },
   "outputs": [],
   "source": [
    "from pyspark.sql.functions import col\n",
    "\n",
    "cleaned_movies_metadata = movies_metadata_bronze.filter(col('imdb_id').isNotNull())\n",
    "cleaned_movies_metadata.count()"
   ]
  },
  {
   "cell_type": "markdown",
   "metadata": {
    "application/vnd.databricks.v1+cell": {
     "cellMetadata": {
      "byteLimit": 2048000,
      "rowLimit": 10000
     },
     "inputWidgets": {},
     "nuid": "b232eeae-58f2-4965-8327-b3eed0a95e91",
     "showTitle": false,
     "title": ""
    }
   },
   "source": [
    "#### Drop duplicates based on IMDB ID"
   ]
  },
  {
   "cell_type": "code",
   "execution_count": 0,
   "metadata": {
    "application/vnd.databricks.v1+cell": {
     "cellMetadata": {
      "byteLimit": 2048000,
      "rowLimit": 10000
     },
     "inputWidgets": {},
     "nuid": "b2a8953a-7e91-450a-87eb-d9d34c3bcf92",
     "showTitle": false,
     "title": ""
    }
   },
   "outputs": [],
   "source": [
    "# DROP Duplicates - using drop_duplicates - RETURNS NEW DF\n",
    "cleaned_movies_metadata = cleaned_movies_metadata.drop_duplicates(['imdb_id','title','release_date', 'overview'])\n",
    "cleaned_movies_metadata.count()"
   ]
  },
  {
   "cell_type": "markdown",
   "metadata": {
    "application/vnd.databricks.v1+cell": {
     "cellMetadata": {
      "byteLimit": 2048000,
      "rowLimit": 10000
     },
     "inputWidgets": {},
     "nuid": "7deddd44-4ef3-4e99-be9a-222ff76af773",
     "showTitle": false,
     "title": ""
    }
   },
   "source": [
    "#### Change position columns and change name columns"
   ]
  },
  {
   "cell_type": "code",
   "execution_count": 0,
   "metadata": {
    "application/vnd.databricks.v1+cell": {
     "cellMetadata": {
      "byteLimit": 2048000,
      "rowLimit": 10000
     },
     "inputWidgets": {},
     "nuid": "38f28e1e-5502-4fca-bd9c-154974609f8c",
     "showTitle": false,
     "title": ""
    }
   },
   "outputs": [],
   "source": [
    "cleaned_movies_metadata.printSchema()"
   ]
  },
  {
   "cell_type": "code",
   "execution_count": 0,
   "metadata": {
    "application/vnd.databricks.v1+cell": {
     "cellMetadata": {
      "byteLimit": 2048000,
      "rowLimit": 10000
     },
     "inputWidgets": {},
     "nuid": "8a38da40-cc2d-4e20-b64e-bcd771d43689",
     "showTitle": false,
     "title": ""
    }
   },
   "outputs": [],
   "source": [
    "cleaned_movies_metadata = cleaned_movies_metadata.select('id', 'imdb_id', 'title', 'genres', 'release_date', 'original_language', 'overview', 'tagline','production_companies', 'production_countries', 'budget', 'revenue', 'popularity', 'vote_average', 'vote_count')"
   ]
  },
  {
   "cell_type": "markdown",
   "metadata": {
    "application/vnd.databricks.v1+cell": {
     "cellMetadata": {
      "byteLimit": 2048000,
      "rowLimit": 10000
     },
     "inputWidgets": {},
     "nuid": "9c4c5dea-9097-476a-a9a0-4bcf735d7a60",
     "showTitle": false,
     "title": ""
    }
   },
   "source": [
    "#### Drop rows which have id incorrect values "
   ]
  },
  {
   "cell_type": "code",
   "execution_count": 0,
   "metadata": {
    "application/vnd.databricks.v1+cell": {
     "cellMetadata": {
      "byteLimit": 2048000,
      "rowLimit": 10000
     },
     "inputWidgets": {},
     "nuid": "056503e6-a383-494b-b427-ebe540ec5b38",
     "showTitle": false,
     "title": ""
    }
   },
   "outputs": [],
   "source": [
    "# drop rows which have id incorrect values \n",
    "cleaned_movies_metadata = cleaned_movies_metadata.filter(col('id').cast('int').isNotNull())\n",
    "cleaned_movies_metadata.count()"
   ]
  },
  {
   "cell_type": "markdown",
   "metadata": {
    "application/vnd.databricks.v1+cell": {
     "cellMetadata": {
      "byteLimit": 2048000,
      "rowLimit": 10000
     },
     "inputWidgets": {},
     "nuid": "8035860e-59df-4bed-842d-61006bf540bf",
     "showTitle": false,
     "title": ""
    }
   },
   "source": [
    "#### Drop rows which have null values in the Json column - \"production_companies\",\"production_countries\""
   ]
  },
  {
   "cell_type": "code",
   "execution_count": 0,
   "metadata": {
    "application/vnd.databricks.v1+cell": {
     "cellMetadata": {
      "byteLimit": 2048000,
      "rowLimit": 10000
     },
     "inputWidgets": {},
     "nuid": "bce14ff5-007a-4a6a-ba12-636e30d6f0a1",
     "showTitle": false,
     "title": ""
    }
   },
   "outputs": [],
   "source": [
    "# drop rows which have null values in the Json column - \"production_companies\",\"production_countries\"\n",
    "cleaned_movies_metadata = cleaned_movies_metadata.na.drop(subset=[\"production_companies\",\"production_countries\",\"genres\"])\n",
    "cleaned_movies_metadata.count()"
   ]
  },
  {
   "cell_type": "markdown",
   "metadata": {
    "application/vnd.databricks.v1+cell": {
     "cellMetadata": {
      "byteLimit": 2048000,
      "rowLimit": 10000
     },
     "inputWidgets": {},
     "nuid": "53d05c28-5f43-4517-9f1f-b67a98e0fba8",
     "showTitle": false,
     "title": ""
    }
   },
   "source": [
    "#### There are many rows where these columns value is '[]'. We will replace '[]' to 'Unknwon' to avoid any Json parsing issues."
   ]
  },
  {
   "cell_type": "code",
   "execution_count": 0,
   "metadata": {
    "application/vnd.databricks.v1+cell": {
     "cellMetadata": {
      "byteLimit": 2048000,
      "rowLimit": 10000
     },
     "inputWidgets": {},
     "nuid": "14f69064-9f8b-4ef9-9ea9-76f932439556",
     "showTitle": false,
     "title": ""
    }
   },
   "outputs": [],
   "source": [
    "# Columns 'production_countries','production_companies','genres' have Json format data. There are many rows where these columns value is '[]'. We will replace '[]' to 'Unknwon' to avoid any Json parsing issues.\n",
    "from pyspark.sql.functions import when\n",
    "cleaned_movies_metadata = cleaned_movies_metadata.withColumn('genres', when(col('genres')=='[]',\"[{'id': 0, 'name': 'Unknown'}]\").otherwise(col('genres')))\\\n",
    "                                                 .withColumn('production_companies', when(col('production_companies')=='[]',\"[{'name': 'Unknown', 'id': 0}]\").otherwise(col('production_companies')))\\\n",
    "                                                 .withColumn('production_countries', when(col('production_countries')=='[]',\"[{'iso_3166_1': 'Unknown', 'name': 'Unknown'}]\").otherwise(col('production_countries')))"
   ]
  },
  {
   "cell_type": "markdown",
   "metadata": {
    "application/vnd.databricks.v1+cell": {
     "cellMetadata": {
      "byteLimit": 2048000,
      "rowLimit": 10000
     },
     "inputWidgets": {},
     "nuid": "e3cad920-85fc-40dd-bb09-9361eb4aa068",
     "showTitle": false,
     "title": ""
    }
   },
   "source": [
    "#### Drop rows have vote average null but vote count not null"
   ]
  },
  {
   "cell_type": "code",
   "execution_count": 0,
   "metadata": {
    "application/vnd.databricks.v1+cell": {
     "cellMetadata": {
      "byteLimit": 2048000,
      "rowLimit": 10000
     },
     "inputWidgets": {},
     "nuid": "8c03954f-1c2e-4c88-b3ca-f898d01f1f95",
     "showTitle": false,
     "title": ""
    }
   },
   "outputs": [],
   "source": [
    "from pyspark.sql.functions import count, mean\n",
    "\n",
    "# Filter out rows where 'vote_count' or 'vote_average' is null\n",
    "\n",
    "cleaned_movies_metadata = cleaned_movies_metadata.filter(\n",
    "    (~col('vote_average').cast('int').isNull() &\n",
    "    col('vote_count').cast('int').isNotNull()))\n",
    "cleaned_movies_metadata.count()"
   ]
  },
  {
   "cell_type": "markdown",
   "metadata": {
    "application/vnd.databricks.v1+cell": {
     "cellMetadata": {
      "byteLimit": 2048000,
      "rowLimit": 10000
     },
     "inputWidgets": {},
     "nuid": "a6e25055-da8a-440d-883a-fb1c145e1da0",
     "showTitle": false,
     "title": ""
    }
   },
   "source": [
    "#### Get vote_average from 0-10"
   ]
  },
  {
   "cell_type": "code",
   "execution_count": 0,
   "metadata": {
    "application/vnd.databricks.v1+cell": {
     "cellMetadata": {
      "byteLimit": 2048000,
      "rowLimit": 10000
     },
     "inputWidgets": {},
     "nuid": "6b6f4d5c-e9d8-4e33-b6d5-5181b0ed168d",
     "showTitle": false,
     "title": ""
    }
   },
   "outputs": [],
   "source": [
    "cleaned_movies_metadata = cleaned_movies_metadata.filter((col('vote_average').between(0, 10)))\n",
    "cleaned_movies_metadata.count()"
   ]
  },
  {
   "cell_type": "markdown",
   "metadata": {
    "application/vnd.databricks.v1+cell": {
     "cellMetadata": {
      "byteLimit": 2048000,
      "rowLimit": 10000
     },
     "inputWidgets": {},
     "nuid": "ea2ba92d-8f66-4322-8c49-5d7f9554bd30",
     "showTitle": false,
     "title": ""
    }
   },
   "source": [
    "#### Check Null count"
   ]
  },
  {
   "cell_type": "code",
   "execution_count": 0,
   "metadata": {
    "application/vnd.databricks.v1+cell": {
     "cellMetadata": {
      "byteLimit": 2048000,
      "rowLimit": 10000
     },
     "inputWidgets": {},
     "nuid": "7383cb8c-0277-447f-a48e-6a80bb1b8369",
     "showTitle": false,
     "title": ""
    }
   },
   "outputs": [],
   "source": [
    "from pyspark.sql.functions import count, isnan\n",
    "\n",
    "print(cleaned_movies_metadata.select([count(when(col(c).isNull()|isnan(c),'True')).alias(c) for c,c_type in cleaned_movies_metadata.dtypes if c_type not in ('timestamp','boolean')]))"
   ]
  },
  {
   "cell_type": "markdown",
   "metadata": {
    "application/vnd.databricks.v1+cell": {
     "cellMetadata": {
      "byteLimit": 2048000,
      "rowLimit": 10000
     },
     "inputWidgets": {},
     "nuid": "e383ba56-299f-453d-a7f6-d55f1c1b34ef",
     "showTitle": false,
     "title": ""
    }
   },
   "source": [
    "#### Change column data type"
   ]
  },
  {
   "cell_type": "code",
   "execution_count": 0,
   "metadata": {
    "application/vnd.databricks.v1+cell": {
     "cellMetadata": {
      "byteLimit": 2048000,
      "rowLimit": 10000
     },
     "inputWidgets": {},
     "nuid": "18b720c9-7aaa-4fd9-ad5f-2b55ab55ff9f",
     "showTitle": false,
     "title": ""
    }
   },
   "outputs": [],
   "source": [
    "# Change Column data type\n",
    "cleaned_movies_metadata = cleaned_movies_metadata.withColumn('budget',col('budget').cast('integer'))\\\n",
    "                                                 .withColumn('popularity',col('popularity').cast('float'))\\\n",
    "                                                 .withColumn('revenue',col('revenue').cast('integer')) \\\n",
    "                                                 .withColumn('vote_average', col('vote_average').cast('integer'))\\\n",
    "                                                 .withColumn('vote_count', col('vote_count').cast('integer')) \\\n",
    "                                                 .withColumn(\"popularity\", when(col(\"popularity\").isNull(), \"0\").otherwise(col(\"popularity\")))\n"
   ]
  },
  {
   "cell_type": "code",
   "execution_count": 0,
   "metadata": {
    "application/vnd.databricks.v1+cell": {
     "cellMetadata": {
      "byteLimit": 2048000,
      "rowLimit": 10000
     },
     "inputWidgets": {},
     "nuid": "183b8c0e-7c89-43b4-bb91-27c2446edc34",
     "showTitle": false,
     "title": ""
    }
   },
   "outputs": [],
   "source": [
    "cleaned_movies_metadata.count()"
   ]
  },
  {
   "cell_type": "markdown",
   "metadata": {
    "application/vnd.databricks.v1+cell": {
     "cellMetadata": {
      "byteLimit": 2048000,
      "rowLimit": 10000
     },
     "inputWidgets": {},
     "nuid": "c4ce270c-7fe3-4385-8e0f-e5574f1c042a",
     "showTitle": false,
     "title": ""
    }
   },
   "source": [
    "##### credit & keywords bronze"
   ]
  },
  {
   "cell_type": "code",
   "execution_count": 0,
   "metadata": {
    "application/vnd.databricks.v1+cell": {
     "cellMetadata": {
      "byteLimit": 2048000,
      "rowLimit": 10000
     },
     "inputWidgets": {},
     "nuid": "7f977231-60a5-4c92-bf15-cf5df57a3087",
     "showTitle": false,
     "title": ""
    }
   },
   "outputs": [],
   "source": [
    "# credits = spark.read.table(\"bronze.credits_cs\")\n",
    "# keywords = spark.read.table(\"bronze.keywords_cs\")"
   ]
  },
  {
   "cell_type": "code",
   "execution_count": 0,
   "metadata": {
    "application/vnd.databricks.v1+cell": {
     "cellMetadata": {
      "byteLimit": 2048000,
      "rowLimit": 10000
     },
     "inputWidgets": {},
     "nuid": "76c407cd-f6ae-404f-ae10-04dada9e58b6",
     "showTitle": false,
     "title": ""
    }
   },
   "outputs": [],
   "source": [
    "# credits.show()\n",
    "# credits.count()"
   ]
  },
  {
   "cell_type": "code",
   "execution_count": 0,
   "metadata": {
    "application/vnd.databricks.v1+cell": {
     "cellMetadata": {
      "byteLimit": 2048000,
      "rowLimit": 10000
     },
     "inputWidgets": {},
     "nuid": "f0e9252b-9980-400e-9d23-3743bdd153ae",
     "showTitle": false,
     "title": ""
    }
   },
   "outputs": [],
   "source": [
    "# keywords.show(5)\n",
    "# keywords.count()"
   ]
  },
  {
   "cell_type": "markdown",
   "metadata": {
    "application/vnd.databricks.v1+cell": {
     "cellMetadata": {
      "byteLimit": 2048000,
      "rowLimit": 10000
     },
     "inputWidgets": {},
     "nuid": "e1995b88-e551-4b2e-8042-fd4e64d34b26",
     "showTitle": false,
     "title": ""
    }
   },
   "source": [
    "#### covert id astype int"
   ]
  },
  {
   "cell_type": "code",
   "execution_count": 0,
   "metadata": {
    "application/vnd.databricks.v1+cell": {
     "cellMetadata": {
      "byteLimit": 2048000,
      "rowLimit": 10000
     },
     "inputWidgets": {},
     "nuid": "8cd98bee-c4ae-4a83-9a9b-b081ab9ee4ed",
     "showTitle": false,
     "title": ""
    }
   },
   "outputs": [],
   "source": [
    "# keywords = keywords.withColumn(\"id\", col(\"id\").cast(\"int\"))\n",
    "# credits = credits.withColumn(\"id\", col(\"id\").cast(\"int\"))"
   ]
  },
  {
   "cell_type": "markdown",
   "metadata": {
    "application/vnd.databricks.v1+cell": {
     "cellMetadata": {
      "byteLimit": 2048000,
      "rowLimit": 10000
     },
     "inputWidgets": {},
     "nuid": "b383cd54-db72-4274-a703-9413e6b68d76",
     "showTitle": false,
     "title": ""
    }
   },
   "source": [
    "#### Drop null"
   ]
  },
  {
   "cell_type": "code",
   "execution_count": 0,
   "metadata": {
    "application/vnd.databricks.v1+cell": {
     "cellMetadata": {
      "byteLimit": 2048000,
      "rowLimit": 10000
     },
     "inputWidgets": {},
     "nuid": "a25757d6-caa3-468b-a84e-022a22086dfe",
     "showTitle": false,
     "title": ""
    }
   },
   "outputs": [],
   "source": [
    "# from pyspark.sql.functions import col\n",
    "# credits = credits.dropna(subset=[\"id\"])\n",
    "# keywords = keywords.dropna(subset=[\"id\"])\n"
   ]
  },
  {
   "cell_type": "markdown",
   "metadata": {
    "application/vnd.databricks.v1+cell": {
     "cellMetadata": {
      "byteLimit": 2048000,
      "rowLimit": 10000
     },
     "inputWidgets": {},
     "nuid": "8b1e3e7f-6c76-44c8-93be-b163e81c3069",
     "showTitle": false,
     "title": ""
    }
   },
   "source": [
    "#### Drop duplicates"
   ]
  },
  {
   "cell_type": "code",
   "execution_count": 0,
   "metadata": {
    "application/vnd.databricks.v1+cell": {
     "cellMetadata": {
      "byteLimit": 2048000,
      "rowLimit": 10000
     },
     "inputWidgets": {},
     "nuid": "54b00b92-381b-4d96-92e4-ab5c7f58055c",
     "showTitle": false,
     "title": ""
    }
   },
   "outputs": [],
   "source": [
    "# credits = credits.dropDuplicates([\"id\"])\n",
    "# keywords = keywords.dropDuplicates([\"id\"])\n"
   ]
  },
  {
   "cell_type": "code",
   "execution_count": 0,
   "metadata": {
    "application/vnd.databricks.v1+cell": {
     "cellMetadata": {
      "byteLimit": 2048000,
      "rowLimit": 10000
     },
     "inputWidgets": {},
     "nuid": "9311a629-9896-495c-9ad1-b9235441655a",
     "showTitle": false,
     "title": ""
    }
   },
   "outputs": [],
   "source": [
    "# print(credits.count())\n",
    "# print(keywords.count())"
   ]
  },
  {
   "cell_type": "code",
   "execution_count": 0,
   "metadata": {
    "application/vnd.databricks.v1+cell": {
     "cellMetadata": {
      "byteLimit": 2048000,
      "rowLimit": 10000
     },
     "inputWidgets": {},
     "nuid": "2d662576-3ba9-4d91-a322-bf4979bf635d",
     "showTitle": false,
     "title": ""
    }
   },
   "outputs": [],
   "source": [
    "# credits.show()\n",
    "# keywords.show()"
   ]
  },
  {
   "cell_type": "code",
   "execution_count": 0,
   "metadata": {
    "application/vnd.databricks.v1+cell": {
     "cellMetadata": {
      "byteLimit": 2048000,
      "rowLimit": 10000
     },
     "inputWidgets": {},
     "nuid": "a8905cfa-1300-4ea4-922c-e6c96f230bb1",
     "showTitle": false,
     "title": ""
    }
   },
   "outputs": [],
   "source": [
    "# cleaned_movies_metadata = cleaned_movies_metadata.join(credits, on='id', how='left')\n",
    "# cleaned_movies_metadata = cleaned_movies_metadata.join(keywords, on='id', how='left')"
   ]
  },
  {
   "cell_type": "code",
   "execution_count": 0,
   "metadata": {
    "application/vnd.databricks.v1+cell": {
     "cellMetadata": {
      "byteLimit": 2048000,
      "rowLimit": 10000
     },
     "inputWidgets": {},
     "nuid": "36edced2-e749-4085-9ebc-e5cbc87762d4",
     "showTitle": false,
     "title": ""
    }
   },
   "outputs": [],
   "source": [
    "# cleaned_movies_metadata.show()"
   ]
  },
  {
   "cell_type": "markdown",
   "metadata": {
    "application/vnd.databricks.v1+cell": {
     "cellMetadata": {
      "byteLimit": 2048000,
      "rowLimit": 10000
     },
     "inputWidgets": {},
     "nuid": "c49163c3-3821-48ce-b93f-08cd979c0fb1",
     "showTitle": false,
     "title": ""
    }
   },
   "source": [
    "#### Create silver table"
   ]
  },
  {
   "cell_type": "code",
   "execution_count": 0,
   "metadata": {
    "application/vnd.databricks.v1+cell": {
     "cellMetadata": {
      "byteLimit": 2048000,
      "rowLimit": 10000
     },
     "inputWidgets": {},
     "nuid": "bb9b1e0f-d00e-4f6a-9752-f29a26e1791a",
     "showTitle": false,
     "title": ""
    }
   },
   "outputs": [],
   "source": [
    "cleaned_movies_metadata.printSchema()"
   ]
  },
  {
   "cell_type": "code",
   "execution_count": 0,
   "metadata": {
    "application/vnd.databricks.v1+cell": {
     "cellMetadata": {
      "byteLimit": 2048000,
      "rowLimit": 10000
     },
     "inputWidgets": {},
     "nuid": "d77082b0-5017-434a-ad32-6bc3ddc40c55",
     "showTitle": false,
     "title": ""
    }
   },
   "outputs": [],
   "source": [
    " \n",
    "from delta.tables import *\n",
    "\n",
    "#check if the bronze location contain the delta table\n",
    "# if (DeltaTable.isDeltaTable(spark, movies_metadata_silverLocation)):\n",
    "#     DeltaTable.forPath(spark, movies_metadata_silverLocation).alias(\"target\").merge(\n",
    "#         source = cleaned_movies_metadata.alias(\"src\"),\n",
    "#         condition = \"target.id = src.id\"\n",
    "#     ) \\\n",
    "#     .whenMatchedUpdate(\n",
    "#         condition = \"src.imdb_id = target.imdb_id\",\n",
    "#         set = {\n",
    "#             \"genres\" : \"src.genres\",\n",
    "#             \"production_companies\": \"src.production_companies\",\n",
    "#         }\n",
    "#     ).WhenNoMatchedInsertAll().execute()\n",
    "# else:\n",
    "cleaned_movies_metadata.write.mode(\"overwrite\").format(\"delta\").option(\"overwriteSchema\", \"true\").save(movies_metadata_silverLocation)"
   ]
  },
  {
   "cell_type": "code",
   "execution_count": 0,
   "metadata": {
    "application/vnd.databricks.v1+cell": {
     "cellMetadata": {
      "byteLimit": 2048000,
      "rowLimit": 10000
     },
     "inputWidgets": {},
     "nuid": "286e175c-a272-4a7b-8ae1-7afb4901be67",
     "showTitle": false,
     "title": ""
    }
   },
   "outputs": [],
   "source": [
    "# # create the schema and table, if required\n",
    "\n",
    "spark.sql(\"CREATE SCHEMA IF NOT EXISTS silver\")\n",
    "spark.sql(f\"CREATE EXTERNAL TABLE IF NOT EXISTS {movies_metadata_silverTable} USING delta LOCATION '{movies_metadata_silverLocation}'\")\n",
    "\n"
   ]
  },
  {
   "cell_type": "code",
   "execution_count": 0,
   "metadata": {
    "application/vnd.databricks.v1+cell": {
     "cellMetadata": {
      "byteLimit": 2048000,
      "rowLimit": 10000
     },
     "inputWidgets": {},
     "nuid": "38ef43b9-e660-4c65-8ec8-d56902f9ae23",
     "showTitle": false,
     "title": ""
    }
   },
   "outputs": [],
   "source": [
    "# Maintenance for Delta table\n",
    "\n",
    "# To optimized the performance of the Delta table, we need to excute 2 commands:\n",
    "# 1. optimize(): Optimize the number of files used to store the data\n",
    "# 2. vacuum(): Remove the old version of the data. This reduces the overhead but it limites the version we can go back to.\n",
    "movies_metadata_DataDelta = DeltaTable.forName(spark, movies_metadata_silverTable)\n",
    "\n",
    "if movies_metadata_DataDelta.history(30).filter(\"operation = 'VACUUM START'\").count() == 0:\n",
    "\tmovies_metadata_DataDelta.optimize()\n",
    "\tmovies_metadata_DataDelta.vacuum()"
   ]
  },
  {
   "cell_type": "code",
   "execution_count": 0,
   "metadata": {
    "application/vnd.databricks.v1+cell": {
     "cellMetadata": {
      "byteLimit": 2048000,
      "implicitDf": true,
      "rowLimit": 10000
     },
     "inputWidgets": {},
     "nuid": "093a81d2-10e3-4df4-9cb6-e0237b1ca2c7",
     "showTitle": false,
     "title": ""
    }
   },
   "outputs": [],
   "source": [
    "%sql\n",
    "DESCRIBE HISTORY silver.movies_metadata;"
   ]
  },
  {
   "cell_type": "code",
   "execution_count": 0,
   "metadata": {
    "application/vnd.databricks.v1+cell": {
     "cellMetadata": {
      "byteLimit": 2048000,
      "implicitDf": true,
      "rowLimit": 10000
     },
     "inputWidgets": {},
     "nuid": "8fdad74e-bed4-449e-b55e-0232056f0106",
     "showTitle": false,
     "title": ""
    }
   },
   "outputs": [],
   "source": [
    "%sql\n",
    "select * from silver.movies_metadata"
   ]
  },
  {
   "cell_type": "markdown",
   "metadata": {
    "application/vnd.databricks.v1+cell": {
     "cellMetadata": {
      "byteLimit": 2048000,
      "rowLimit": 10000
     },
     "inputWidgets": {},
     "nuid": "65dc02ba-2b71-471b-b819-f1fde8d0f2c4",
     "showTitle": false,
     "title": ""
    }
   },
   "source": [
    "### Get movies are not in movie-mysql bronze"
   ]
  },
  {
   "cell_type": "code",
   "execution_count": 0,
   "metadata": {
    "application/vnd.databricks.v1+cell": {
     "cellMetadata": {
      "byteLimit": 2048000,
      "rowLimit": 10000
     },
     "inputWidgets": {},
     "nuid": "6f80236c-02e7-4749-9a94-b4f71ec34916",
     "showTitle": false,
     "title": ""
    }
   },
   "outputs": [],
   "source": [
    "# movie_silver = spark.read.table('bronze.movie')"
   ]
  },
  {
   "cell_type": "code",
   "execution_count": 0,
   "metadata": {
    "application/vnd.databricks.v1+cell": {
     "cellMetadata": {
      "byteLimit": 2048000,
      "rowLimit": 10000
     },
     "inputWidgets": {},
     "nuid": "92548f77-f4eb-434c-852a-69044eb53062",
     "showTitle": false,
     "title": ""
    }
   },
   "outputs": [],
   "source": [
    "# # Assuming you have two DataFrames: df1 and df2\n",
    "# # And they have a common id column: 'id'\n",
    "\n",
    "# # Get ids from df1 that are not in df2\n",
    "# ids_in_df1_not_in_df2 = cleaned_movies_metadata.select('imdb_id').subtract(movie_silver.select('imdbId'))\n",
    "\n",
    "# # Print the result\n",
    "# ids_in_df1_not_in_df2.show()"
   ]
  },
  {
   "cell_type": "code",
   "execution_count": 0,
   "metadata": {
    "application/vnd.databricks.v1+cell": {
     "cellMetadata": {
      "byteLimit": 2048000,
      "rowLimit": 10000
     },
     "inputWidgets": {},
     "nuid": "a8cd92ce-6786-4efb-8562-7025e980a1a5",
     "showTitle": false,
     "title": ""
    }
   },
   "outputs": [],
   "source": [
    "# ids_in_df1_not_in_df2.count()"
   ]
  },
  {
   "cell_type": "code",
   "execution_count": 0,
   "metadata": {
    "application/vnd.databricks.v1+cell": {
     "cellMetadata": {
      "byteLimit": 2048000,
      "rowLimit": 10000
     },
     "inputWidgets": {},
     "nuid": "7587bac2-f8f5-4f32-a20e-c5ecdfa07c62",
     "showTitle": false,
     "title": ""
    }
   },
   "outputs": [],
   "source": [
    "\n",
    "# # Perform a inner join on the 'imdb' column\n",
    "# cleaned_movies_metadata = cleaned_movies_metadata.join(ids_in_df1_not_in_df2, cleaned_movies_metadata.imdb_id == ids_in_df1_not_in_df2.imdb_id, 'inner')\n",
    "# cleaned_movies_metadata = cleaned_movies_metadata.drop(ids_in_df1_not_in_df2.imdb_id)\n",
    "\n",
    "# # Show the filtered DataFrame\n",
    "# cleaned_movies_metadata.show(1)"
   ]
  },
  {
   "cell_type": "code",
   "execution_count": 0,
   "metadata": {
    "application/vnd.databricks.v1+cell": {
     "cellMetadata": {
      "byteLimit": 2048000,
      "rowLimit": 10000
     },
     "inputWidgets": {},
     "nuid": "b7737cac-8072-4b91-9bac-404c8732ea74",
     "showTitle": false,
     "title": ""
    }
   },
   "outputs": [],
   "source": [
    "# cleaned_movies_metadata.select('production_companies').show(1)"
   ]
  },
  {
   "cell_type": "markdown",
   "metadata": {
    "application/vnd.databricks.v1+cell": {
     "cellMetadata": {
      "byteLimit": 2048000,
      "rowLimit": 10000
     },
     "inputWidgets": {},
     "nuid": "77da470c-6cd9-4eaa-927a-772c0e25bb74",
     "showTitle": false,
     "title": ""
    }
   },
   "source": [
    "# Machine Learning"
   ]
  },
  {
   "cell_type": "markdown",
   "metadata": {
    "application/vnd.databricks.v1+cell": {
     "cellMetadata": {
      "byteLimit": 2048000,
      "rowLimit": 10000
     },
     "inputWidgets": {},
     "nuid": "2605b39f-77e6-407f-b4dd-15efe9162953",
     "showTitle": false,
     "title": ""
    }
   },
   "source": [
    "## Simple Content-based"
   ]
  },
  {
   "cell_type": "markdown",
   "metadata": {
    "application/vnd.databricks.v1+cell": {
     "cellMetadata": {
      "byteLimit": 2048000,
      "rowLimit": 10000
     },
     "inputWidgets": {},
     "nuid": "221b65dc-815a-4f3b-bb6d-72790edc4a90",
     "showTitle": false,
     "title": ""
    }
   },
   "source": [
    "#### Chuyển genres thành danh sách các genre"
   ]
  },
  {
   "cell_type": "code",
   "execution_count": 0,
   "metadata": {
    "application/vnd.databricks.v1+cell": {
     "cellMetadata": {
      "byteLimit": 2048000,
      "rowLimit": 10000
     },
     "inputWidgets": {},
     "nuid": "f3c33e60-844c-467e-b3a5-a5f26c82d3b9",
     "showTitle": false,
     "title": ""
    }
   },
   "outputs": [],
   "source": [
    "# from pyspark.sql.functions import udf\n",
    "# from pyspark.sql.types import ArrayType, StringType\n",
    "# from ast import literal_eval\n",
    "# import ast\n",
    "\n",
    "# def extract_genre_names(genres_string):\n",
    "#     # Convert the string representation of the list to a list\n",
    "#     genres_list = literal_eval(genres_string)\n",
    "\n",
    "#     # Check if the conversion result is a list\n",
    "#     if isinstance(genres_list, list):\n",
    "#         # If it is a list, extract 'name' from each item and return the list of names\n",
    "#         genre_names = [item['name'] for item in genres_list]\n",
    "#         return genre_names\n",
    "#     else:\n",
    "#         # If it is not a list, return an empty list\n",
    "#         return []\n",
    "# extract_name_udf = udf(extract_genre_names, ArrayType(StringType()))\n",
    "\n",
    "# # Apply the UDF to the 'genres' column\n",
    "# cleaned_movies_metadata = cleaned_movies_metadata.withColumn('genres', extract_name_udf(cleaned_movies_metadata['genres']))"
   ]
  },
  {
   "cell_type": "code",
   "execution_count": 0,
   "metadata": {
    "application/vnd.databricks.v1+cell": {
     "cellMetadata": {
      "byteLimit": 2048000,
      "rowLimit": 10000
     },
     "inputWidgets": {},
     "nuid": "a7b15850-1130-46cb-8271-39eaa5042228",
     "showTitle": false,
     "title": ""
    }
   },
   "outputs": [],
   "source": [
    "# display(cleaned_movies_metadata)"
   ]
  },
  {
   "cell_type": "markdown",
   "metadata": {
    "application/vnd.databricks.v1+cell": {
     "cellMetadata": {
      "byteLimit": 2048000,
      "rowLimit": 10000
     },
     "inputWidgets": {},
     "nuid": "7028d039-5e44-45b1-8e7c-8a35e4f5c3a2",
     "showTitle": false,
     "title": ""
    }
   },
   "source": [
    "#### Get year"
   ]
  },
  {
   "cell_type": "code",
   "execution_count": 0,
   "metadata": {
    "application/vnd.databricks.v1+cell": {
     "cellMetadata": {
      "byteLimit": 2048000,
      "rowLimit": 10000
     },
     "inputWidgets": {},
     "nuid": "59007833-9ff0-41d2-806d-31be33363e3f",
     "showTitle": false,
     "title": ""
    }
   },
   "outputs": [],
   "source": [
    "from pyspark.sql.functions import col, year, to_date\n",
    "\n",
    "# Convert 'release_date' to date and extract the year\n",
    "cleaned_movies_metadata = cleaned_movies_metadata.withColumn('year', year(to_date(col('release_date'), 'yyyy-MM-dd')))\n"
   ]
  },
  {
   "cell_type": "markdown",
   "metadata": {
    "application/vnd.databricks.v1+cell": {
     "cellMetadata": {
      "byteLimit": 2048000,
      "rowLimit": 10000
     },
     "inputWidgets": {},
     "nuid": "c1f48318-cde8-4ddb-b85e-6fd029a10d7d",
     "showTitle": false,
     "title": ""
    }
   },
   "source": [
    "#### Calculate m & C"
   ]
  },
  {
   "cell_type": "code",
   "execution_count": 0,
   "metadata": {
    "application/vnd.databricks.v1+cell": {
     "cellMetadata": {
      "byteLimit": 2048000,
      "rowLimit": 10000
     },
     "inputWidgets": {},
     "nuid": "18594e5f-2fe1-490f-9660-dd583822d82e",
     "showTitle": false,
     "title": ""
    }
   },
   "outputs": [],
   "source": [
    "# Tính trung bình cộng của `vote_average`.\n",
    "C = cleaned_movies_metadata.agg({'vote_average': 'mean'}).collect()[0][0]\n",
    "\n",
    "# Tính lượng bình chọn tối thiểu mà một bộ phim cần có để được xem xét (Tính phân vị thứ 95 của 'vote_count').\n",
    "m = cleaned_movies_metadata.approxQuantile('vote_count', [0.95], 0)[0]\n",
    "print(m, C)"
   ]
  },
  {
   "cell_type": "code",
   "execution_count": 0,
   "metadata": {
    "application/vnd.databricks.v1+cell": {
     "cellMetadata": {
      "byteLimit": 2048000,
      "rowLimit": 10000
     },
     "inputWidgets": {},
     "nuid": "145ea94a-fe2a-4fd2-a7b1-a134889ae338",
     "showTitle": false,
     "title": ""
    }
   },
   "outputs": [],
   "source": [
    "# Select the required columns\n",
    "qualified = cleaned_movies_metadata.filter(col('vote_count') >= m).select('title', 'year', 'vote_count', 'vote_average', 'popularity', 'genres')\n",
    "\n",
    "# Print the shape of the DataFrame\n",
    "print((qualified.count(), len(qualified.columns)))"
   ]
  },
  {
   "cell_type": "markdown",
   "metadata": {
    "application/vnd.databricks.v1+cell": {
     "cellMetadata": {
      "byteLimit": 2048000,
      "rowLimit": 10000
     },
     "inputWidgets": {},
     "nuid": "cf557413-b8b2-47ec-8a44-e9c2a7697303",
     "showTitle": false,
     "title": ""
    }
   },
   "source": [
    "## Kiểm tra 250 bộ phim có điểm số được đánh trọng số cao nhất."
   ]
  },
  {
   "cell_type": "code",
   "execution_count": 0,
   "metadata": {
    "application/vnd.databricks.v1+cell": {
     "cellMetadata": {
      "byteLimit": 2048000,
      "rowLimit": 10000
     },
     "inputWidgets": {},
     "nuid": "8bf72edb-e053-43fe-86ad-8b14b50769bb",
     "showTitle": false,
     "title": ""
    }
   },
   "outputs": [],
   "source": [
    "from pyspark.sql.functions import udf\n",
    "from pyspark.sql.types import FloatType\n",
    "\n",
    "# Define the function to calculate weighted rating\n",
    "def weighted_rating(v, R):\n",
    "    return (v/(v+m) * R) + (m/(m+v) * C)\n",
    "\n",
    "# Create a user defined function (UDF) based on the weighted_rating function\n",
    "udf_weighted_rating = udf(weighted_rating, FloatType())\n",
    "\n",
    "# Apply the UDF to the DataFrame to create a new column 'wr'\n",
    "qualified = qualified.withColumn('wr', udf_weighted_rating(col('vote_count'), col('vote_average')))\n",
    "\n",
    "# Sort the DataFrame based on the 'wr' column and take the top 250 rows\n",
    "qualified = qualified.sort(col('wr').desc()).limit(250)\n",
    "\n",
    "qualified.show(5)"
   ]
  },
  {
   "cell_type": "code",
   "execution_count": 0,
   "metadata": {
    "application/vnd.databricks.v1+cell": {
     "cellMetadata": {
      "byteLimit": 2048000,
      "rowLimit": 10000
     },
     "inputWidgets": {},
     "nuid": "3d3bc812-c60a-4df2-af7b-ff8d34305359",
     "showTitle": false,
     "title": ""
    }
   },
   "outputs": [],
   "source": [
    "from pyspark.sql import functions as F\n",
    "from pyspark.sql.functions import col, when, array_contains\n",
    "from pyspark.sql.window import Window\n",
    "\n",
    "def build_chart(genre_input, percentile=0.85):\n",
    "    # Lọc DataFrame `gen_md` để chỉ giữ lại các hàng có thể loại phim (`genre`) khớp với `genre_input`.\n",
    "    df = cleaned_movies_metadata.filter(array_contains(col('genres'), genre_input))\n",
    "\n",
    "    # Tính trung bình cộng của `vote_average`.\n",
    "    C = df.agg({'vote_average': 'mean'}).collect()[0][0]\n",
    "\n",
    "    # Tính lượng bình chọn tối thiểu mà một bộ phim cần có để được xem xét (ở phần trăm thứ `percentile`).\n",
    "    m = df.approxQuantile('vote_count', [percentile], 0)[0]\n",
    "    qualified = df.filter(df['vote_count'] >= m).select(['title', 'year', 'vote_count', 'vote_average', 'popularity'])\n",
    "    \n",
    "    # Tính điểm xếp hạng trọng số (`wr`) cho mỗi bộ phim đủ điều kiện.\n",
    "    qualified = qualified.withColumn('wr', (col('vote_count')/(col('vote_count')+m) * col('vote_average')) + (m/(m+col('vote_count')) * C))\n",
    "\n",
    "    # Xếp hạng các bộ phim dựa trên `wr` và chỉ giữ lại 10 bộ phim hàng đầu.\n",
    "    window = Window.orderBy(col('wr').desc())\n",
    "    qualified = qualified.withColumn('rank', F.rank().over(window)).filter(col('rank') <= 10)\n",
    "    \n",
    "    return qualified"
   ]
  },
  {
   "cell_type": "code",
   "execution_count": 0,
   "metadata": {
    "application/vnd.databricks.v1+cell": {
     "cellMetadata": {
      "byteLimit": 2048000,
      "rowLimit": 10000
     },
     "inputWidgets": {},
     "nuid": "77a5b11a-fae2-4596-af15-9f49fd48dbce",
     "showTitle": false,
     "title": ""
    }
   },
   "outputs": [],
   "source": [
    "# build_chart('Romance').show()"
   ]
  },
  {
   "cell_type": "markdown",
   "metadata": {
    "application/vnd.databricks.v1+cell": {
     "cellMetadata": {
      "byteLimit": 2048000,
      "rowLimit": 10000
     },
     "inputWidgets": {},
     "nuid": "8fd4d79f-fcf8-417a-933b-646be6c6b38e",
     "showTitle": false,
     "title": ""
    }
   },
   "source": [
    "### Movie Description Based Recommender\n",
    "\n",
    "Let us first try to build a recommender using movie descriptions and taglines. We do not have a quantitative metric to judge our machine's performance so this will have to be done qualitatively."
   ]
  },
  {
   "cell_type": "markdown",
   "metadata": {
    "application/vnd.databricks.v1+cell": {
     "cellMetadata": {
      "byteLimit": 2048000,
      "rowLimit": 10000
     },
     "inputWidgets": {},
     "nuid": "b219e1b2-73b7-44e0-a701-5ffd4b6f1f54",
     "showTitle": false,
     "title": ""
    }
   },
   "source": [
    "# Content based\n",
    "I will build two Content Based Recommenders based on:\n",
    "* Movie Overviews and Taglines\n",
    "* Movie Cast, Crew, Keywords and Genre"
   ]
  }
 ],
 "metadata": {
  "application/vnd.databricks.v1+notebook": {
   "dashboards": [],
   "language": "python",
   "notebookMetadata": {
    "mostRecentlyExecutedCommandWithImplicitDF": {
     "commandId": 2117015942384081,
     "dataframes": [
      "_sqldf"
     ]
    },
    "pythonIndentUnit": 4
   },
   "notebookName": "silver_cleaned_movies_metadata",
   "widgets": {}
  },
  "kernelspec": {
   "display_name": "bdml",
   "language": "python",
   "name": "python3"
  },
  "language_info": {
   "codemirror_mode": {
    "name": "ipython",
    "version": 3
   },
   "file_extension": ".py",
   "mimetype": "text/x-python",
   "name": "python",
   "nbconvert_exporter": "python",
   "pygments_lexer": "ipython3",
   "version": "3.11.5"
  }
 },
 "nbformat": 4,
 "nbformat_minor": 0
}
