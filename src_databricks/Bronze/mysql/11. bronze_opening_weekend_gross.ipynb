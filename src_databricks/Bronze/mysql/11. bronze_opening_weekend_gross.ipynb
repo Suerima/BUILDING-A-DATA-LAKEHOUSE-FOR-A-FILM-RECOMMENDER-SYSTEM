{
 "cells": [
  {
   "cell_type": "markdown",
   "metadata": {
    "application/vnd.databricks.v1+cell": {
     "cellMetadata": {
      "byteLimit": 2048000,
      "rowLimit": 10000
     },
     "inputWidgets": {},
     "nuid": "a32e1a89-68af-4bd2-ac4a-e19dd8fabddd",
     "showTitle": false,
     "title": ""
    }
   },
   "source": [
    "#### Connect to mysql server"
   ]
  },
  {
   "cell_type": "code",
   "execution_count": 0,
   "metadata": {
    "application/vnd.databricks.v1+cell": {
     "cellMetadata": {
      "byteLimit": 2048000,
      "rowLimit": 10000
     },
     "inputWidgets": {},
     "nuid": "3e0ceb87-0dd3-4e60-92f4-a6bb92d97a6f",
     "showTitle": false,
     "title": ""
    }
   },
   "outputs": [
    {
     "output_type": "stream",
     "name": "stdout",
     "output_type": "stream",
     "text": [
      "+---+-------------------+--------+\n| id|     weekendEndDate|budgetId|\n+---+-------------------+--------+\n|  1|2001-12-30 00:00:00|    2202|\n|  2|2003-11-02 00:00:00|    2203|\n|  3|2010-05-30 00:00:00|    2204|\n|  4|2016-09-18 00:00:00|    2207|\n|  5|1991-04-28 00:00:00|    2209|\n+---+-------------------+--------+\nonly showing top 5 rows\n\n"
     ]
    }
   ],
   "source": [
    "driver = \"com.mysql.cj.jdbc.Driver\"\n",
    "\n",
    "database_host = \"movie-server.mysql.database.azure.com\"\n",
    "database_port = \"3306\" # update if you use a non-default port\n",
    "database_name = \"movieservice\"\n",
    "table = \"opening_weekend_gross\"\n",
    "user = \"nguyentot\"\n",
    "password = \"Tot2002@\"\n",
    "\n",
    "url = f\"jdbc:mysql://{database_host}:{database_port}/{database_name}\"\n",
    "\n",
    "opening_gross_DF = (spark.read\n",
    "  .format(\"jdbc\")\n",
    "  .option(\"driver\", driver)\n",
    "  .option(\"url\", url)\n",
    "  .option(\"dbtable\", table)\n",
    "  .option(\"user\", user)\n",
    "  .option(\"password\", password)\n",
    "  .load()\n",
    ")\n",
    "\n",
    "opening_gross_DF.show(5)"
   ]
  },
  {
   "cell_type": "markdown",
   "metadata": {
    "application/vnd.databricks.v1+cell": {
     "cellMetadata": {
      "byteLimit": 2048000,
      "rowLimit": 10000
     },
     "inputWidgets": {},
     "nuid": "7bdf3b63-6476-48a4-ae37-4ddc8e82cc22",
     "showTitle": false,
     "title": ""
    }
   },
   "source": [
    "#### create mount to bronze\n"
   ]
  },
  {
   "cell_type": "code",
   "execution_count": 0,
   "metadata": {
    "application/vnd.databricks.v1+cell": {
     "cellMetadata": {
      "byteLimit": 2048000,
      "rowLimit": 10000
     },
     "inputWidgets": {},
     "nuid": "5e7d59dd-215c-4bd0-b06f-7afdd20b38ab",
     "showTitle": false,
     "title": ""
    }
   },
   "outputs": [
    {
     "output_type": "display_data",
     "data": {
      "text/html": [
       "<style scoped>\n",
       "  .table-result-container {\n",
       "    max-height: 300px;\n",
       "    overflow: auto;\n",
       "  }\n",
       "  table, th, td {\n",
       "    border: 1px solid black;\n",
       "    border-collapse: collapse;\n",
       "  }\n",
       "  th, td {\n",
       "    padding: 5px;\n",
       "  }\n",
       "  th {\n",
       "    text-align: left;\n",
       "  }\n",
       "</style><div class='table-result-container'><table class='table-result'><thead style='background-color: white'><tr><th>path</th><th>name</th><th>size</th><th>modificationTime</th></tr></thead><tbody><tr><td>dbfs:/mnt/datalake/bronze/mysql/actor/</td><td>actor/</td><td>0</td><td>0</td></tr><tr><td>dbfs:/mnt/datalake/bronze/mysql/budget/</td><td>budget/</td><td>0</td><td>0</td></tr><tr><td>dbfs:/mnt/datalake/bronze/mysql/cast_to_movie/</td><td>cast_to_movie/</td><td>0</td><td>0</td></tr><tr><td>dbfs:/mnt/datalake/bronze/mysql/currency/</td><td>currency/</td><td>0</td><td>0</td></tr><tr><td>dbfs:/mnt/datalake/bronze/mysql/director_to_movie/</td><td>director_to_movie/</td><td>0</td><td>0</td></tr><tr><td>dbfs:/mnt/datalake/bronze/mysql/genre/</td><td>genre/</td><td>0</td><td>0</td></tr><tr><td>dbfs:/mnt/datalake/bronze/mysql/keyword/</td><td>keyword/</td><td>0</td><td>0</td></tr><tr><td>dbfs:/mnt/datalake/bronze/mysql/movie/</td><td>movie/</td><td>0</td><td>0</td></tr><tr><td>dbfs:/mnt/datalake/bronze/mysql/movie_to_genre/</td><td>movie_to_genre/</td><td>0</td><td>0</td></tr><tr><td>dbfs:/mnt/datalake/bronze/mysql/movie_to_keyword/</td><td>movie_to_keyword/</td><td>0</td><td>0</td></tr><tr><td>dbfs:/mnt/datalake/bronze/mysql/opening_weekend_gross/</td><td>opening_weekend_gross/</td><td>0</td><td>0</td></tr><tr><td>dbfs:/mnt/datalake/bronze/mysql/writer_to_movie/</td><td>writer_to_movie/</td><td>0</td><td>0</td></tr></tbody></table></div>"
      ]
     },
     "metadata": {
      "application/vnd.databricks.v1+output": {
       "addedWidgets": {},
       "aggData": [],
       "aggError": "",
       "aggOverflow": false,
       "aggSchema": [],
       "aggSeriesLimitReached": false,
       "aggType": "",
       "arguments": {},
       "columnCustomDisplayInfos": {},
       "data": [
        [
         "dbfs:/mnt/datalake/bronze/mysql/actor/",
         "actor/",
         0,
         0
        ],
        [
         "dbfs:/mnt/datalake/bronze/mysql/budget/",
         "budget/",
         0,
         0
        ],
        [
         "dbfs:/mnt/datalake/bronze/mysql/cast_to_movie/",
         "cast_to_movie/",
         0,
         0
        ],
        [
         "dbfs:/mnt/datalake/bronze/mysql/currency/",
         "currency/",
         0,
         0
        ],
        [
         "dbfs:/mnt/datalake/bronze/mysql/director_to_movie/",
         "director_to_movie/",
         0,
         0
        ],
        [
         "dbfs:/mnt/datalake/bronze/mysql/genre/",
         "genre/",
         0,
         0
        ],
        [
         "dbfs:/mnt/datalake/bronze/mysql/keyword/",
         "keyword/",
         0,
         0
        ],
        [
         "dbfs:/mnt/datalake/bronze/mysql/movie/",
         "movie/",
         0,
         0
        ],
        [
         "dbfs:/mnt/datalake/bronze/mysql/movie_to_genre/",
         "movie_to_genre/",
         0,
         0
        ],
        [
         "dbfs:/mnt/datalake/bronze/mysql/movie_to_keyword/",
         "movie_to_keyword/",
         0,
         0
        ],
        [
         "dbfs:/mnt/datalake/bronze/mysql/opening_weekend_gross/",
         "opening_weekend_gross/",
         0,
         0
        ],
        [
         "dbfs:/mnt/datalake/bronze/mysql/writer_to_movie/",
         "writer_to_movie/",
         0,
         0
        ]
       ],
       "datasetInfos": [],
       "dbfsResultPath": null,
       "isJsonSchema": true,
       "metadata": {
        "isDbfsCommandResult": false
       },
       "overflow": false,
       "plotOptions": {
        "customPlotOptions": {},
        "displayType": "table",
        "pivotAggregation": null,
        "pivotColumns": null,
        "xColumns": null,
        "yColumns": null
       },
       "removedWidgets": [],
       "schema": [
        {
         "metadata": "{}",
         "name": "path",
         "type": "\"string\""
        },
        {
         "metadata": "{}",
         "name": "name",
         "type": "\"string\""
        },
        {
         "metadata": "{}",
         "name": "size",
         "type": "\"long\""
        },
        {
         "metadata": "{}",
         "name": "modificationTime",
         "type": "\"long\""
        }
       ],
       "type": "table"
      }
     },
     "output_type": "display_data"
    }
   ],
   "source": [
    "%fs ls /mnt/datalake/bronze/mysql"
   ]
  },
  {
   "cell_type": "code",
   "execution_count": 0,
   "metadata": {
    "application/vnd.databricks.v1+cell": {
     "cellMetadata": {
      "byteLimit": 2048000,
      "rowLimit": 10000
     },
     "inputWidgets": {},
     "nuid": "e427c8c9-c0dd-4c17-8922-9527d008cf88",
     "showTitle": false,
     "title": ""
    }
   },
   "outputs": [],
   "source": [
    "# Table name\n",
    "opening_gross_table = \"bronze.opening_gross\"\n",
    "\n",
    "# bronze location\n",
    "opening_gross_bronzeLocation = \"/mnt/datalake/bronze/mysql/opening_gross\""
   ]
  },
  {
   "cell_type": "code",
   "execution_count": 0,
   "metadata": {
    "application/vnd.databricks.v1+cell": {
     "cellMetadata": {
      "byteLimit": 2048000,
      "rowLimit": 10000
     },
     "inputWidgets": {},
     "nuid": "730922ec-8689-48cc-9106-c1520b01510b",
     "showTitle": false,
     "title": ""
    }
   },
   "outputs": [],
   "source": [
    " \n",
    "from delta.tables import *\n",
    "\n",
    "#check if the bronze location contain the delta table\n",
    "if (DeltaTable.isDeltaTable(spark, opening_gross_bronzeLocation)):\n",
    "    # If Delta table exists, append the data\n",
    "\n",
    "    # In the bronze zone, we do not do any filtering or remove duplicates\n",
    "    opening_gross_DF.write.mode(\"append\").format(\"delta\").save(opening_gross_bronzeLocation)\n",
    "else:\n",
    "    # If no, save the file to bronzeLocation\n",
    "    opening_gross_DF.write.mode(\"overwrite\").format(\"delta\").save(opening_gross_bronzeLocation)\n",
    "    "
   ]
  },
  {
   "cell_type": "code",
   "execution_count": 0,
   "metadata": {
    "application/vnd.databricks.v1+cell": {
     "cellMetadata": {
      "byteLimit": 2048000,
      "rowLimit": 10000
     },
     "inputWidgets": {},
     "nuid": "89448cc7-138a-4926-bb80-dc24787ab40e",
     "showTitle": false,
     "title": ""
    }
   },
   "outputs": [
    {
     "output_type": "execute_result",
     "data": {
      "text/plain": [
       "DataFrame[]"
      ]
     },
     "execution_count": 5,
     "metadata": {},
     "output_type": "execute_result"
    }
   ],
   "source": [
    "# create the schema and table, if required\n",
    "spark.sql(\"CREATE SCHEMA IF NOT EXISTS bronze\")\n",
    "spark.sql(f\"CREATE EXTERNAL TABLE IF NOT EXISTS {opening_gross_table} USING delta LOCATION '{opening_gross_bronzeLocation}'\")\n",
    "\n",
    "# Note: Using spark.sql because we use f-string to retrieve the processedLocation"
   ]
  },
  {
   "cell_type": "code",
   "execution_count": 0,
   "metadata": {
    "application/vnd.databricks.v1+cell": {
     "cellMetadata": {
      "byteLimit": 2048000,
      "implicitDf": true,
      "rowLimit": 10000
     },
     "inputWidgets": {},
     "nuid": "688fc746-4a46-4d5c-ad25-ad98e17606c4",
     "showTitle": false,
     "title": ""
    }
   },
   "outputs": [
    {
     "output_type": "display_data",
     "data": {
      "text/html": [
       "<style scoped>\n",
       "  .table-result-container {\n",
       "    max-height: 300px;\n",
       "    overflow: auto;\n",
       "  }\n",
       "  table, th, td {\n",
       "    border: 1px solid black;\n",
       "    border-collapse: collapse;\n",
       "  }\n",
       "  th, td {\n",
       "    padding: 5px;\n",
       "  }\n",
       "  th {\n",
       "    text-align: left;\n",
       "  }\n",
       "</style><div class='table-result-container'><table class='table-result'><thead style='background-color: white'><tr><th>version</th><th>timestamp</th><th>userId</th><th>userName</th><th>operation</th><th>operationParameters</th><th>job</th><th>notebook</th><th>clusterId</th><th>readVersion</th><th>isolationLevel</th><th>isBlindAppend</th><th>operationMetrics</th><th>userMetadata</th><th>engineInfo</th></tr></thead><tbody><tr><td>0</td><td>2023-11-21T15:51:35Z</td><td>1311347395691033</td><td>totnvt02@gmail.com</td><td>WRITE</td><td>Map(mode -> Overwrite, statsOnLoad -> false, partitionBy -> [])</td><td>null</td><td>List(2204498048936660)</td><td>1121-120918-uq53wl18</td><td>null</td><td>WriteSerializable</td><td>false</td><td>Map(numFiles -> 1, numOutputRows -> 13803, numOutputBytes -> 141901)</td><td>null</td><td>Databricks-Runtime/13.3.x-scala2.12</td></tr></tbody></table></div>"
      ]
     },
     "metadata": {
      "application/vnd.databricks.v1+output": {
       "addedWidgets": {},
       "aggData": [],
       "aggError": "",
       "aggOverflow": false,
       "aggSchema": [],
       "aggSeriesLimitReached": false,
       "aggType": "",
       "arguments": {},
       "columnCustomDisplayInfos": {},
       "data": [
        [
         0,
         "2023-11-21T15:51:35Z",
         "1311347395691033",
         "totnvt02@gmail.com",
         "WRITE",
         {
          "mode": "Overwrite",
          "partitionBy": "[]",
          "statsOnLoad": "false"
         },
         null,
         [
          "2204498048936660"
         ],
         "1121-120918-uq53wl18",
         null,
         "WriteSerializable",
         false,
         {
          "numFiles": "1",
          "numOutputBytes": "141901",
          "numOutputRows": "13803"
         },
         null,
         "Databricks-Runtime/13.3.x-scala2.12"
        ]
       ],
       "datasetInfos": [],
       "dbfsResultPath": null,
       "isJsonSchema": true,
       "metadata": {
        "dataframeName": "_sqldf",
        "executionCount": 6
       },
       "overflow": false,
       "plotOptions": {
        "customPlotOptions": {},
        "displayType": "table",
        "pivotAggregation": null,
        "pivotColumns": null,
        "xColumns": null,
        "yColumns": null
       },
       "removedWidgets": [],
       "schema": [
        {
         "metadata": "{}",
         "name": "version",
         "type": "\"long\""
        },
        {
         "metadata": "{}",
         "name": "timestamp",
         "type": "\"timestamp\""
        },
        {
         "metadata": "{}",
         "name": "userId",
         "type": "\"string\""
        },
        {
         "metadata": "{}",
         "name": "userName",
         "type": "\"string\""
        },
        {
         "metadata": "{}",
         "name": "operation",
         "type": "\"string\""
        },
        {
         "metadata": "{}",
         "name": "operationParameters",
         "type": "{\"type\":\"map\",\"keyType\":\"string\",\"valueType\":\"string\",\"valueContainsNull\":true}"
        },
        {
         "metadata": "{}",
         "name": "job",
         "type": "{\"type\":\"struct\",\"fields\":[{\"name\":\"jobId\",\"type\":\"string\",\"nullable\":true,\"metadata\":{}},{\"name\":\"jobName\",\"type\":\"string\",\"nullable\":true,\"metadata\":{}},{\"name\":\"jobRunId\",\"type\":\"string\",\"nullable\":true,\"metadata\":{}},{\"name\":\"runId\",\"type\":\"string\",\"nullable\":true,\"metadata\":{}},{\"name\":\"jobOwnerId\",\"type\":\"string\",\"nullable\":true,\"metadata\":{}},{\"name\":\"triggerType\",\"type\":\"string\",\"nullable\":true,\"metadata\":{}}]}"
        },
        {
         "metadata": "{}",
         "name": "notebook",
         "type": "{\"type\":\"struct\",\"fields\":[{\"name\":\"notebookId\",\"type\":\"string\",\"nullable\":true,\"metadata\":{}}]}"
        },
        {
         "metadata": "{}",
         "name": "clusterId",
         "type": "\"string\""
        },
        {
         "metadata": "{}",
         "name": "readVersion",
         "type": "\"long\""
        },
        {
         "metadata": "{}",
         "name": "isolationLevel",
         "type": "\"string\""
        },
        {
         "metadata": "{}",
         "name": "isBlindAppend",
         "type": "\"boolean\""
        },
        {
         "metadata": "{}",
         "name": "operationMetrics",
         "type": "{\"type\":\"map\",\"keyType\":\"string\",\"valueType\":\"string\",\"valueContainsNull\":true}"
        },
        {
         "metadata": "{}",
         "name": "userMetadata",
         "type": "\"string\""
        },
        {
         "metadata": "{}",
         "name": "engineInfo",
         "type": "\"string\""
        }
       ],
       "type": "table"
      }
     },
     "output_type": "display_data"
    }
   ],
   "source": [
    "%sql\n",
    "DESCRIBE HISTORY bronze.opening_gross;"
   ]
  },
  {
   "cell_type": "code",
   "execution_count": 0,
   "metadata": {
    "application/vnd.databricks.v1+cell": {
     "cellMetadata": {
      "byteLimit": 2048000,
      "rowLimit": 10000
     },
     "inputWidgets": {},
     "nuid": "0d13d9a9-f532-4ab4-9517-a15f89f835e2",
     "showTitle": false,
     "title": ""
    }
   },
   "outputs": [],
   "source": [
    "# Maintenance for Delta table\n",
    "\n",
    "# To optimized the performance of the Delta table, we need to excute 2 commands:\n",
    "# 1. optimize(): Optimize the number of files used to store the data\n",
    "# 2. vacuum(): Remove the old version of the data. This reduces the overhead but it limites the version we can go back to.\n",
    "opening_gross_DataDelta = DeltaTable.forName(spark, opening_gross_table)\n",
    "\n",
    "if opening_gross_DataDelta.history(30).filter(\"operation = 'VACUUM START'\").count() == 0:\n",
    "\topening_gross_DataDelta.optimize()\n",
    "\topening_gross_DataDelta.vacuum()"
   ]
  },
  {
   "cell_type": "code",
   "execution_count": 0,
   "metadata": {
    "application/vnd.databricks.v1+cell": {
     "cellMetadata": {
      "byteLimit": 2048000,
      "implicitDf": true,
      "rowLimit": 10000
     },
     "inputWidgets": {},
     "nuid": "ae17645e-760b-4ea1-82d2-db611fc44d67",
     "showTitle": false,
     "title": ""
    }
   },
   "outputs": [
    {
     "output_type": "display_data",
     "data": {
      "text/html": [
       "<style scoped>\n",
       "  .table-result-container {\n",
       "    max-height: 300px;\n",
       "    overflow: auto;\n",
       "  }\n",
       "  table, th, td {\n",
       "    border: 1px solid black;\n",
       "    border-collapse: collapse;\n",
       "  }\n",
       "  th, td {\n",
       "    padding: 5px;\n",
       "  }\n",
       "  th {\n",
       "    text-align: left;\n",
       "  }\n",
       "</style><div class='table-result-container'><table class='table-result'><thead style='background-color: white'><tr><th>version</th><th>timestamp</th><th>userId</th><th>userName</th><th>operation</th><th>operationParameters</th><th>job</th><th>notebook</th><th>clusterId</th><th>readVersion</th><th>isolationLevel</th><th>isBlindAppend</th><th>operationMetrics</th><th>userMetadata</th><th>engineInfo</th></tr></thead><tbody><tr><td>2</td><td>2023-11-21T15:51:49Z</td><td>1311347395691033</td><td>totnvt02@gmail.com</td><td>VACUUM END</td><td>Map(status -> COMPLETED)</td><td>null</td><td>List(2204498048936660)</td><td>1121-120918-uq53wl18</td><td>1</td><td>SnapshotIsolation</td><td>true</td><td>Map(numDeletedFiles -> 0, numVacuumedDirectories -> 1)</td><td>null</td><td>Databricks-Runtime/13.3.x-scala2.12</td></tr><tr><td>1</td><td>2023-11-21T15:51:46Z</td><td>1311347395691033</td><td>totnvt02@gmail.com</td><td>VACUUM START</td><td>Map(retentionCheckEnabled -> true, defaultRetentionMillis -> 604800000)</td><td>null</td><td>List(2204498048936660)</td><td>1121-120918-uq53wl18</td><td>0</td><td>SnapshotIsolation</td><td>true</td><td>Map(numFilesToDelete -> 0, sizeOfDataToDelete -> 0)</td><td>null</td><td>Databricks-Runtime/13.3.x-scala2.12</td></tr><tr><td>0</td><td>2023-11-21T15:51:35Z</td><td>1311347395691033</td><td>totnvt02@gmail.com</td><td>WRITE</td><td>Map(mode -> Overwrite, statsOnLoad -> false, partitionBy -> [])</td><td>null</td><td>List(2204498048936660)</td><td>1121-120918-uq53wl18</td><td>null</td><td>WriteSerializable</td><td>false</td><td>Map(numFiles -> 1, numOutputRows -> 13803, numOutputBytes -> 141901)</td><td>null</td><td>Databricks-Runtime/13.3.x-scala2.12</td></tr></tbody></table></div>"
      ]
     },
     "metadata": {
      "application/vnd.databricks.v1+output": {
       "addedWidgets": {},
       "aggData": [],
       "aggError": "",
       "aggOverflow": false,
       "aggSchema": [],
       "aggSeriesLimitReached": false,
       "aggType": "",
       "arguments": {},
       "columnCustomDisplayInfos": {},
       "data": [
        [
         2,
         "2023-11-21T15:51:49Z",
         "1311347395691033",
         "totnvt02@gmail.com",
         "VACUUM END",
         {
          "status": "COMPLETED"
         },
         null,
         [
          "2204498048936660"
         ],
         "1121-120918-uq53wl18",
         1,
         "SnapshotIsolation",
         true,
         {
          "numDeletedFiles": "0",
          "numVacuumedDirectories": "1"
         },
         null,
         "Databricks-Runtime/13.3.x-scala2.12"
        ],
        [
         1,
         "2023-11-21T15:51:46Z",
         "1311347395691033",
         "totnvt02@gmail.com",
         "VACUUM START",
         {
          "defaultRetentionMillis": "604800000",
          "retentionCheckEnabled": "true"
         },
         null,
         [
          "2204498048936660"
         ],
         "1121-120918-uq53wl18",
         0,
         "SnapshotIsolation",
         true,
         {
          "numFilesToDelete": "0",
          "sizeOfDataToDelete": "0"
         },
         null,
         "Databricks-Runtime/13.3.x-scala2.12"
        ],
        [
         0,
         "2023-11-21T15:51:35Z",
         "1311347395691033",
         "totnvt02@gmail.com",
         "WRITE",
         {
          "mode": "Overwrite",
          "partitionBy": "[]",
          "statsOnLoad": "false"
         },
         null,
         [
          "2204498048936660"
         ],
         "1121-120918-uq53wl18",
         null,
         "WriteSerializable",
         false,
         {
          "numFiles": "1",
          "numOutputBytes": "141901",
          "numOutputRows": "13803"
         },
         null,
         "Databricks-Runtime/13.3.x-scala2.12"
        ]
       ],
       "datasetInfos": [],
       "dbfsResultPath": null,
       "isJsonSchema": true,
       "metadata": {
        "dataframeName": "_sqldf",
        "executionCount": 8
       },
       "overflow": false,
       "plotOptions": {
        "customPlotOptions": {},
        "displayType": "table",
        "pivotAggregation": null,
        "pivotColumns": null,
        "xColumns": null,
        "yColumns": null
       },
       "removedWidgets": [],
       "schema": [
        {
         "metadata": "{}",
         "name": "version",
         "type": "\"long\""
        },
        {
         "metadata": "{}",
         "name": "timestamp",
         "type": "\"timestamp\""
        },
        {
         "metadata": "{}",
         "name": "userId",
         "type": "\"string\""
        },
        {
         "metadata": "{}",
         "name": "userName",
         "type": "\"string\""
        },
        {
         "metadata": "{}",
         "name": "operation",
         "type": "\"string\""
        },
        {
         "metadata": "{}",
         "name": "operationParameters",
         "type": "{\"type\":\"map\",\"keyType\":\"string\",\"valueType\":\"string\",\"valueContainsNull\":true}"
        },
        {
         "metadata": "{}",
         "name": "job",
         "type": "{\"type\":\"struct\",\"fields\":[{\"name\":\"jobId\",\"type\":\"string\",\"nullable\":true,\"metadata\":{}},{\"name\":\"jobName\",\"type\":\"string\",\"nullable\":true,\"metadata\":{}},{\"name\":\"jobRunId\",\"type\":\"string\",\"nullable\":true,\"metadata\":{}},{\"name\":\"runId\",\"type\":\"string\",\"nullable\":true,\"metadata\":{}},{\"name\":\"jobOwnerId\",\"type\":\"string\",\"nullable\":true,\"metadata\":{}},{\"name\":\"triggerType\",\"type\":\"string\",\"nullable\":true,\"metadata\":{}}]}"
        },
        {
         "metadata": "{}",
         "name": "notebook",
         "type": "{\"type\":\"struct\",\"fields\":[{\"name\":\"notebookId\",\"type\":\"string\",\"nullable\":true,\"metadata\":{}}]}"
        },
        {
         "metadata": "{}",
         "name": "clusterId",
         "type": "\"string\""
        },
        {
         "metadata": "{}",
         "name": "readVersion",
         "type": "\"long\""
        },
        {
         "metadata": "{}",
         "name": "isolationLevel",
         "type": "\"string\""
        },
        {
         "metadata": "{}",
         "name": "isBlindAppend",
         "type": "\"boolean\""
        },
        {
         "metadata": "{}",
         "name": "operationMetrics",
         "type": "{\"type\":\"map\",\"keyType\":\"string\",\"valueType\":\"string\",\"valueContainsNull\":true}"
        },
        {
         "metadata": "{}",
         "name": "userMetadata",
         "type": "\"string\""
        },
        {
         "metadata": "{}",
         "name": "engineInfo",
         "type": "\"string\""
        }
       ],
       "type": "table"
      }
     },
     "output_type": "display_data"
    }
   ],
   "source": [
    "%sql\n",
    "DESCRIBE HISTORY bronze.opening_gross;"
   ]
  }
 ],
 "metadata": {
  "application/vnd.databricks.v1+notebook": {
   "dashboards": [],
   "language": "python",
   "notebookMetadata": {
    "mostRecentlyExecutedCommandWithImplicitDF": {
     "commandId": 2204498048936670,
     "dataframes": [
      "_sqldf"
     ]
    },
    "pythonIndentUnit": 4
   },
   "notebookName": "11. bronze_opening_weekend_gross",
   "widgets": {}
  }
 },
 "nbformat": 4,
 "nbformat_minor": 0
}
