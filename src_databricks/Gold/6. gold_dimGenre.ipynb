{
 "cells": [
  {
   "cell_type": "code",
   "execution_count": 0,
   "metadata": {
    "application/vnd.databricks.v1+cell": {
     "cellMetadata": {
      "byteLimit": 2048000,
      "rowLimit": 10000
     },
     "inputWidgets": {},
     "nuid": "d4539e42-8c2d-4656-89bf-c20091cef340",
     "showTitle": false,
     "title": ""
    }
   },
   "outputs": [],
   "source": [
    "# configs = {\"fs.azure.account.key.storage001de.blob.core.windows.net\": \"MA38y0ZA2Ij1L3QXl/F/Y8EGXR1VjTGb896PNbUmPT99uhVLoi0qCEiBEBagBQ4yscqwq9Zxb0vX+AStlr0Z3Q==\"}\n",
    "\n",
    "# # create mount to silver\n",
    "# dbutils.fs.mount(\n",
    "# \tsource = \"wasbs://silver@storage001de.blob.core.windows.net/\",\n",
    "# \tmount_point = \"/mnt/datalake/silver\",\n",
    "# \textra_configs = configs\n",
    "# )"
   ]
  },
  {
   "cell_type": "code",
   "execution_count": 0,
   "metadata": {
    "application/vnd.databricks.v1+cell": {
     "cellMetadata": {
      "byteLimit": 2048000,
      "rowLimit": 10000
     },
     "inputWidgets": {},
     "nuid": "f6b590a7-1257-4cb5-ba82-4cde9ae3ffa1",
     "showTitle": false,
     "title": ""
    }
   },
   "outputs": [
    {
     "output_type": "stream",
     "name": "stdout",
     "output_type": "stream",
     "text": [
      "+---+-----------+\n| id|       name|\n+---+-----------+\n|  1|     Action|\n|  2|      Adult|\n|  3|  Adventure|\n|  4|  Animation|\n|  5|  Biography|\n|  6|     Comedy|\n|  7|      Crime|\n|  8|Documentary|\n|  9|      Drama|\n| 10|     Family|\n| 11|    Fantasy|\n| 12|  Film-Noir|\n| 13|  Game-Show|\n| 14|    History|\n| 15|     Horror|\n| 16|      Music|\n| 17|    Musical|\n| 18|    Mystery|\n| 19|       News|\n| 20| Reality-TV|\n+---+-----------+\nonly showing top 20 rows\n\n"
     ]
    }
   ],
   "source": [
    "genre_df = spark.read.table('silver.genre_dw')\n",
    "genre_df.show()"
   ]
  },
  {
   "cell_type": "code",
   "execution_count": 0,
   "metadata": {
    "application/vnd.databricks.v1+cell": {
     "cellMetadata": {
      "byteLimit": 2048000,
      "rowLimit": 10000
     },
     "inputWidgets": {},
     "nuid": "f165bc4a-171b-475d-9a48-1f57fbc226f8",
     "showTitle": false,
     "title": ""
    }
   },
   "outputs": [],
   "source": [
    "from delta.tables import *\n",
    "from pyspark.sql.functions import col, substring\n",
    "\n",
    "# Define the silver location\n",
    "genre_goldLocation = \"/mnt/datalake/gold/dim_genre\"\n",
    "\n",
    "# Table name\n",
    "genre_goldTable = \"gold.Dim_Genre\"\n",
    "\n",
    "genre_df.write.mode(\"overwrite\").format(\"delta\").option(\"overwriteSchema\", \"true\").save(genre_goldLocation)"
   ]
  },
  {
   "cell_type": "code",
   "execution_count": 0,
   "metadata": {
    "application/vnd.databricks.v1+cell": {
     "cellMetadata": {
      "byteLimit": 2048000,
      "rowLimit": 10000
     },
     "inputWidgets": {},
     "nuid": "bfbaa782-3842-4ba3-b93d-3ade72f0fb2d",
     "showTitle": false,
     "title": ""
    }
   },
   "outputs": [
    {
     "output_type": "execute_result",
     "data": {
      "text/plain": [
       "DataFrame[]"
      ]
     },
     "execution_count": 4,
     "metadata": {},
     "output_type": "execute_result"
    }
   ],
   "source": [
    "spark.sql(f\"CREATE EXTERNAL TABLE IF NOT EXISTS {genre_goldTable} USING delta LOCATION '{genre_goldLocation}'\")"
   ]
  },
  {
   "cell_type": "code",
   "execution_count": 0,
   "metadata": {
    "application/vnd.databricks.v1+cell": {
     "cellMetadata": {
      "byteLimit": 2048000,
      "rowLimit": 10000
     },
     "inputWidgets": {},
     "nuid": "e56044eb-5af1-4fc6-9e5d-4002f7172b23",
     "showTitle": false,
     "title": ""
    }
   },
   "outputs": [],
   "source": [
    "# Maintenance for Delta table\n",
    "genre_DataDelta = DeltaTable.forName(spark, genre_goldTable)\n",
    "\n",
    "if genre_DataDelta.history(30).filter(\"operation = 'VACUUM START'\").count() == 0:\n",
    "\tgenre_DataDelta.optimize()\n",
    "\tgenre_DataDelta.vacuum()\n"
   ]
  },
  {
   "cell_type": "code",
   "execution_count": 0,
   "metadata": {
    "application/vnd.databricks.v1+cell": {
     "cellMetadata": {
      "byteLimit": 2048000,
      "implicitDf": true,
      "rowLimit": 10000
     },
     "inputWidgets": {},
     "nuid": "52b5ece7-0644-4cd7-a648-fbe0691071f0",
     "showTitle": false,
     "title": ""
    }
   },
   "outputs": [
    {
     "output_type": "display_data",
     "data": {
      "text/html": [
       "<style scoped>\n",
       "  .table-result-container {\n",
       "    max-height: 300px;\n",
       "    overflow: auto;\n",
       "  }\n",
       "  table, th, td {\n",
       "    border: 1px solid black;\n",
       "    border-collapse: collapse;\n",
       "  }\n",
       "  th, td {\n",
       "    padding: 5px;\n",
       "  }\n",
       "  th {\n",
       "    text-align: left;\n",
       "  }\n",
       "</style><div class='table-result-container'><table class='table-result'><thead style='background-color: white'><tr><th>id</th><th>name</th></tr></thead><tbody><tr><td>1</td><td>Action</td></tr><tr><td>2</td><td>Adult</td></tr><tr><td>3</td><td>Adventure</td></tr><tr><td>4</td><td>Animation</td></tr><tr><td>5</td><td>Biography</td></tr><tr><td>6</td><td>Comedy</td></tr><tr><td>7</td><td>Crime</td></tr><tr><td>8</td><td>Documentary</td></tr><tr><td>9</td><td>Drama</td></tr><tr><td>10</td><td>Family</td></tr><tr><td>11</td><td>Fantasy</td></tr><tr><td>12</td><td>Film-Noir</td></tr><tr><td>13</td><td>Game-Show</td></tr><tr><td>14</td><td>History</td></tr><tr><td>15</td><td>Horror</td></tr><tr><td>16</td><td>Music</td></tr><tr><td>17</td><td>Musical</td></tr><tr><td>18</td><td>Mystery</td></tr><tr><td>19</td><td>News</td></tr><tr><td>20</td><td>Reality-TV</td></tr><tr><td>21</td><td>Romance</td></tr><tr><td>22</td><td>Sci-Fi</td></tr><tr><td>23</td><td>Short</td></tr><tr><td>24</td><td>Sport</td></tr><tr><td>25</td><td>Talk-Show</td></tr><tr><td>26</td><td>Thriller</td></tr><tr><td>27</td><td>War</td></tr><tr><td>28</td><td>Western</td></tr></tbody></table></div>"
      ]
     },
     "metadata": {
      "application/vnd.databricks.v1+output": {
       "addedWidgets": {},
       "aggData": [],
       "aggError": "",
       "aggOverflow": false,
       "aggSchema": [],
       "aggSeriesLimitReached": false,
       "aggType": "",
       "arguments": {},
       "columnCustomDisplayInfos": {},
       "data": [
        [
         1,
         "Action"
        ],
        [
         2,
         "Adult"
        ],
        [
         3,
         "Adventure"
        ],
        [
         4,
         "Animation"
        ],
        [
         5,
         "Biography"
        ],
        [
         6,
         "Comedy"
        ],
        [
         7,
         "Crime"
        ],
        [
         8,
         "Documentary"
        ],
        [
         9,
         "Drama"
        ],
        [
         10,
         "Family"
        ],
        [
         11,
         "Fantasy"
        ],
        [
         12,
         "Film-Noir"
        ],
        [
         13,
         "Game-Show"
        ],
        [
         14,
         "History"
        ],
        [
         15,
         "Horror"
        ],
        [
         16,
         "Music"
        ],
        [
         17,
         "Musical"
        ],
        [
         18,
         "Mystery"
        ],
        [
         19,
         "News"
        ],
        [
         20,
         "Reality-TV"
        ],
        [
         21,
         "Romance"
        ],
        [
         22,
         "Sci-Fi"
        ],
        [
         23,
         "Short"
        ],
        [
         24,
         "Sport"
        ],
        [
         25,
         "Talk-Show"
        ],
        [
         26,
         "Thriller"
        ],
        [
         27,
         "War"
        ],
        [
         28,
         "Western"
        ]
       ],
       "datasetInfos": [],
       "dbfsResultPath": null,
       "isJsonSchema": true,
       "metadata": {
        "dataframeName": "_sqldf",
        "executionCount": 6
       },
       "overflow": false,
       "plotOptions": {
        "customPlotOptions": {},
        "displayType": "table",
        "pivotAggregation": null,
        "pivotColumns": null,
        "xColumns": null,
        "yColumns": null
       },
       "removedWidgets": [],
       "schema": [
        {
         "metadata": "{\"scale\":0}",
         "name": "id",
         "type": "\"integer\""
        },
        {
         "metadata": "{\"__CHAR_VARCHAR_TYPE_STRING\":\"varchar(255)\",\"scale\":0}",
         "name": "name",
         "type": "\"string\""
        }
       ],
       "type": "table"
      }
     },
     "output_type": "display_data"
    }
   ],
   "source": [
    "%sql \n",
    "select * from gold.dim_genre"
   ]
  }
 ],
 "metadata": {
  "application/vnd.databricks.v1+notebook": {
   "dashboards": [],
   "language": "python",
   "notebookMetadata": {
    "mostRecentlyExecutedCommandWithImplicitDF": {
     "commandId": 4283155382243418,
     "dataframes": [
      "_sqldf"
     ]
    },
    "pythonIndentUnit": 4
   },
   "notebookName": "6. gold_dimGenre",
   "widgets": {}
  }
 },
 "nbformat": 4,
 "nbformat_minor": 0
}
